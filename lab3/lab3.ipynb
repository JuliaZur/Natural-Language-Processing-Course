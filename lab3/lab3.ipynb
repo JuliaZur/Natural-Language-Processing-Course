{
 "cells": [
  {
   "cell_type": "markdown",
   "metadata": {},
   "source": [
    "# Levenshtein distance and spelling corrections\n"
   ]
  },
  {
   "cell_type": "code",
   "execution_count": 98,
   "metadata": {},
   "outputs": [],
   "source": [
    "from spacy.tokenizer import Tokenizer\n",
    "from spacy.lang.pl import Polish\n",
    "import os\n",
    "import numpy as np\n",
    "import matplotlib.pyplot as plt\n",
    "from Levenshtein import distance\n",
    "import time\n",
    "import itertools\n",
    "from elasticsearch import Elasticsearch, helpers\n",
    "from statistics import mean "
   ]
  },
  {
   "cell_type": "code",
   "execution_count": 24,
   "metadata": {},
   "outputs": [],
   "source": [
    "nlp = Polish()"
   ]
  },
  {
   "cell_type": "code",
   "execution_count": 25,
   "metadata": {},
   "outputs": [],
   "source": [
    "tokenizer = Tokenizer(nlp.vocab)"
   ]
  },
  {
   "cell_type": "code",
   "execution_count": 26,
   "metadata": {},
   "outputs": [],
   "source": [
    "files_names = []\n",
    "\n",
    "for file_name in os.listdir('../../ustawy'):\n",
    "    if file_name.endswith('.txt'):\n",
    "        files_names.append(os.path.join(\"../../ustawy\", file_name))"
   ]
  },
  {
   "cell_type": "code",
   "execution_count": 27,
   "metadata": {},
   "outputs": [],
   "source": [
    "frequency_list = []\n",
    "\n",
    "for file_name in files_names:\n",
    "    with open(file_name, encoding='utf-8') as file:\n",
    "        doc = file.read()\n",
    "        doc = doc.lower()\n",
    "        tokens = tokenizer(doc)\n",
    "        doc_tokens = {\n",
    "            'file_name' : file_name,\n",
    "            'tokens_with_frequency' : {}\n",
    "        }\n",
    "        \n",
    "        for token in tokens:\n",
    "            doc_tokens['tokens_with_frequency'][token.text] = doc_tokens['tokens_with_frequency'].get(token.text, 0) + 1\n",
    "            \n",
    "        frequency_list.append(doc_tokens)"
   ]
  },
  {
   "cell_type": "markdown",
   "metadata": {},
   "source": [
    "Stworzyłam listę, w której zawarte są słowniki zawierające nazwę pliku ustawy oraz słownik tokenów zawierający odzwierciedlenie tokenu (słowa) na liczbę wystąpień tokenu."
   ]
  },
  {
   "cell_type": "code",
   "execution_count": 28,
   "metadata": {},
   "outputs": [],
   "source": [
    "global_frequency_list = {}\n",
    "\n",
    "for file_list in frequency_list:\n",
    "    for token, frequency in file_list['tokens_with_frequency'].items():\n",
    "        if len(token) >= 2 and token.isalpha():\n",
    "            global_frequency_list[token] = global_frequency_list.get(token, 0) + frequency"
   ]
  },
  {
   "cell_type": "markdown",
   "metadata": {},
   "source": [
    "Zamieniłam listę na pojedynczy globalny słownik mający jako klucze tokeny, a jako wartości liczbę wystąpień danego tokenu. Równocześnie przy zliczaniu tokenów i wkładaniu ich do nowego słownika usuwam wyrazy krótsze niż 2 litery oraz wszystkie nie alfanumeryczne znaki (polskie znaki zostały)."
   ]
  },
  {
   "cell_type": "code",
   "execution_count": 29,
   "metadata": {},
   "outputs": [],
   "source": [
    "global_frequency_list_sorted_by_name = {k: v for k, v in sorted(global_frequency_list.items(), key= lambda item: item[0])}"
   ]
  },
  {
   "cell_type": "code",
   "execution_count": 30,
   "metadata": {},
   "outputs": [],
   "source": [
    "global_frequency_list_sorted = {k: v for k, v in sorted(global_frequency_list_sorted_by_name.items(), key= lambda item: item[1], reverse=True)}"
   ]
  },
  {
   "cell_type": "markdown",
   "metadata": {},
   "source": [
    "Aby poprawnie posortować słownik wykonałam najpierw sortowanie alfabetyczne, a potem po ilości wystąpień tokenu."
   ]
  },
  {
   "cell_type": "code",
   "execution_count": 31,
   "metadata": {},
   "outputs": [],
   "source": [
    "x = list(range(len(global_frequency_list_sorted.keys())))"
   ]
  },
  {
   "cell_type": "code",
   "execution_count": 32,
   "metadata": {},
   "outputs": [],
   "source": [
    "y = list(global_frequency_list_sorted.values())"
   ]
  },
  {
   "cell_type": "code",
   "execution_count": 33,
   "metadata": {},
   "outputs": [
    {
     "data": {
      "image/png": "[encoded data removed]",
      "text/plain": [
       "<Figure size 432x288 with 1 Axes>"
      ]
     },
     "metadata": {
      "needs_background": "light"
     },
     "output_type": "display_data"
    }
   ],
   "source": [
    "plt.figure()\n",
    "plt.plot(x, y)\n",
    "plt.yscale('log')\n",
    "plt.title('Number of occurences(rank of token)')\n",
    "plt.show()"
   ]
  },
  {
   "cell_type": "markdown",
   "metadata": {},
   "source": [
    "Można zauważyć, że liczba wystąpień wyrazów spada ostro na początku, a później stopniowo wypłaszcza się."
   ]
  },
  {
   "cell_type": "code",
   "execution_count": 34,
   "metadata": {},
   "outputs": [],
   "source": [
    "polimorfologik_dict = {}"
   ]
  },
  {
   "cell_type": "code",
   "execution_count": 35,
   "metadata": {},
   "outputs": [],
   "source": [
    "with open('../../polimorfologik-2/polimorfologik-2.1.txt', 'r') as dict_f:\n",
    "    for line in dict_f:\n",
    "        l_content = line.split(';')\n",
    "        polimorfologik_dict[l_content[0]] = polimorfologik_dict.get(l_content[0], []) + [l_content[1].lower()]"
   ]
  },
  {
   "cell_type": "markdown",
   "metadata": {},
   "source": [
    "Wczytuję wyrazy do słownika, aby uniknąć powtarzających się form."
   ]
  },
  {
   "cell_type": "code",
   "execution_count": 69,
   "metadata": {},
   "outputs": [],
   "source": [
    "polimorfologik_list = [[k] + v for k,v in polimorfologik_dict.items()]\n",
    "polimorfologik_list = list(itertools.chain.from_iterable(polimorfologik_list))"
   ]
  },
  {
   "cell_type": "markdown",
   "metadata": {},
   "source": [
    "Wykonałam spłaszczenie zagnieżdżonych list."
   ]
  },
  {
   "cell_type": "markdown",
   "metadata": {},
   "source": [
    "### 30 słów o największej liczbie wystąpień, którch nie ma w słowniku Polimorfologik"
   ]
  },
  {
   "cell_type": "code",
   "execution_count": 71,
   "metadata": {},
   "outputs": [
    {
     "name": "stdout",
     "output_type": "stream",
     "text": [
      "gmo 192\n",
      "skw 184\n",
      "sa 182\n",
      "ex 155\n",
      "iv 148\n",
      "ike 116\n",
      "vi 87\n",
      "kn 84\n",
      "cn 77\n",
      "uke 74\n",
      "ure 74\n",
      "sww 72\n",
      "vii 64\n",
      "phs 52\n",
      "udt 52\n",
      "remediacji 51\n",
      "bswsg 42\n",
      "bswp 39\n",
      "viii 34\n",
      "pkwiu 29\n",
      "fep 27\n",
      "ix 27\n",
      "pcn 27\n",
      "ose 26\n",
      "uokik 26\n",
      "doręczeń 25\n",
      "frd 25\n",
      "plk 25\n",
      "inulinowego 24\n",
      "xi 24\n"
     ]
    }
   ],
   "source": [
    "i = 0\n",
    "tokens_not_found = []\n",
    "\n",
    "for token, freq in global_frequency_list_sorted.items():\n",
    "    if token.lower() not in polimorfologik_list:\n",
    "        i += 1\n",
    "        tokens_not_found.append(token)\n",
    "        print(token + ' ' + str(freq))\n",
    "    if i == 30:\n",
    "        break"
   ]
  },
  {
   "cell_type": "markdown",
   "metadata": {},
   "source": [
    "### 30 słów liczbie wystąpień równej 5, którch nie ma w słowniku Polimorfologik"
   ]
  },
  {
   "cell_type": "code",
   "execution_count": 75,
   "metadata": {},
   "outputs": [
    {
     "name": "stdout",
     "output_type": "stream",
     "text": [
      "agave 5\n",
      "ami 5\n",
      "anonimizacji 5\n",
      "badawczorozwojowych 5\n",
      "dostosowań 5\n",
      "iib 5\n",
      "izobutyl 5\n",
      "jed 5\n",
      "ktrej 5\n",
      "najmnie 5\n",
      "naliczeń 5\n",
      "nawodnień 5\n",
      "nawozw 5\n",
      "nfośigw 5\n",
      "nusp 5\n",
      "odgazowywacze 5\n",
      "odwzorowań 5\n",
      "ośc 5\n",
      "poddziałań 5\n",
      "ponadzakładowym 5\n",
      "pozaaptecznego 5\n",
      "ppkt 5\n",
      "przepisw 5\n",
      "próbobiorców 5\n",
      "regazyfikacyjnego 5\n",
      "rekapitalizacyjnej 5\n",
      "rozmnożeń 5\n",
      "sanitarnoepidemiologicznych 5\n",
      "sposb 5\n",
      "teryto 5\n"
     ]
    }
   ],
   "source": [
    "i = 0\n",
    "tokens_not_found_freq5 = []\n",
    "global_frequency_list_sorted_5 = {k: v for k, v in global_frequency_list_sorted.items() if v == 5}\n",
    "\n",
    "for token, freq in global_frequency_list_sorted_5.items():\n",
    "    if token.lower() not in polimorfologik_list:\n",
    "        i += 1\n",
    "        tokens_not_found_freq5.append(token)\n",
    "        print(token + ' ' + str(freq))\n",
    "    if i == 30:\n",
    "        break"
   ]
  },
  {
   "cell_type": "code",
   "execution_count": 76,
   "metadata": {},
   "outputs": [],
   "source": [
    "def correctLevenshtein(word, max_distance=2, max_corrections=5):\n",
    "    found = 1\n",
    "    corrections = []\n",
    "    for token in global_frequency_list_sorted.keys():\n",
    "        if distance(token.lower(), word.lower()) <= max_distance:\n",
    "            found += 1\n",
    "            corrections.append(token)\n",
    "        if found == max_corrections:\n",
    "            break\n",
    "    return corrections"
   ]
  },
  {
   "cell_type": "code",
   "execution_count": 92,
   "metadata": {},
   "outputs": [
    {
     "name": "stdout",
     "output_type": "stream",
     "text": [
      "agave - Time(0.083 s)\n",
      "\n",
      "agave\n",
      "\n",
      "\n",
      "ami - Time(0.001 s)\n",
      "\n",
      "dni\n",
      "ma\n",
      "mu\n",
      "ani\n",
      "\n",
      "\n",
      "anonimizacji - Time(0.059 s)\n",
      "\n",
      "anonimizacji\n",
      "\n",
      "\n",
      "badawczorozwojowych - Time(0.067 s)\n",
      "\n",
      "badawczorozwojowych\n",
      "badawczorozwojowymi\n",
      "\n",
      "\n",
      "dostosowań - Time(0.021 s)\n",
      "\n",
      "dostosować\n",
      "dostosowane\n",
      "zastosowań\n",
      "dostosowany\n",
      "\n",
      "\n",
      "iib - Time(0.0 s)\n",
      "\n",
      "lub\n",
      "się\n",
      "nie\n",
      "ich\n",
      "\n",
      "\n",
      "izobutyl - Time(0.049 s)\n",
      "\n",
      "izobutyl\n",
      "izobutylid\n",
      "izobuty\n",
      "izobutyli\n",
      "\n",
      "\n",
      "jed - Time(0.0 s)\n",
      "\n",
      "od\n",
      "jest\n",
      "jego\n",
      "ze\n",
      "\n",
      "\n",
      "ktrej - Time(0.003 s)\n",
      "\n",
      "której\n",
      "które\n",
      "tej\n",
      "karnej\n",
      "\n",
      "\n",
      "najmnie - Time(0.024 s)\n",
      "\n",
      "najmniej\n",
      "nadanie\n",
      "najmie\n",
      "najmnie\n",
      "\n",
      "\n",
      "naliczeń - Time(0.016 s)\n",
      "\n",
      "odliczeń\n",
      "zaliczek\n",
      "nalicza\n",
      "obliczeń\n",
      "\n",
      "\n",
      "nawodnień - Time(0.077 s)\n",
      "\n",
      "odwodnień\n",
      "nawodnień\n",
      "\n",
      "\n",
      "nawozw - Time(0.005 s)\n",
      "\n",
      "nawóz\n",
      "nawozu\n",
      "nawozy\n",
      "nawozów\n",
      "\n",
      "\n",
      "nfośigw - Time(0.055 s)\n",
      "\n",
      "nfośigw\n",
      "\n",
      "\n",
      "nusp - Time(0.006 s)\n",
      "\n",
      "nbp\n",
      "musi\n",
      "ust\n",
      "nip\n",
      "\n",
      "\n",
      "odgazowywacze - Time(0.062 s)\n",
      "\n",
      "odgazowywacze\n",
      "\n",
      "\n",
      "odwzorowań - Time(0.07 s)\n",
      "\n",
      "odwzorowań\n",
      "\n",
      "\n",
      "ośc - Time(0.001 s)\n",
      "\n",
      "od\n",
      "moc\n",
      "on\n",
      "one\n",
      "\n",
      "\n",
      "poddziałań - Time(0.069 s)\n",
      "\n",
      "poddziałań\n",
      "\n",
      "\n",
      "ponadzakładowym - Time(0.028 s)\n",
      "\n",
      "ponadzakładowy\n",
      "ponadzakładowych\n",
      "ponadzakładowa\n",
      "ponadzakładowe\n",
      "\n",
      "\n",
      "pozaaptecznego - Time(0.069 s)\n",
      "\n",
      "pozaaptecznego\n",
      "\n",
      "\n",
      "ppkt - Time(0.004 s)\n",
      "\n",
      "pkt\n",
      "akt\n",
      "pkp\n",
      "fakt\n",
      "\n",
      "\n",
      "przepisw - Time(0.0 s)\n",
      "\n",
      "przepisy\n",
      "przepisów\n",
      "przepis\n",
      "przepisu\n",
      "\n",
      "\n",
      "próbobiorców - Time(0.065 s)\n",
      "\n",
      "próbobiorców\n",
      "próbobiorcom\n",
      "\n",
      "\n",
      "regazyfikacyjnego - Time(0.071 s)\n",
      "\n",
      "regazyfikacyjnego\n",
      "\n",
      "\n",
      "rekapitalizacyjnej - Time(0.064 s)\n",
      "\n",
      "rekapitalizacyjnej\n",
      "\n",
      "\n",
      "rozmnożeń - Time(0.062 s)\n",
      "\n",
      "rozmnożeń\n",
      "\n",
      "\n",
      "sanitarnoepidemiologicznych - Time(0.078 s)\n",
      "\n",
      "sanitarnoepidemiologicznych\n",
      "\n",
      "\n",
      "sposb - Time(0.002 s)\n",
      "\n",
      "sposób\n",
      "sposobu\n",
      "sposoby\n",
      "spisu\n",
      "\n",
      "\n",
      "teryto - Time(0.05 s)\n",
      "\n",
      "tery\n",
      "teryto\n",
      "\n",
      "\n"
     ]
    }
   ],
   "source": [
    "correction_times = []\n",
    "for word in tokens_not_found_freq5:\n",
    "    start = time.time()\n",
    "    corrections = correctLevenshtein(word)\n",
    "    end = time.time()\n",
    "    t = round(end-start, 3)\n",
    "    correction_times.append(t)\n",
    "    print(word + ' - Time(' + str(t) + ' s)\\n')\n",
    "    for correction in corrections:\n",
    "        print(correction)\n",
    "    print('\\n')"
   ]
  },
  {
   "cell_type": "markdown",
   "metadata": {},
   "source": [
    "## ElasticSearch"
   ]
  },
  {
   "cell_type": "code",
   "execution_count": 82,
   "metadata": {},
   "outputs": [],
   "source": [
    "es = Elasticsearch([{'host': 'localhost', 'port': 9200}])"
   ]
  },
  {
   "cell_type": "code",
   "execution_count": 83,
   "metadata": {},
   "outputs": [
    {
     "data": {
      "text/plain": [
       "{'acknowledged': True,\n",
       " 'shards_acknowledged': True,\n",
       " 'index': 'autocorrection_index'}"
      ]
     },
     "execution_count": 83,
     "metadata": {},
     "output_type": "execute_result"
    }
   ],
   "source": [
    "es.indices.create(\n",
    "    index='autocorrection_index',\n",
    "    body={\n",
    "        \"settings\": {\n",
    "            \"analysis\": {\n",
    "                \"analyzer\": {\n",
    "                    \"default\": {\n",
    "                        \"type\": \"custom\",\n",
    "                        \"tokenizer\": \"keyword\"\n",
    "                    }\n",
    "                }\n",
    "            }\n",
    "        }\n",
    "    }\n",
    ")"
   ]
  },
  {
   "cell_type": "code",
   "execution_count": 84,
   "metadata": {},
   "outputs": [
    {
     "data": {
      "text/plain": [
       "(48909, [])"
      ]
     },
     "execution_count": 84,
     "metadata": {},
     "output_type": "execute_result"
    }
   ],
   "source": [
    "query = []\n",
    "for word in global_frequency_list_sorted:\n",
    "    body = {\n",
    "        '_index': 'autocorrection_index',\n",
    "        'word': word\n",
    "    }\n",
    "    query.append(body)\n",
    "helpers.bulk(es, query)"
   ]
  },
  {
   "cell_type": "markdown",
   "metadata": {},
   "source": [
    "### Fuzzy matching "
   ]
  },
  {
   "cell_type": "code",
   "execution_count": 93,
   "metadata": {},
   "outputs": [
    {
     "name": "stdout",
     "output_type": "stream",
     "text": [
      "agave - 0.0151s: \n",
      "agave\n",
      "\n",
      "ami - 0.0069s: \n",
      "ami\n",
      "ani\n",
      "sami\n",
      "amo\n",
      "amid\n",
      "\n",
      "anonimizacji - 0.0111s: \n",
      "anonimizacji\n",
      "\n",
      "badawczorozwojowych - 0.0112s: \n",
      "badawczorozwojowych\n",
      "badawczorozwojowymi\n",
      "\n",
      "dostosowań - 0.0114s: \n",
      "dostosowań\n",
      "dostosować\n",
      "dostosowane\n",
      "zastosowań\n",
      "dostosowany\n",
      "\n",
      "iib - 0.0052s: \n",
      "iib\n",
      "iii\n",
      "izb\n",
      "iia\n",
      "iiib\n",
      "\n",
      "izobutyl - 0.0082s: \n",
      "izobutyl\n",
      "izobutyli\n",
      "izobuty\n",
      "izobutylid\n",
      "\n",
      "jed - 0.0095s: \n",
      "jed\n",
      "jej\n",
      "jeż\n",
      "je\n",
      "\n",
      "ktrej - 0.0059s: \n",
      "ktrej\n",
      "której\n",
      "ktre\n",
      "\n",
      "najmnie - 0.0078s: \n",
      "najmnie\n",
      "najmniej\n",
      "najmie\n",
      "najmni\n",
      "nadanie\n",
      "\n",
      "naliczeń - 0.013s: \n",
      "naliczeń\n",
      "zaliczeń\n",
      "odliczeń\n",
      "zaliczek\n",
      "obliczeń\n",
      "\n",
      "nawodnień - 0.011s: \n",
      "nawodnień\n",
      "odwodnień\n",
      "\n",
      "nawozw - 0.0084s: \n",
      "nawozw\n",
      "nawozu\n",
      "nawozy\n",
      "nawozów\n",
      "nawozo\n",
      "\n",
      "nfośigw - 0.0103s: \n",
      "nfośigw\n",
      "\n",
      "nusp - 0.0042s: \n",
      "nusp\n",
      "\n",
      "odgazowywacze - 0.0093s: \n",
      "odgazowywacze\n",
      "\n",
      "odwzorowań - 0.0111s: \n",
      "odwzorowań\n",
      "\n",
      "ośc - 0.005s: \n",
      "ośc\n",
      "ości\n",
      "ość\n",
      "oś\n",
      "\n",
      "poddziałań - 0.011s: \n",
      "poddziałań\n",
      "\n",
      "ponadzakładowym - 0.0177s: \n",
      "ponadzakładowym\n",
      "ponadzakładowymi\n",
      "ponadzakładowy\n",
      "ponadzakładowych\n",
      "ponadzakładowej\n",
      "\n",
      "pozaaptecznego - 0.0095s: \n",
      "pozaaptecznego\n",
      "\n",
      "ppkt - 0.0056s: \n",
      "ppkt\n",
      "pakt\n",
      "pkt\n",
      "\n",
      "przepisw - 0.0148s: \n",
      "przepisw\n",
      "przepisy\n",
      "przepisów\n",
      "przepisu\n",
      "przepis\n",
      "\n",
      "próbobiorców - 0.0183s: \n",
      "próbobiorców\n",
      "próbobiorcom\n",
      "\n",
      "regazyfikacyjnego - 0.0103s: \n",
      "regazyfikacyjnego\n",
      "\n",
      "rekapitalizacyjnej - 0.0107s: \n",
      "rekapitalizacyjnej\n",
      "\n",
      "rozmnożeń - 0.0095s: \n",
      "rozmnożeń\n",
      "\n",
      "sanitarnoepidemiologicznych - 0.0134s: \n",
      "sanitarnoepidemiologicznych\n",
      "\n",
      "sposb - 0.0043s: \n",
      "sposb\n",
      "sposób\n",
      "\n",
      "teryto - 0.0062s: \n",
      "teryto\n",
      "tery\n",
      "\n"
     ]
    }
   ],
   "source": [
    "correction_times_es = []\n",
    "for word in tokens_not_found_freq5:\n",
    "    f_search = {\n",
    "        'query':{\n",
    "            'fuzzy':{\n",
    "                'word': word\n",
    "            },\n",
    "        }\n",
    "    }\n",
    "    start = time.time()\n",
    "    corrections = es.search(index='autocorrection_index', body=f_search)\n",
    "    end = time.time()\n",
    "    t = round(end-start, 4)\n",
    "    correction_times_es.append(t)\n",
    "    print(word + ' - ' + str(t) + 's: ')\n",
    "    for correction in corrections['hits']['hits'][:5]:\n",
    "        print(correction['_source']['word'])\n",
    "    print()"
   ]
  },
  {
   "cell_type": "markdown",
   "metadata": {},
   "source": [
    "## Results comparison"
   ]
  },
  {
   "cell_type": "markdown",
   "metadata": {},
   "source": [
    "#### the distribution of words in the corpus"
   ]
  },
  {
   "cell_type": "markdown",
   "metadata": {},
   "source": [
    "Dystrybucja słów w ustawach:\n",
    "na wykresie można zauważyć, że występuje ok. 10 000 słów powtarzających się częściej niż 100 razy. Zatem słów powtarzających się bardzo dużo razy jest stosunkowo niewiele. Natomiast w przypadku słów powtarzających się kilka razy im jest mniej powtórzeń tym więcej słów w tej grupie (stąd schodkowy wykres z wydłużającym się stopniem)."
   ]
  },
  {
   "cell_type": "markdown",
   "metadata": {},
   "source": [
    "#### the number of true misspellings vs. the number of unknown words"
   ]
  },
  {
   "cell_type": "markdown",
   "metadata": {},
   "source": [
    "W większości przypadków wśród znalezionych słów znajdują się słowa nieznane słownikowi. Są to między innymi skróty np. gmo czy cyfry rzymskie np. viii. Natomiast przy słowach o frekwencji równej 5 znalazło się trochę więcej słów z literówkami np. ktrej lub najmnie. Literówki, jeśli już się zdarzają, to raczej występują z niską frekwencją."
   ]
  },
  {
   "cell_type": "markdown",
   "metadata": {},
   "source": [
    "#### the performance of your method compared to ElasitcSearch"
   ]
  },
  {
   "cell_type": "code",
   "execution_count": 101,
   "metadata": {},
   "outputs": [
    {
     "name": "stdout",
     "output_type": "stream",
     "text": [
      "My method mean time: 0.0387 s\n",
      "ES mean time: 0.009863333333333333 s\n"
     ]
    }
   ],
   "source": [
    "print('My method mean time: ' + str(mean(correction_times)) + ' s')\n",
    "print('ES mean time: ' + str(mean(correction_times_es)) + ' s')"
   ]
  },
  {
   "cell_type": "markdown",
   "metadata": {},
   "source": [
    "Metoda ElasticSearch jest do około 4 razy szybsza od mojej w najgorszym przypadku, a w najlepszym jest tak samo lub niewiele szybsza. Jest to zależne od szukanych korekcji. Obie metody są wystarczająco szybkie dla takiej ilości korekcji, moja potrzebuje ok. 0.04 sekundy w sumie, a ES ok. 0.01 sekundy. Natomiast ES znajduje często dodatkowe propozycje korekcji w stosunku do mojego."
   ]
  },
  {
   "cell_type": "markdown",
   "metadata": {},
   "source": [
    "#### the results provided by your method compared to ElasticSearch"
   ]
  },
  {
   "cell_type": "markdown",
   "metadata": {},
   "source": [
    "Tak jak powyżej, ElasticSearch znajduje czasami więcej korekcji, ale także często proponuje bardziej prawdopodobne słowa niż moja metoda np. ośc - moja metoda: od, moc, on, one, a ES: ośc, ości, ość, oś. W tym wypadku w mojej metodzie wogóle nie pojawiły się słowa związane z ościami. W niektórych przypadkach ES nie poradził sobie lepiej niż moja metoda np. nawozw, moja metoda: nawóz, nawozu, nawozy, nawozów, a ES: nawozw, nawozu, nawozy, nawozów, nawozo - tutaj brakuje całkiem dobrej korekcji nawóz, która pojawiła się w mojej metodzie."
   ]
  },
  {
   "cell_type": "markdown",
   "metadata": {},
   "source": [
    "#### the validity of the obtained corrections"
   ]
  },
  {
   "cell_type": "markdown",
   "metadata": {},
   "source": [
    "ElasticSearch czasem dostarcza więcej korekcji, ale wydaje mi się, że zbyt skomplikowanych. Natomiast moja metoda dostarcza prostszych, ale przez to bardziej prawdopodobnych korekcji."
   ]
  }
 ],
 "metadata": {
  "kernelspec": {
   "display_name": "Python 3",
   "language": "python",
   "name": "python3"
  },
  "language_info": {
   "codemirror_mode": {
    "name": "ipython",
    "version": 3
   },
   "file_extension": ".py",
   "mimetype": "text/x-python",
   "name": "python",
   "nbconvert_exporter": "python",
   "pygments_lexer": "ipython3",
   "version": "3.7.3"
  }
 },
 "nbformat": 4,
 "nbformat_minor": 4
}
