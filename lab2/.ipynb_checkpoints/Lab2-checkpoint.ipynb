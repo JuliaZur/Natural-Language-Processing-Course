{
 "cells": [
  {
   "cell_type": "code",
   "execution_count": 1,
   "metadata": {},
   "outputs": [],
   "source": [
    "import requests\n",
    "from elasticsearch import Elasticsearch\n",
    "import os"
   ]
  },
  {
   "cell_type": "code",
   "execution_count": 2,
   "metadata": {},
   "outputs": [],
   "source": [
    "es = Elasticsearch()"
   ]
  },
  {
   "cell_type": "code",
   "execution_count": 5,
   "metadata": {},
   "outputs": [
    {
     "data": {
      "text/plain": [
       "{'acknowledged': True, 'shards_acknowledged': True, 'index': 'es_pl_bills'}"
      ]
     },
     "execution_count": 5,
     "metadata": {},
     "output_type": "execute_result"
    }
   ],
   "source": [
    "es.indices.create(\n",
    "    index='es_pl_bills',\n",
    "    body={\n",
    "      'settings': {\n",
    "        'analysis': {\n",
    "            'analyzer': {\n",
    "                'default': {\n",
    "                    'type': 'custom',\n",
    "                    'tokenizer': 'standard',\n",
    "                    'filter': ['my_synonyms', 'lowercase', 'morfologik_stem']\n",
    "                }\n",
    "            },\n",
    "            'filter': {\n",
    "                'my_synonyms': {\n",
    "                    'type': 'synonym',\n",
    "                    'synonyms':[\n",
    "                        'kpk, kodeks postępowania karnego',\n",
    "                        'kpc, kodeks postępowania cywilnego',\n",
    "                        'kk, kodeks karny',\n",
    "                        'kc, kodeks cywilny'\n",
    "                    ]\n",
    "                }\n",
    "            }\n",
    "        }\n",
    "    }\n",
    "})"
   ]
  },
  {
   "cell_type": "code",
   "execution_count": 4,
   "metadata": {},
   "outputs": [
    {
     "data": {
      "text/plain": [
       "{'acknowledged': True}"
      ]
     },
     "execution_count": 4,
     "metadata": {},
     "output_type": "execute_result"
    }
   ],
   "source": [
    "#es.indices.delete(index=\"es_pl_bills\")"
   ]
  },
  {
   "cell_type": "code",
   "execution_count": 6,
   "metadata": {},
   "outputs": [],
   "source": [
    "file_names = []\n",
    "\n",
    "for file in os.listdir(\"../../ustawy\"):\n",
    "    if file.endswith(\".txt\"):\n",
    "        file_names.append(os.path.join(\"../../ustawy\", file))"
   ]
  },
  {
   "cell_type": "code",
   "execution_count": 7,
   "metadata": {},
   "outputs": [],
   "source": [
    "for file_name in file_names:\n",
    "    with open(file_name) as file:\n",
    "        bill = {\n",
    "            \"filename\": file_name[10:],\n",
    "            \"content\": file.read()\n",
    "        }\n",
    "        es.index(index=\"es_pl_bills\", body=bill)"
   ]
  },
  {
   "cell_type": "markdown",
   "metadata": {},
   "source": [
    "Determine the number of legislative acts containing the word ustawa (in any form)"
   ]
  },
  {
   "cell_type": "code",
   "execution_count": 8,
   "metadata": {},
   "outputs": [
    {
     "data": {
      "text/plain": [
       "{'value': 1179, 'relation': 'eq'}"
      ]
     },
     "execution_count": 8,
     "metadata": {},
     "output_type": "execute_result"
    }
   ],
   "source": [
    "ustawa_rep = es.search(index=\"es_pl_bills\", body={\"query\": {\"match\": {\"content\": \"ustawa\"}}})\n",
    "ustawa_rep['hits']['total']"
   ]
  },
  {
   "cell_type": "markdown",
   "metadata": {},
   "source": [
    "Determine the number of legislative acts containing the words kodeks postępowania cywilnego in the specified order, but in an any inflection form."
   ]
  },
  {
   "cell_type": "code",
   "execution_count": 15,
   "metadata": {},
   "outputs": [
    {
     "data": {
      "text/plain": [
       "{'value': 100, 'relation': 'eq'}"
      ]
     },
     "execution_count": 15,
     "metadata": {},
     "output_type": "execute_result"
    }
   ],
   "source": [
    "kodeks_rep = es.search(index=\"es_pl_bills\", body={\"query\": {\"match_phrase\": {\"content\": \"kodeks postępowania cywilnego\"}}})\n",
    "kodeks_rep['hits']['total']"
   ]
  },
  {
   "cell_type": "markdown",
   "metadata": {},
   "source": [
    "Determine the number of legislative acts containing the words wchodzi w życie (in any form) allowing for up to 2 additional words in the searched phrase."
   ]
  },
  {
   "cell_type": "code",
   "execution_count": 17,
   "metadata": {},
   "outputs": [
    {
     "data": {
      "text/plain": [
       "{'value': 1175, 'relation': 'eq'}"
      ]
     },
     "execution_count": 17,
     "metadata": {},
     "output_type": "execute_result"
    }
   ],
   "source": [
    "wchodzi_rep = es.search(index=\"es_pl_bills\", body={\"query\": {\"match_phrase\": {\"content\": {\"query\": \"wchodzi w życie\", \"slop\": 2}}}})\n",
    "wchodzi_rep['hits']['total']"
   ]
  },
  {
   "cell_type": "markdown",
   "metadata": {},
   "source": [
    "Determine the 10 documents that are the most relevant for the phrase konstytucja."
   ]
  },
  {
   "cell_type": "code",
   "execution_count": 22,
   "metadata": {},
   "outputs": [
    {
     "name": "stdout",
     "output_type": "stream",
     "text": [
      "wy/1997_629.txt 6.8715763\n",
      "wy/2000_443.txt 6.667747\n",
      "wy/1997_604.txt 6.637779\n",
      "wy/1996_350.txt 6.631979\n",
      "wy/1997_642.txt 6.256356\n",
      "wy/2001_23.txt 6.0651193\n",
      "wy/1996_199.txt 5.9354324\n",
      "wy/1999_688.txt 5.8562775\n",
      "wy/2001_1082.txt 5.4733624\n",
      "wy/1997_681.txt 5.4733624\n"
     ]
    }
   ],
   "source": [
    "konst_rep = es.search(index=\"es_pl_bills\", body={\"query\": {\"match\": {\"content\": \"konstytucja\"}}})\n",
    "for rep in konst_rep['hits']['hits'][:10]:\n",
    "    print(rep['_source']['filename'], rep['_score'])"
   ]
  },
  {
   "cell_type": "markdown",
   "metadata": {},
   "source": [
    "Print the excerpts containing the word konstytucja (up to three excerpts per document) from the previous task."
   ]
  },
  {
   "cell_type": "code",
   "execution_count": 33,
   "metadata": {},
   "outputs": [
    {
     "name": "stdout",
     "output_type": "stream",
     "text": [
      "wy/1997_629.txt\n",
      "o zmianie ustawy konstytucyjnej o trybie przygotowania\n",
      "           i uchwalenia <em>Konstytucji</em> Rzeczypospolitej\n",
      "W ustawie  konstytucyjnej z  dnia 23 kwietnia 1992 r. o trybie przygotowania i \n",
      "uchwalenia <em>Konstytucji</em>\n",
      "Do zgłoszenia projektu <em>Konstytucji</em> załącza się wykaz \n",
      "                obywateli popierających zgłoszenie\n",
      "\n",
      "\n",
      "wy/2000_443.txt\n",
      "umowy międzynarodowej i nie wypełnia przesłanek określonych w art. 89\n",
      "     ust. 1 lub art. 90 <em>Konstytucji</em>\n",
      "międzynarodowej lub załącznika nie\n",
      "     wypełnia przesłanek określonych w art. 89 ust. 1 lub art. 90 <em>Konstytucji</em>\n",
      "co do zasadności wyboru\n",
      "  trybu ratyfikacji umowy międzynarodowej, o którym mowa w art. 89 ust. 2\n",
      "  <em>Konstytucji</em>\n",
      "\n",
      "\n",
      "wy/1997_604.txt\n",
      "Jeżeli Trybunał Konstytucyjny wyda orzeczenie o sprzeczności celów partii \n",
      "   politycznej z <em>Konstytucją</em>\n",
      "Jeżeli Trybunał Konstytucyjny wyda orzeczenie o sprzeczności z <em>Konstytucją</em>\n",
      "   celów lub działalności\n",
      "Ciężar udowodnienia niezgodności z <em>Konstytucją</em> spoczywa\n",
      "                na wnioskodawcy, który w tym\n",
      "\n",
      "\n",
      "wy/1996_350.txt\n",
      "Za naruszenie <em>Konstytucji</em> lub ustawy, w związku z zajmowanym\n",
      "              stanowiskiem lub w zakresie\n",
      "W zakresie określonym w art. 107 <em>Konstytucji</em> odpowiedzialność przed\n",
      "           Trybunałem Stanu ponoszą\n",
      "Członkowie Rady Ministrów ponoszą odpowiedzialność przed Trybunałem\n",
      "           Stanu za naruszenie <em>Konstytucji</em>\n",
      "\n",
      "\n",
      "wy/1997_642.txt\n",
      "wnioskami o:\n",
      "             1) stwierdzenie zgodności ustaw i umów międzynarodowych z\n",
      "               <em>Konstytucją</em>\n",
      "stwierdzenie zgodności przepisów prawa wydawanych przez\n",
      "               centralne organy państwowe, z <em>Konstytucją</em>\n",
      "ratyfikowanymi\n",
      "               umowami międzynarodowymi i ustawami,\n",
      "             4) stwierdzenie zgodności z <em>Konstytucją</em>\n",
      "\n",
      "\n",
      "wy/2001_23.txt\n",
      "W Dzienniku Ustaw Rzeczypospolitej Polskiej, zwanym dalej \"Dziennikiem\n",
      "  Ustaw\", ogłasza się:\n",
      "   1) <em>Konstytucję</em>\n",
      "akty prawne dotyczące:\n",
      "   1) stanu wojny i zawarcia pokoju,\n",
      "   2) referendum zatwierdzającego zmianę <em>Konstytucji</em>\n",
      "ministra, któremu Sejm wyraził wotum nieufności,\n",
      "     h) powoływania lub odwoływania na określone w <em>Konstytucji</em>\n",
      "\n",
      "\n",
      "wy/1996_199.txt\n",
      "2c i art. 9-11 ustawy konstytucyjnej z dnia 23 kwietnia \n",
      "1992 r. o trybie przygotowania i uchwalenia <em>Konstytucji</em>\n",
      "Prezydent Rzeczypospolitej Polskiej zarządza poddanie <em>Konstytucji</em> pod referendum\n",
      "   w trybie określonym\n",
      "Przyjęcie w referendum <em>Konstytucji</em> następuje wówczas, gdy opowiedziała \n",
      "   się za nią większość biorących\n",
      "\n",
      "\n",
      "wy/1999_688.txt\n",
      "postępowania w sprawie wykonywania inicjatywy\n",
      "ustawodawczej przez obywateli, o której mowa w art. 118 ust. 2 <em>Konstytucji</em>\n",
      "Projekt ustawy nie może dotyczyć spraw, dla których <em>Konstytucja</em>\n",
      "Rzeczypospolitej Polskiej zastrzega wyłączną\n",
      "Projekt ustawy wniesiony do Marszałka Sejmu powinien odpowiadać wymogom\n",
      "  zawartym w <em>Konstytucji</em> i Regulaminie\n",
      "\n",
      "\n",
      "wy/2001_1082.txt\n",
      "Krajowa Rada Sądownictwa, zwana dalej \"Radą\", realizuje cele określone w\n",
      "  <em>Konstytucji</em> Rzeczypospolitej\n",
      ") podejmuje uchwały w sprawach wystąpienia do Trybunału Konstytucyjnego o\n",
      "     zbadanie zgodności z <em>Konstytucją</em>\n",
      "\n",
      "\n",
      "wy/1997_681.txt\n",
      "Rzecznik Praw Dziecka, zwany dalej Rzecznikiem, stoi na straży praw dziecka\n",
      "  określonych w <em>Konstytucji</em>\n",
      "uroczyście, że przy wykonywaniu powierzonych mi obowiązków\n",
      "     Rzecznika Praw Dziecka dochowam wierności <em>Konstytucji</em>\n",
      "\n",
      "\n"
     ]
    }
   ],
   "source": [
    "query_konst = {\n",
    "    'query': {\n",
    "        'match': {\n",
    "            'content': {\n",
    "                'query': 'konstytucja'\n",
    "            }\n",
    "        }\n",
    "    },\n",
    "    'size': 10,\n",
    "    '_source': [ 'filename' ],\n",
    "    'highlight': {\n",
    "        'number_of_fragments': 3,\n",
    "        'fragment_size': 100,\n",
    "        'fields': {\n",
    "            'content': {} \n",
    "        }\n",
    "    }\n",
    "}\n",
    "\n",
    "results = es.search(index=\"es_pl_bills\", body=query_konst)\n",
    "for result in results['hits']['hits']:\n",
    "    print(result['_source']['filename'])\n",
    "    for cont in result['highlight']['content']:\n",
    "        print(cont)\n",
    "    print('\\n')"
   ]
  },
  {
   "cell_type": "code",
   "execution_count": null,
   "metadata": {},
   "outputs": [],
   "source": []
  }
 ],
 "metadata": {
  "kernelspec": {
   "display_name": "Python 3",
   "language": "python",
   "name": "python3"
  },
  "language_info": {
   "codemirror_mode": {
    "name": "ipython",
    "version": 3
   },
   "file_extension": ".py",
   "mimetype": "text/x-python",
   "name": "python",
   "nbconvert_exporter": "python",
   "pygments_lexer": "ipython3",
   "version": "3.7.3"
  }
 },
 "nbformat": 4,
 "nbformat_minor": 4
}
