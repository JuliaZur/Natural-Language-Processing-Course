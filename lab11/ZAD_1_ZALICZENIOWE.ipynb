{
 "cells": [
  {
   "cell_type": "markdown",
   "metadata": {
    "id": "-r4YOhT9Ez_g"
   },
   "source": [
    "# Zadanie 1:\n",
    "\n",
    "Proszę znaleźć i porównać przynajmniej 2 metody obliczania reprezentacji wektorowej tekstu na podstawie osadzeń słów. Proszę je przetestować na klasyfikacji wieloklasowej tekstu. \n",
    "Wybrałam zbiór zawierający treści mailów: https://www.kaggle.com/dipankarsrirag/topic-modelling-on-emails"
   ]
  },
  {
   "cell_type": "markdown",
   "metadata": {
    "id": "KybZaQCVEz_j"
   },
   "source": [
    "Wybrane metody:\n",
    "\n",
    "* BOW ważone TF-IDF\n",
    "* Skip-gram ważone TF-IDF\n",
    "* DBOW"
   ]
  },
  {
   "cell_type": "code",
   "execution_count": 1,
   "metadata": {
    "id": "FGAR6b-XEz_k"
   },
   "outputs": [],
   "source": [
    "import glob\n",
    "import matplotlib.pyplot as plt\n",
    "import numpy as np\n",
    "from sklearn.model_selection import train_test_split\n",
    "from sklearn.feature_extraction.text import TfidfVectorizer\n",
    "import regex\n",
    "import gensim\n",
    "from gensim.models.doc2vec import Doc2Vec, TaggedDocument \n",
    "from gensim.models import Word2Vec\n",
    "import nltk\n",
    "from nltk import tokenize\n",
    "from sklearn.naive_bayes import MultinomialNB\n",
    "from sklearn.metrics import accuracy_score, recall_score, precision_score, f1_score\n",
    "from nltk.corpus import stopwords \n",
    "from string import punctuation\n",
    "from nltk.stem import WordNetLemmatizer\n",
    "from nltk.tokenize import WordPunctTokenizer\n",
    "from sklearn.feature_extraction.text import CountVectorizer\n",
    "from sklearn.preprocessing import MinMaxScaler\n",
    "from sklearn.metrics import confusion_matrix\n",
    "import seaborn as sns\n",
    "from sklearn.tree import DecisionTreeClassifier\n",
    "from sklearn.pipeline import make_pipeline\n",
    "from sklearn.preprocessing import StandardScaler\n",
    "from sklearn.svm import SVC\n",
    "from sklearn.neighbors import KNeighborsClassifier\n",
    "from sklearn.linear_model import LogisticRegression"
   ]
  },
  {
   "cell_type": "markdown",
   "metadata": {
    "id": "8JGXvwiZEz_k"
   },
   "source": [
    "## Wczytanie i oczyszczenie danych\n",
    "\n",
    "Dane są umieszczone w postaci listy tupli treści mailów i ich odpowiadających labelek.\n",
    "\n",
    "* 0 - Crime\n",
    "* 1 - Entertainment\n",
    "* 2 - Politics\n",
    "* 3 - Science"
   ]
  },
  {
   "cell_type": "code",
   "execution_count": 2,
   "metadata": {
    "id": "qjcP0UvYEz_l"
   },
   "outputs": [],
   "source": [
    "data_folder = \"./MailClassificationData\"\n",
    "mails_files = glob.glob(data_folder + \"/*/*.txt\")"
   ]
  },
  {
   "cell_type": "code",
   "execution_count": 3,
   "metadata": {
    "colab": {
     "base_uri": "https://localhost:8080/"
    },
    "id": "tR0w6MPoIF3G",
    "outputId": "8473650e-168b-4916-dbc9-b4142fe44253"
   },
   "outputs": [
    {
     "name": "stderr",
     "output_type": "stream",
     "text": [
      "[nltk_data] Downloading package stopwords to\n",
      "[nltk_data]     /Users/juliazur/nltk_data...\n",
      "[nltk_data]   Package stopwords is already up-to-date!\n",
      "[nltk_data] Downloading package wordnet to\n",
      "[nltk_data]     /Users/juliazur/nltk_data...\n",
      "[nltk_data]   Package wordnet is already up-to-date!\n"
     ]
    }
   ],
   "source": [
    "wordnet_lemmatizer = WordNetLemmatizer()\n",
    "\n",
    "nltk.download('stopwords')\n",
    "nltk.download('wordnet')\n",
    "stop_words = stopwords.words('english')\n",
    "\n",
    "for punct in punctuation:\n",
    "    stop_words.append(punct)\n",
    "\n",
    "def filter_text(text, stop_words):\n",
    "    word_tokens = WordPunctTokenizer().tokenize(text.lower())\n",
    "    filtered_text = [regex.sub(u'\\p{^Latin}', u'', w) for w in word_tokens if w.isalpha() and len(w) > 1]\n",
    "    filtered_text = [wordnet_lemmatizer.lemmatize(w, pos=\"v\") for w in filtered_text if not w in stop_words] \n",
    "    return \" \".join(filtered_text)"
   ]
  },
  {
   "cell_type": "code",
   "execution_count": 4,
   "metadata": {
    "id": "uIDCIWyJEz_l"
   },
   "outputs": [],
   "source": [
    "mails_with_labels = []\n",
    "for mail_file in mails_files:\n",
    "    mail_content = \"\"\n",
    "    \n",
    "    with open(mail_file, encoding='utf-8') as file:\n",
    "        try:\n",
    "            lines = file.readlines()\n",
    "        except:\n",
    "            print('Cannot read ', mail_file)\n",
    "        content = ' '.join(lines)\n",
    "        cleaned_mail_content = filter_text(content, stop_words)\n",
    "    label = -1\n",
    "    if 'Crime' in mail_file:\n",
    "        label = 0\n",
    "    elif 'Entertainment' in mail_file:\n",
    "        label = 1\n",
    "    elif 'Politics' in mail_file:\n",
    "        label = 2\n",
    "    elif 'Science' in mail_file:\n",
    "        label = 3\n",
    "    if label != -1:\n",
    "        mails_with_labels.append((cleaned_mail_content, label))"
   ]
  },
  {
   "cell_type": "markdown",
   "metadata": {
    "id": "5tzGxY3pEz_m"
   },
   "source": [
    "## Podział na zbiór treningowy i testowy, analiza liczności klas"
   ]
  },
  {
   "cell_type": "code",
   "execution_count": 5,
   "metadata": {
    "id": "cHUdmdQCEz_m"
   },
   "outputs": [],
   "source": [
    "X = [text for text, label in mails_with_labels]\n",
    "y = [label for text, label in mails_with_labels]"
   ]
  },
  {
   "cell_type": "code",
   "execution_count": 6,
   "metadata": {
    "id": "1reWlPr3Ez_m"
   },
   "outputs": [],
   "source": [
    "X_train, X_test, y_train, y_test = train_test_split(X, y, test_size=0.2, stratify=y)"
   ]
  },
  {
   "cell_type": "code",
   "execution_count": 7,
   "metadata": {
    "id": "ITc6pAOiEz_n"
   },
   "outputs": [],
   "source": [
    "number_of_examples_crime = len([y_train[i] for i, text in enumerate(X_train) if y_train[i] == 0])\n",
    "number_of_examples_entertainment = len([y_train[i] for i, text in enumerate(X_train) if y_train[i] == 1])\n",
    "number_of_examples_politics = len([y_train[i] for i, text in enumerate(X_train) if y_train[i] == 2])\n",
    "number_of_examples_science = len([y_train[i] for i, text in enumerate(X_train) if y_train[i] == 3])"
   ]
  },
  {
   "cell_type": "code",
   "execution_count": 8,
   "metadata": {
    "colab": {
     "base_uri": "https://localhost:8080/",
     "height": 282
    },
    "id": "Y_us7Ce1Ez_n",
    "outputId": "6adbbcc1-e34b-49ce-a8b5-1acb9b57abfe"
   },
   "outputs": [
    {
     "data": {
      "text/plain": [
       "<BarContainer object of 4 artists>"
      ]
     },
     "execution_count": 8,
     "metadata": {},
     "output_type": "execute_result"
    },
    {
     "data": {
      "image/png": "[encoded data removed]",
      "text/plain": [
       "<Figure size 432x288 with 1 Axes>"
      ]
     },
     "metadata": {
      "needs_background": "light"
     },
     "output_type": "display_data"
    }
   ],
   "source": [
    "plt.bar(np.arange(4), \n",
    "        [number_of_examples_crime, number_of_examples_entertainment, \n",
    "         number_of_examples_politics, number_of_examples_science],\n",
    "       width=0.5,\n",
    "       align='center')"
   ]
  },
  {
   "cell_type": "markdown",
   "metadata": {
    "id": "yBkT7LOIEz_o"
   },
   "source": [
    "Można zauważyć, że klasy są nierównoliczne."
   ]
  },
  {
   "cell_type": "markdown",
   "metadata": {
    "id": "GQx9bcbWEz_p"
   },
   "source": [
    "# Word2vec - CBOW weighted with TF-IDF"
   ]
  },
  {
   "cell_type": "code",
   "execution_count": 191,
   "metadata": {
    "id": "fqUYZEeFEz_p"
   },
   "outputs": [
    {
     "data": {
      "text/plain": [
       "<1828x44250 sparse matrix of type '<class 'numpy.float64'>'\n",
       "\twith 203579 stored elements in Compressed Sparse Row format>"
      ]
     },
     "execution_count": 191,
     "metadata": {},
     "output_type": "execute_result"
    }
   ],
   "source": [
    "tfidf_vectorizer = TfidfVectorizer()\n",
    "\n",
    "tfidf_vectorizer.fit_transform(X_train)\n",
    "tfidf_vectorizer.transform(X_test)"
   ]
  },
  {
   "cell_type": "code",
   "execution_count": 192,
   "metadata": {},
   "outputs": [
    {
     "data": {
      "text/plain": [
       "[('see', 34896),\n",
       " ('guess', 16365),\n",
       " ('would', 43392),\n",
       " ('like', 22758),\n",
       " ('represent', 32910),\n",
       " ('worst', 43382),\n",
       " ('american', 1403),\n",
       " ('israeli', 20095),\n",
       " ('politics', 30275),\n",
       " ('matter', 24055)]"
      ]
     },
     "execution_count": 192,
     "metadata": {},
     "output_type": "execute_result"
    }
   ],
   "source": [
    "list(tfidf_vectorizer.vocabulary_.items())[:10]"
   ]
  },
  {
   "cell_type": "code",
   "execution_count": 193,
   "metadata": {},
   "outputs": [],
   "source": [
    "def weighted_sum_vectors(words, vectors, tfidf_vocabulary):\n",
    "    weights = []\n",
    "    for word in words:\n",
    "        if word in tfidf_vocabulary.keys():\n",
    "            weight = tfidf_vocabulary[word]\n",
    "        else:\n",
    "            weight = 0.\n",
    "        weights.append(weight)\n",
    "    vec_sum = np.zeros(vectors[0].shape[0])\n",
    "    for i in range(len(weights)):\n",
    "        vec_sum = vec_sum + (vectors[i] * weights[i])\n",
    "    return vec_sum/sum(weights)"
   ]
  },
  {
   "cell_type": "code",
   "execution_count": 194,
   "metadata": {},
   "outputs": [],
   "source": [
    "documents = [TaggedDocument(doc, [i]) for i, doc in enumerate(X_train)]\n",
    "documents_words = [doc.words.split(' ') for doc in documents]\n",
    "\n",
    "model = Word2Vec(size=100, window=2, min_count=1, workers=4)\n",
    "model.build_vocab(documents_words)"
   ]
  },
  {
   "cell_type": "code",
   "execution_count": 195,
   "metadata": {},
   "outputs": [
    {
     "data": {
      "text/plain": [
       "(6238497, 6419650)"
      ]
     },
     "execution_count": 195,
     "metadata": {},
     "output_type": "execute_result"
    }
   ],
   "source": [
    "model.train(documents_words, total_examples=model.corpus_count, epochs=model.epochs)"
   ]
  },
  {
   "cell_type": "markdown",
   "metadata": {},
   "source": [
    "Po treningu na danych treningowych, należy dotrenować model z zablokowanymi już istniejącymi wektorami. Taki podjeście musi zostać zastosowane, ponieważ ten model nie potrafi dokonywać predykcji wektora dla nieznanego słowa."
   ]
  },
  {
   "cell_type": "code",
   "execution_count": 196,
   "metadata": {},
   "outputs": [],
   "source": [
    "model.trainables.vectors_lockf = np.zeros(model.trainables.vectors_lockf.shape)"
   ]
  },
  {
   "cell_type": "code",
   "execution_count": 197,
   "metadata": {},
   "outputs": [],
   "source": [
    "test_documents = [TaggedDocument(doc, [i]) for i, doc in enumerate(X_test)]\n",
    "test_documents_words = [doc.words.split(' ') for doc in test_documents]"
   ]
  },
  {
   "cell_type": "code",
   "execution_count": 198,
   "metadata": {},
   "outputs": [],
   "source": [
    "model.build_vocab(test_documents_words, update=True)"
   ]
  },
  {
   "cell_type": "code",
   "execution_count": 199,
   "metadata": {},
   "outputs": [
    {
     "data": {
      "text/plain": [
       "(1512972, 1555215)"
      ]
     },
     "execution_count": 199,
     "metadata": {},
     "output_type": "execute_result"
    }
   ],
   "source": [
    "model.train(test_documents_words, total_examples=model.corpus_count, epochs=model.epochs)"
   ]
  },
  {
   "cell_type": "code",
   "execution_count": 200,
   "metadata": {},
   "outputs": [
    {
     "name": "stderr",
     "output_type": "stream",
     "text": [
      "/Library/Frameworks/Python.framework/Versions/3.7/lib/python3.7/site-packages/ipykernel_launcher.py:12: RuntimeWarning: invalid value encountered in true_divide\n",
      "  if sys.path[0] == '':\n"
     ]
    }
   ],
   "source": [
    "word2vec_X_train = {}\n",
    "for doc_id in range(len(documents)):\n",
    "    words = []\n",
    "    for word in documents[doc_id].words.split(' '):\n",
    "        words.append(word)\n",
    "        inferred_vector = model.wv[word]\n",
    "        if doc_id not in word2vec_X_train.keys():\n",
    "            word2vec_X_train[doc_id] = []\n",
    "        word2vec_X_train[doc_id].append(inferred_vector)\n",
    "    single_vector = weighted_sum_vectors(words, word2vec_X_train[doc_id], tfidf_vectorizer.vocabulary_)\n",
    "    word2vec_X_train[doc_id] = single_vector"
   ]
  },
  {
   "cell_type": "code",
   "execution_count": 201,
   "metadata": {},
   "outputs": [
    {
     "name": "stderr",
     "output_type": "stream",
     "text": [
      "/Library/Frameworks/Python.framework/Versions/3.7/lib/python3.7/site-packages/ipykernel_launcher.py:12: RuntimeWarning: invalid value encountered in true_divide\n",
      "  if sys.path[0] == '':\n"
     ]
    }
   ],
   "source": [
    "word2vec_X_test = {}\n",
    "for text_id in range(len(X_test)):\n",
    "    words = []\n",
    "    for word in X_test[text_id].split(' '):\n",
    "        words.append(word)\n",
    "        inferred_vector = model.wv[word]\n",
    "        if text_id not in word2vec_X_test.keys():\n",
    "            word2vec_X_test[text_id] = [] \n",
    "        word2vec_X_test[text_id].append(inferred_vector)\n",
    "    single_vector = weighted_sum_vectors(words, word2vec_X_test[text_id], tfidf_vectorizer.vocabulary_)\n",
    "    word2vec_X_test[text_id] = single_vector"
   ]
  },
  {
   "cell_type": "code",
   "execution_count": 202,
   "metadata": {},
   "outputs": [],
   "source": [
    "word2vec_X_train = list(word2vec_X_train.values())"
   ]
  },
  {
   "cell_type": "code",
   "execution_count": 203,
   "metadata": {},
   "outputs": [],
   "source": [
    "word2vec_X_test = list(word2vec_X_test.values())"
   ]
  },
  {
   "cell_type": "code",
   "execution_count": 204,
   "metadata": {},
   "outputs": [],
   "source": [
    "word2vec_X_train = np.array(word2vec_X_train)\n",
    "word2vec_X_test = np.array(word2vec_X_test)"
   ]
  },
  {
   "cell_type": "code",
   "execution_count": 205,
   "metadata": {},
   "outputs": [
    {
     "name": "stdout",
     "output_type": "stream",
     "text": [
      "(7311, 100)\n",
      "(1828, 100)\n"
     ]
    }
   ],
   "source": [
    "print(word2vec_X_train.shape)\n",
    "print(word2vec_X_test.shape)"
   ]
  },
  {
   "cell_type": "markdown",
   "metadata": {},
   "source": [
    "# Word2vec - Skip-gram weighted with TF-IDF"
   ]
  },
  {
   "cell_type": "code",
   "execution_count": 206,
   "metadata": {},
   "outputs": [
    {
     "data": {
      "text/plain": [
       "(6237744, 6419650)"
      ]
     },
     "execution_count": 206,
     "metadata": {},
     "output_type": "execute_result"
    }
   ],
   "source": [
    "sg_model = Word2Vec(size=100, window=2, min_count=1, workers=4, sg=1)\n",
    "sg_model.build_vocab(documents_words)\n",
    "sg_model.train(documents_words, total_examples=sg_model.corpus_count, epochs=sg_model.epochs)"
   ]
  },
  {
   "cell_type": "markdown",
   "metadata": {},
   "source": [
    "Tak jak poprzednio trzeba dotrenować model z zablokowanymi wektorami."
   ]
  },
  {
   "cell_type": "code",
   "execution_count": 207,
   "metadata": {},
   "outputs": [],
   "source": [
    "sg_model.trainables.vectors_lockf = np.zeros(sg_model.trainables.vectors_lockf.shape)"
   ]
  },
  {
   "cell_type": "code",
   "execution_count": 208,
   "metadata": {},
   "outputs": [],
   "source": [
    "sg_model.build_vocab(test_documents_words, update=True)"
   ]
  },
  {
   "cell_type": "code",
   "execution_count": 209,
   "metadata": {},
   "outputs": [
    {
     "data": {
      "text/plain": [
       "(1512911, 1555215)"
      ]
     },
     "execution_count": 209,
     "metadata": {},
     "output_type": "execute_result"
    }
   ],
   "source": [
    "sg_model.train(test_documents_words, total_examples=sg_model.corpus_count, epochs=sg_model.epochs)"
   ]
  },
  {
   "cell_type": "code",
   "execution_count": 210,
   "metadata": {},
   "outputs": [
    {
     "name": "stderr",
     "output_type": "stream",
     "text": [
      "/Library/Frameworks/Python.framework/Versions/3.7/lib/python3.7/site-packages/ipykernel_launcher.py:12: RuntimeWarning: invalid value encountered in true_divide\n",
      "  if sys.path[0] == '':\n"
     ]
    }
   ],
   "source": [
    "sg_X_train = {}\n",
    "for doc_id in range(len(documents)):\n",
    "    words = []\n",
    "    for word in documents[doc_id].words.split(' '):\n",
    "        words.append(word)\n",
    "        inferred_vector = sg_model.wv[word]\n",
    "        if doc_id not in sg_X_train.keys():\n",
    "            sg_X_train[doc_id] = []\n",
    "        sg_X_train[doc_id].append(inferred_vector)\n",
    "    single_vector = weighted_sum_vectors(words, sg_X_train[doc_id], tfidf_vectorizer.vocabulary_)\n",
    "    sg_X_train[doc_id] = single_vector"
   ]
  },
  {
   "cell_type": "code",
   "execution_count": 211,
   "metadata": {},
   "outputs": [
    {
     "name": "stderr",
     "output_type": "stream",
     "text": [
      "/Library/Frameworks/Python.framework/Versions/3.7/lib/python3.7/site-packages/ipykernel_launcher.py:12: RuntimeWarning: invalid value encountered in true_divide\n",
      "  if sys.path[0] == '':\n"
     ]
    }
   ],
   "source": [
    "sg_X_test = {}\n",
    "for text_id in range(len(X_test)):\n",
    "    words = []\n",
    "    for word in X_test[text_id].split(' '):\n",
    "        words.append(word)\n",
    "        inferred_vector = sg_model.wv[word]\n",
    "        if text_id not in sg_X_test.keys():\n",
    "            sg_X_test[text_id] = [] \n",
    "        sg_X_test[text_id].append(inferred_vector)\n",
    "    single_vector = weighted_sum_vectors(words, sg_X_test[text_id], tfidf_vectorizer.vocabulary_)\n",
    "    sg_X_test[text_id] = single_vector"
   ]
  },
  {
   "cell_type": "code",
   "execution_count": 212,
   "metadata": {},
   "outputs": [],
   "source": [
    "sg_X_train = list(sg_X_train.values())"
   ]
  },
  {
   "cell_type": "code",
   "execution_count": 213,
   "metadata": {},
   "outputs": [],
   "source": [
    "sg_X_test = list(sg_X_test.values())"
   ]
  },
  {
   "cell_type": "code",
   "execution_count": 214,
   "metadata": {},
   "outputs": [],
   "source": [
    "sg_X_train = np.array(sg_X_train)\n",
    "sg_X_test = np.array(sg_X_test)"
   ]
  },
  {
   "cell_type": "code",
   "execution_count": 215,
   "metadata": {},
   "outputs": [
    {
     "name": "stdout",
     "output_type": "stream",
     "text": [
      "(7311, 100)\n",
      "(1828, 100)\n"
     ]
    }
   ],
   "source": [
    "print(sg_X_train.shape)\n",
    "print(sg_X_test.shape)"
   ]
  },
  {
   "cell_type": "markdown",
   "metadata": {
    "id": "OGEdmfefOI-r"
   },
   "source": [
    "# Doc2vec - DBOW"
   ]
  },
  {
   "cell_type": "code",
   "execution_count": 216,
   "metadata": {
    "id": "qe0bj6gvMnwT"
   },
   "outputs": [],
   "source": [
    "doc2vec_model = Doc2Vec(vector_size=100, window=2, min_count=1, workers=4)\n",
    "doc2vec_model.build_vocab(documents)"
   ]
  },
  {
   "cell_type": "code",
   "execution_count": 217,
   "metadata": {
    "id": "cPB_5-_JV4s1"
   },
   "outputs": [],
   "source": [
    "doc2vec_model.train(documents, total_examples=doc2vec_model.corpus_count, epochs=doc2vec_model.epochs)"
   ]
  },
  {
   "cell_type": "code",
   "execution_count": 218,
   "metadata": {
    "id": "P-TKNQCQXC1f"
   },
   "outputs": [],
   "source": [
    "doc2vec_X_train = []\n",
    "for doc_id in range(len(documents)):\n",
    "    inferred_vector = doc2vec_model.infer_vector([documents[doc_id].words])\n",
    "    doc2vec_X_train.append(inferred_vector)"
   ]
  },
  {
   "cell_type": "code",
   "execution_count": 219,
   "metadata": {
    "id": "G_L6cwlaXiKz"
   },
   "outputs": [],
   "source": [
    "doc2vec_X_test = []\n",
    "for text in X_test:\n",
    "    inferred_vector = doc2vec_model.infer_vector([text])\n",
    "    doc2vec_X_test.append(inferred_vector)"
   ]
  },
  {
   "cell_type": "code",
   "execution_count": 220,
   "metadata": {
    "id": "As-RQNLbYO3M"
   },
   "outputs": [],
   "source": [
    "doc2vec_X_train = np.array(doc2vec_X_train)\n",
    "doc2vec_X_test = np.array(doc2vec_X_test)"
   ]
  },
  {
   "cell_type": "code",
   "execution_count": 221,
   "metadata": {
    "colab": {
     "base_uri": "https://localhost:8080/"
    },
    "id": "azsHfPiOYj2w",
    "outputId": "c0233f18-8de3-453c-8ff2-a831523c776f"
   },
   "outputs": [
    {
     "name": "stdout",
     "output_type": "stream",
     "text": [
      "(7311, 100)\n",
      "(1828, 100)\n"
     ]
    }
   ],
   "source": [
    "print(doc2vec_X_train.shape)\n",
    "print(doc2vec_X_test.shape)"
   ]
  },
  {
   "cell_type": "markdown",
   "metadata": {
    "id": "8tSeqdMDQ8Yy"
   },
   "source": [
    "# Klasyfikacja"
   ]
  },
  {
   "cell_type": "code",
   "execution_count": 222,
   "metadata": {
    "id": "LtIo4lSgsaom"
   },
   "outputs": [],
   "source": [
    "def print_results(classifier, predictions):\n",
    "    print(classifier)\n",
    "    for name, acc, prec, rec, f1 in predictions:\n",
    "        print(' ', name)\n",
    "        print('     Accuracy: ', acc)\n",
    "        print('     Precision: ', prec)\n",
    "        print('     Recall: ', rec)\n",
    "        print('     F1: ', f1, '\\n')"
   ]
  },
  {
   "cell_type": "code",
   "execution_count": 223,
   "metadata": {
    "id": "8t3rzO7Zwt2R"
   },
   "outputs": [],
   "source": [
    "def multiclass_confusion_matrix(name, y, predictions):\n",
    "    plt.figure(figsize=(15,10))\n",
    "    ax = sns.heatmap(confusion_matrix(y, predictions),annot=True)\n",
    "    ax = ax.set(xlabel='Predicted',ylabel='True',title='Confusion Matrix',\n",
    "              xticklabels=(['Crime', 'Entertainment', 'Politics','Science']),\n",
    "              yticklabels=(['Crime', 'Entertainment', 'Politics','Science']))\n",
    "    plt.title(name)"
   ]
  },
  {
   "cell_type": "markdown",
   "metadata": {
    "id": "jeoOeWyZ9Zoh"
   },
   "source": [
    "## Logistic Regression\n"
   ]
  },
  {
   "cell_type": "code",
   "execution_count": 257,
   "metadata": {
    "collapsed": true,
    "id": "WzPtByXs9eWJ"
   },
   "outputs": [
    {
     "name": "stderr",
     "output_type": "stream",
     "text": [
      "/Library/Frameworks/Python.framework/Versions/3.7/lib/python3.7/site-packages/sklearn/linear_model/_logistic.py:764: ConvergenceWarning: lbfgs failed to converge (status=1):\n",
      "STOP: TOTAL NO. of ITERATIONS REACHED LIMIT.\n",
      "\n",
      "Increase the number of iterations (max_iter) or scale the data as shown in:\n",
      "    https://scikit-learn.org/stable/modules/preprocessing.html\n",
      "Please also refer to the documentation for alternative solver options:\n",
      "    https://scikit-learn.org/stable/modules/linear_model.html#logistic-regression\n",
      "  extra_warning_msg=_LOGISTIC_SOLVER_CONVERGENCE_MSG)\n"
     ]
    }
   ],
   "source": [
    "lr_bow = LogisticRegression().fit(word2vec_X_train, y_train)\n",
    "lr_bow_predictions = lr_bow.predict(word2vec_X_test)"
   ]
  },
  {
   "cell_type": "code",
   "execution_count": 260,
   "metadata": {
    "collapsed": true,
    "id": "YGVjeulC9eii"
   },
   "outputs": [
    {
     "name": "stderr",
     "output_type": "stream",
     "text": [
      "/Library/Frameworks/Python.framework/Versions/3.7/lib/python3.7/site-packages/sklearn/linear_model/_logistic.py:764: ConvergenceWarning: lbfgs failed to converge (status=1):\n",
      "STOP: TOTAL NO. of ITERATIONS REACHED LIMIT.\n",
      "\n",
      "Increase the number of iterations (max_iter) or scale the data as shown in:\n",
      "    https://scikit-learn.org/stable/modules/preprocessing.html\n",
      "Please also refer to the documentation for alternative solver options:\n",
      "    https://scikit-learn.org/stable/modules/linear_model.html#logistic-regression\n",
      "  extra_warning_msg=_LOGISTIC_SOLVER_CONVERGENCE_MSG)\n"
     ]
    }
   ],
   "source": [
    "lr_sg = LogisticRegression().fit(sg_X_train, y_train)\n",
    "lr_sg_predictions = lr_sg.predict(sg_X_test)"
   ]
  },
  {
   "cell_type": "code",
   "execution_count": 261,
   "metadata": {
    "id": "oKGt2aPv9elT"
   },
   "outputs": [],
   "source": [
    "lr_dbow = LogisticRegression().fit(doc2vec_X_train, y_train)\n",
    "lr_dbow_predictions = lr_dbow.predict(doc2vec_X_test)"
   ]
  },
  {
   "cell_type": "code",
   "execution_count": 262,
   "metadata": {
    "id": "PqCNFRSx-iUd"
   },
   "outputs": [],
   "source": [
    "lr_bow_acc = accuracy_score(y_test, lr_bow_predictions)\n",
    "lr_bow_rec = recall_score(y_test, lr_bow_predictions, average='weighted')\n",
    "lr_bow_prec = precision_score(y_test, lr_bow_predictions, average='weighted')\n",
    "lr_bow_f1 = f1_score(y_test, lr_bow_predictions, average='weighted')"
   ]
  },
  {
   "cell_type": "code",
   "execution_count": 263,
   "metadata": {
    "id": "P3JRCCqO-kIt"
   },
   "outputs": [],
   "source": [
    "lr_sg_acc = accuracy_score(y_test, lr_sg_predictions)\n",
    "lr_sg_rec = recall_score(y_test, lr_sg_predictions, average='weighted')\n",
    "lr_sg_prec = precision_score(y_test, lr_sg_predictions, average='weighted')\n",
    "lr_sg_f1 = f1_score(y_test, lr_sg_predictions, average='weighted')"
   ]
  },
  {
   "cell_type": "code",
   "execution_count": 264,
   "metadata": {
    "id": "YWYb54ND-kWC"
   },
   "outputs": [
    {
     "name": "stderr",
     "output_type": "stream",
     "text": [
      "/Library/Frameworks/Python.framework/Versions/3.7/lib/python3.7/site-packages/sklearn/metrics/_classification.py:1221: UndefinedMetricWarning: Precision is ill-defined and being set to 0.0 in labels with no predicted samples. Use `zero_division` parameter to control this behavior.\n",
      "  _warn_prf(average, modifier, msg_start, len(result))\n"
     ]
    }
   ],
   "source": [
    "lr_dbow_acc = accuracy_score(y_test, lr_dbow_predictions)\n",
    "lr_dbow_rec = recall_score(y_test, lr_dbow_predictions, average='weighted')\n",
    "lr_dbow_prec = precision_score(y_test, lr_dbow_predictions, average='weighted')\n",
    "lr_dbow_f1 = f1_score(y_test, lr_dbow_predictions, average='weighted')"
   ]
  },
  {
   "cell_type": "code",
   "execution_count": 265,
   "metadata": {
    "id": "jnM3jhQB-84l"
   },
   "outputs": [],
   "source": [
    "lr = [('BOW', lr_bow_acc, lr_bow_prec, lr_bow_rec, lr_bow_f1), \n",
    "      ('Skip-gram', lr_sg_acc, lr_sg_prec, lr_sg_rec, lr_sg_f1), \n",
    "      ('DBOW', lr_dbow_acc, lr_dbow_prec, lr_dbow_rec, lr_dbow_f1)]"
   ]
  },
  {
   "cell_type": "code",
   "execution_count": 266,
   "metadata": {
    "colab": {
     "base_uri": "https://localhost:8080/"
    },
    "id": "K_npuXGL-9Fy",
    "outputId": "a1e62f1e-f178-4eff-9b68-48eb21185bc5"
   },
   "outputs": [
    {
     "name": "stdout",
     "output_type": "stream",
     "text": [
      "Logistic regression\n",
      "  BOW\n",
      "     Accuracy:  0.6695842450765864\n",
      "     Precision:  0.6169839110081291\n",
      "     Recall:  0.6695842450765864\n",
      "     F1:  0.6360932106009419 \n",
      "\n",
      "  Skip-gram\n",
      "     Accuracy:  0.6832603938730853\n",
      "     Precision:  0.6326299657861938\n",
      "     Recall:  0.6832603938730853\n",
      "     F1:  0.6522335082407338 \n",
      "\n",
      "  DBOW\n",
      "     Accuracy:  0.4365426695842451\n",
      "     Precision:  0.19056950236773937\n",
      "     Recall:  0.4365426695842451\n",
      "     F1:  0.26531687001388243 \n",
      "\n"
     ]
    }
   ],
   "source": [
    "print_results('Logistic regression', lr)"
   ]
  },
  {
   "cell_type": "markdown",
   "metadata": {
    "id": "-Jr1UpmZA_9y"
   },
   "source": [
    "Najlepsze wyniki uzyskał Skip-gram pod kątem wszystkich metryk, ale wyniki te są dość słabe."
   ]
  },
  {
   "cell_type": "code",
   "execution_count": 267,
   "metadata": {
    "colab": {
     "base_uri": "https://localhost:8080/",
     "height": 621
    },
    "id": "iywu5Fag-9I9",
    "outputId": "1c535547-4474-4c09-ccdc-f41d5142b849"
   },
   "outputs": [
    {
     "data": {
      "image/png": "[encoded data removed]",
      "text/plain": [
       "<Figure size 1080x720 with 2 Axes>"
      ]
     },
     "metadata": {
      "needs_background": "light"
     },
     "output_type": "display_data"
    }
   ],
   "source": [
    "multiclass_confusion_matrix('BOW', y_test, lr_bow_predictions)"
   ]
  },
  {
   "cell_type": "code",
   "execution_count": 268,
   "metadata": {
    "colab": {
     "base_uri": "https://localhost:8080/",
     "height": 621
    },
    "id": "FY8ILHUL-9Wb",
    "outputId": "384bd2a4-926e-4b20-936d-e5d5b9e7ed35"
   },
   "outputs": [
    {
     "data": {
      "image/png": "[encoded data removed]",
      "text/plain": [
       "<Figure size 1080x720 with 2 Axes>"
      ]
     },
     "metadata": {
      "needs_background": "light"
     },
     "output_type": "display_data"
    }
   ],
   "source": [
    "multiclass_confusion_matrix('Skip-gram', y_test, lr_sg_predictions)"
   ]
  },
  {
   "cell_type": "code",
   "execution_count": 269,
   "metadata": {
    "colab": {
     "base_uri": "https://localhost:8080/",
     "height": 621
    },
    "id": "WTNVN_1C-9j6",
    "outputId": "bf375ad4-4d7f-4d95-aa8c-94e19d2c8e44"
   },
   "outputs": [
    {
     "data": {
      "image/png": "[encoded data removed]",
      "text/plain": [
       "<Figure size 1080x720 with 2 Axes>"
      ]
     },
     "metadata": {
      "needs_background": "light"
     },
     "output_type": "display_data"
    }
   ],
   "source": [
    "multiclass_confusion_matrix('DBOW', y_test, lr_dbow_predictions)"
   ]
  },
  {
   "cell_type": "markdown",
   "metadata": {
    "id": "Ips2kOtuBQdQ"
   },
   "source": [
    "Macierze błędów wykazały problem nierówności klas. Zdecydowana większość przykładów należała do jednej z dwóch klas - *Politics* lub *Science*. Metoda DBOW wykazała ten dysbalans klasyfikację tylko do klasy *Science*. Metody BOW i Skip-gram dobrze poradziły sobie z klasami *Politics* i *Science*, a z dwoma pozostałymi gorzej. "
   ]
  },
  {
   "cell_type": "markdown",
   "metadata": {
    "id": "x6C5Bo5ERb_X"
   },
   "source": [
    "## Naive Bayes"
   ]
  },
  {
   "cell_type": "markdown",
   "metadata": {},
   "source": [
    "Ponieważ wektory zawierają ujemne wartości zostały przeskalowane do wartości z zakresu (0,1)."
   ]
  },
  {
   "cell_type": "code",
   "execution_count": 270,
   "metadata": {},
   "outputs": [],
   "source": [
    "scaler = MinMaxScaler()\n",
    "\n",
    "scaled_bow_X_train = scaler.fit_transform(word2vec_X_train)\n",
    "scaled_bow_X_test = scaler.transform(word2vec_X_test)\n",
    "\n",
    "scaled_sg_X_train = scaler.fit_transform(sg_X_train)\n",
    "scaled_sg_X_test = scaler.transform(sg_X_test)\n",
    "\n",
    "scaled_dbow_X_train = scaler.fit_transform(doc2vec_X_train)\n",
    "scaled_dbow_X_test = scaler.transform(doc2vec_X_test)"
   ]
  },
  {
   "cell_type": "code",
   "execution_count": 271,
   "metadata": {
    "id": "9sRjQtkrQ7ur"
   },
   "outputs": [],
   "source": [
    "nb_bow = MultinomialNB().fit(scaled_bow_X_train, y_train)\n",
    "nb_bow_predictions = nb_bow.predict(scaled_bow_X_test)"
   ]
  },
  {
   "cell_type": "code",
   "execution_count": 272,
   "metadata": {
    "id": "rzYa1sDoQxD_"
   },
   "outputs": [],
   "source": [
    "nb_sg = MultinomialNB().fit(scaled_sg_X_train, y_train)\n",
    "nb_sg_predictions = nb_sg.predict(scaled_sg_X_test)"
   ]
  },
  {
   "cell_type": "code",
   "execution_count": 273,
   "metadata": {
    "id": "NuFJjWOBUEvv"
   },
   "outputs": [],
   "source": [
    "nb_dbow = MultinomialNB().fit(scaled_dbow_X_train, y_train)\n",
    "nb_dbow_predictions = nb_dbow.predict(scaled_dbow_X_test)"
   ]
  },
  {
   "cell_type": "code",
   "execution_count": 274,
   "metadata": {
    "id": "0MNvyGSZUFXJ"
   },
   "outputs": [
    {
     "name": "stderr",
     "output_type": "stream",
     "text": [
      "/Library/Frameworks/Python.framework/Versions/3.7/lib/python3.7/site-packages/sklearn/metrics/_classification.py:1221: UndefinedMetricWarning: Precision is ill-defined and being set to 0.0 in labels with no predicted samples. Use `zero_division` parameter to control this behavior.\n",
      "  _warn_prf(average, modifier, msg_start, len(result))\n"
     ]
    }
   ],
   "source": [
    "nb_bow_acc = accuracy_score(y_test, nb_bow_predictions)\n",
    "nb_bow_rec = recall_score(y_test, nb_bow_predictions, average='weighted')\n",
    "nb_bow_prec = precision_score(y_test, nb_bow_predictions, average='weighted')\n",
    "nb_bow_f1 = f1_score(y_test, nb_bow_predictions, average='weighted')"
   ]
  },
  {
   "cell_type": "code",
   "execution_count": 275,
   "metadata": {
    "id": "nZaa1OT9U-ge"
   },
   "outputs": [],
   "source": [
    "nb_sg_acc = accuracy_score(y_test, nb_sg_predictions)\n",
    "nb_sg_rec = recall_score(y_test, nb_sg_predictions, average='weighted')\n",
    "nb_sg_prec = precision_score(y_test, nb_sg_predictions, average='weighted')\n",
    "nb_sg_f1 = f1_score(y_test, nb_sg_predictions, average='weighted')"
   ]
  },
  {
   "cell_type": "code",
   "execution_count": 277,
   "metadata": {
    "id": "Qxd5oQtbVBQW"
   },
   "outputs": [],
   "source": [
    "nb_dbow_acc = accuracy_score(y_test, nb_dbow_predictions)\n",
    "nb_dbow_rec = recall_score(y_test, nb_dbow_predictions, average='weighted')\n",
    "nb_dbow_prec = precision_score(y_test, nb_dbow_predictions, average='weighted')\n",
    "nb_dbow_f1 = f1_score(y_test, nb_dbow_predictions, average='weighted')"
   ]
  },
  {
   "cell_type": "code",
   "execution_count": 278,
   "metadata": {
    "id": "NLzZ78iisECC"
   },
   "outputs": [],
   "source": [
    "nb = [('BOW', nb_bow_acc, nb_bow_prec, nb_bow_rec, nb_bow_f1), \n",
    "      ('Skip-gram', nb_sg_acc, nb_sg_prec, nb_sg_rec, nb_sg_f1), \n",
    "      ('DBOW', nb_dbow_acc, nb_dbow_prec, nb_dbow_rec, nb_dbow_f1)]"
   ]
  },
  {
   "cell_type": "code",
   "execution_count": 279,
   "metadata": {
    "colab": {
     "base_uri": "https://localhost:8080/"
    },
    "id": "CmWqS_JMVRhP",
    "outputId": "81adc907-7724-4e2d-93de-537086e9244f"
   },
   "outputs": [
    {
     "name": "stdout",
     "output_type": "stream",
     "text": [
      "Multinomial Naive Bayes\n",
      "  BOW\n",
      "     Accuracy:  0.562363238512035\n",
      "     Precision:  0.5267115258762105\n",
      "     Recall:  0.562363238512035\n",
      "     F1:  0.47341985167551265 \n",
      "\n",
      "  Skip-gram\n",
      "     Accuracy:  0.5486870897155361\n",
      "     Precision:  0.5327872921584594\n",
      "     Recall:  0.5486870897155361\n",
      "     F1:  0.45506902233117985 \n",
      "\n",
      "  DBOW\n",
      "     Accuracy:  0.4365426695842451\n",
      "     Precision:  0.19056950236773937\n",
      "     Recall:  0.4365426695842451\n",
      "     F1:  0.26531687001388243 \n",
      "\n"
     ]
    }
   ],
   "source": [
    "print_results('Multinomial Naive Bayes', nb)"
   ]
  },
  {
   "cell_type": "markdown",
   "metadata": {
    "id": "K4rCGANvtAb5"
   },
   "source": [
    "W przypadku prostego klasyfikatora Bayesowskiego najlepszy wynik uzyskał BOW pod kątem *accuracy*, *recall* i *F1*. Najgorszy okazał się ponownie DBOW. Najwyższe *precision* uzyskała metoda Skip-gram."
   ]
  },
  {
   "cell_type": "code",
   "execution_count": 280,
   "metadata": {
    "colab": {
     "base_uri": "https://localhost:8080/",
     "height": 621
    },
    "id": "v1gBFBlLVBTn",
    "outputId": "a4a7379d-9d9d-412c-aa92-3bc4395fd670"
   },
   "outputs": [
    {
     "data": {
      "image/png": "[encoded data removed]",
      "text/plain": [
       "<Figure size 1080x720 with 2 Axes>"
      ]
     },
     "metadata": {
      "needs_background": "light"
     },
     "output_type": "display_data"
    }
   ],
   "source": [
    "multiclass_confusion_matrix('BOW', y_test, nb_bow_predictions)"
   ]
  },
  {
   "cell_type": "code",
   "execution_count": 281,
   "metadata": {
    "colab": {
     "base_uri": "https://localhost:8080/",
     "height": 621
    },
    "id": "sRGapc2Uu0E3",
    "outputId": "31f3fb01-cc08-412d-d456-26472852e948"
   },
   "outputs": [
    {
     "data": {
      "image/png": "[encoded data removed]",
      "text/plain": [
       "<Figure size 1080x720 with 2 Axes>"
      ]
     },
     "metadata": {
      "needs_background": "light"
     },
     "output_type": "display_data"
    }
   ],
   "source": [
    "multiclass_confusion_matrix('Skip-gram', y_test, nb_sg_predictions)"
   ]
  },
  {
   "cell_type": "code",
   "execution_count": 282,
   "metadata": {
    "colab": {
     "base_uri": "https://localhost:8080/",
     "height": 621
    },
    "id": "WUH5pqCUxAUE",
    "outputId": "38f274a0-ad0b-443f-db86-2c6aa6939b87"
   },
   "outputs": [
    {
     "data": {
      "image/png": "[encoded data removed]",
      "text/plain": [
       "<Figure size 1080x720 with 2 Axes>"
      ]
     },
     "metadata": {
      "needs_background": "light"
     },
     "output_type": "display_data"
    }
   ],
   "source": [
    "multiclass_confusion_matrix('DBOW', y_test, nb_dbow_predictions)"
   ]
  },
  {
   "cell_type": "markdown",
   "metadata": {
    "id": "5m_80g4mxPUB"
   },
   "source": [
    "Macierze błędów ponownie wykazały, że najłatwiej zaklasyfikować tematy dotyczące polityki i nauki. Natomiast przestępczość i rozrywka mają niskie dokłądności. Przykładów z klasy *Politics* dokładności było ok. 2,5 raza więcej w stosunku do *Crime* i *Entertainment*, a *Science* 3 razy w zbiorze treningowym. BOW i Skip-gram potrafiły zaklasyfikować klasy 2 i 3, a DBOW ani razu nie próbował klasyfikować do kategorii innych niż *Science*."
   ]
  },
  {
   "cell_type": "markdown",
   "metadata": {
    "id": "y84EbSlS1hf0"
   },
   "source": [
    "## Decision Tree"
   ]
  },
  {
   "cell_type": "code",
   "execution_count": 285,
   "metadata": {
    "id": "zweYxeWgDa4z"
   },
   "outputs": [],
   "source": [
    "dt_bow = DecisionTreeClassifier().fit(word2vec_X_train, y_train)\n",
    "dt_bow_predictions = dt_bow.predict(word2vec_X_test)"
   ]
  },
  {
   "cell_type": "code",
   "execution_count": 286,
   "metadata": {
    "id": "wtSQaPAXDevp"
   },
   "outputs": [],
   "source": [
    "dt_sg = DecisionTreeClassifier().fit(sg_X_train, y_train)\n",
    "dt_sg_predictions = dt_sg.predict(sg_X_test)"
   ]
  },
  {
   "cell_type": "code",
   "execution_count": 287,
   "metadata": {
    "id": "s8v6ah_v8d6D"
   },
   "outputs": [],
   "source": [
    "dt_dbow = DecisionTreeClassifier().fit(doc2vec_X_train, y_train)\n",
    "dt_dbow_predictions = dt_dbow.predict(doc2vec_X_test)"
   ]
  },
  {
   "cell_type": "code",
   "execution_count": 288,
   "metadata": {
    "id": "VU6upNDr8sYv"
   },
   "outputs": [],
   "source": [
    "dt_bow_acc = accuracy_score(y_test, dt_bow_predictions)\n",
    "dt_bow_rec = recall_score(y_test, dt_bow_predictions, average='weighted')\n",
    "dt_bow_prec = precision_score(y_test, dt_bow_predictions, average='weighted')\n",
    "dt_bow_f1 = f1_score(y_test, dt_bow_predictions, average='weighted')"
   ]
  },
  {
   "cell_type": "code",
   "execution_count": 289,
   "metadata": {
    "id": "ZaSn1YTY8yxv"
   },
   "outputs": [],
   "source": [
    "dt_sg_acc = accuracy_score(y_test, dt_sg_predictions)\n",
    "dt_sg_rec = recall_score(y_test, dt_sg_predictions, average='weighted')\n",
    "dt_sg_prec = precision_score(y_test, dt_sg_predictions, average='weighted')\n",
    "dt_sg_f1 = f1_score(y_test, dt_sg_predictions, average='weighted')"
   ]
  },
  {
   "cell_type": "code",
   "execution_count": 290,
   "metadata": {
    "id": "6_pTfUH_886r"
   },
   "outputs": [],
   "source": [
    "dt_dbow_acc = accuracy_score(y_test, dt_dbow_predictions)\n",
    "dt_dbow_rec = recall_score(y_test, dt_dbow_predictions, average='weighted')\n",
    "dt_dbow_prec = precision_score(y_test, dt_dbow_predictions, average='weighted')\n",
    "dt_dbow_f1 = f1_score(y_test, dt_dbow_predictions, average='weighted')"
   ]
  },
  {
   "cell_type": "code",
   "execution_count": 291,
   "metadata": {
    "id": "95DtD05l9EyX"
   },
   "outputs": [],
   "source": [
    "dt = [('BOW', dt_bow_acc, dt_bow_prec, dt_bow_rec, dt_bow_f1), \n",
    "      ('Skip-gram', dt_sg_acc, dt_sg_rec, dt_sg_rec, dt_sg_f1), \n",
    "      ('DBOW', dt_dbow_acc, dt_dbow_prec, dt_dbow_rec, dt_dbow_f1)]"
   ]
  },
  {
   "cell_type": "code",
   "execution_count": 292,
   "metadata": {
    "colab": {
     "base_uri": "https://localhost:8080/"
    },
    "id": "dTOPaKNK9G_f",
    "outputId": "379e6823-18d0-4ec8-c534-bf6d35b85716"
   },
   "outputs": [
    {
     "name": "stdout",
     "output_type": "stream",
     "text": [
      "Decision Tree\n",
      "  BOW\n",
      "     Accuracy:  0.5016411378555798\n",
      "     Precision:  0.5869675656195058\n",
      "     Recall:  0.5016411378555798\n",
      "     F1:  0.5393625836545934 \n",
      "\n",
      "  Skip-gram\n",
      "     Accuracy:  0.5016411378555798\n",
      "     Precision:  0.5016411378555798\n",
      "     Recall:  0.5016411378555798\n",
      "     F1:  0.5366933934025792 \n",
      "\n",
      "  DBOW\n",
      "     Accuracy:  0.26805251641137856\n",
      "     Precision:  0.33517368638498285\n",
      "     Recall:  0.26805251641137856\n",
      "     F1:  0.29714145117232293 \n",
      "\n"
     ]
    }
   ],
   "source": [
    "print_results('Decision Tree', dt)"
   ]
  },
  {
   "cell_type": "markdown",
   "metadata": {
    "id": "g_MHjh5n_ZEX"
   },
   "source": [
    "W stosunku do MultinomialBayes ta metoda osiągnęła znacznie gorsze wyniki. W tym zestawieniu najlepiej wypadł BOW ze względu na *accuracy*, a TF-IDF pod kątem każdej innej miary. "
   ]
  },
  {
   "cell_type": "code",
   "execution_count": 293,
   "metadata": {
    "colab": {
     "base_uri": "https://localhost:8080/",
     "height": 621
    },
    "id": "xesnITXl9HSK",
    "outputId": "9ae8f486-d46c-4a98-f7ff-d0ba25c12d42"
   },
   "outputs": [
    {
     "data": {
      "image/png": "[encoded data removed]",
      "text/plain": [
       "<Figure size 1080x720 with 2 Axes>"
      ]
     },
     "metadata": {
      "needs_background": "light"
     },
     "output_type": "display_data"
    }
   ],
   "source": [
    "multiclass_confusion_matrix('BOW', y_test, dt_bow_predictions)"
   ]
  },
  {
   "cell_type": "code",
   "execution_count": 294,
   "metadata": {
    "colab": {
     "base_uri": "https://localhost:8080/",
     "height": 621
    },
    "id": "-pzXD1Zi9H3X",
    "outputId": "c6337bf2-a0da-4446-b951-3690635c9d25"
   },
   "outputs": [
    {
     "data": {
      "image/png": "[encoded data removed]",
      "text/plain": [
       "<Figure size 1080x720 with 2 Axes>"
      ]
     },
     "metadata": {
      "needs_background": "light"
     },
     "output_type": "display_data"
    }
   ],
   "source": [
    "multiclass_confusion_matrix('Skip-gram', y_test, dt_sg_predictions)"
   ]
  },
  {
   "cell_type": "code",
   "execution_count": 295,
   "metadata": {
    "colab": {
     "base_uri": "https://localhost:8080/",
     "height": 621
    },
    "id": "uHcrdjd19H69",
    "outputId": "4507b669-62e2-4d88-cc7c-226bdce2ecd8"
   },
   "outputs": [
    {
     "data": {
      "image/png": "[encoded data removed]",
      "text/plain": [
       "<Figure size 1080x720 with 2 Axes>"
      ]
     },
     "metadata": {
      "needs_background": "light"
     },
     "output_type": "display_data"
    }
   ],
   "source": [
    "multiclass_confusion_matrix('DBOW', y_test, dt_dbow_predictions)"
   ]
  },
  {
   "cell_type": "markdown",
   "metadata": {
    "id": "xlM2x98a_tNN"
   },
   "source": [
    "W przypadku tego klasyfikatora wszystkie wektory osiągnęły niskie wartości dokładności, ale w klasach, w których poprzednio było mało odpowiedzi teraz jest ich znacznie więcej szczególnie w przypadku DBOW. Poprzedni klasyfikator bardziej uległ dwóm dominującym w zbiorze klasom."
   ]
  },
  {
   "cell_type": "markdown",
   "metadata": {
    "id": "U8vLLz04AtPN"
   },
   "source": [
    "# Podsumowanie"
   ]
  },
  {
   "cell_type": "markdown",
   "metadata": {
    "id": "lvfHezKfD2A1"
   },
   "source": [
    "## Zbalansowanie zbioru testowego"
   ]
  },
  {
   "cell_type": "code",
   "execution_count": 296,
   "metadata": {
    "id": "gIgVtWz1D1Wq"
   },
   "outputs": [],
   "source": [
    "test_crime = len([y_test[i] for i, text in enumerate(X_test) if y_test[i] == 0])\n",
    "test_entertainment = len([y_test[i] for i, text in enumerate(X_test) if y_test[i] == 1])\n",
    "test_politics = len([y_test[i] for i, text in enumerate(X_test) if y_test[i] == 2])\n",
    "test_science = len([y_test[i] for i, text in enumerate(X_test) if y_test[i] == 3])"
   ]
  },
  {
   "cell_type": "code",
   "execution_count": 297,
   "metadata": {
    "colab": {
     "base_uri": "https://localhost:8080/",
     "height": 282
    },
    "id": "8MdN2aYBD_Bw",
    "outputId": "f0415550-10bd-420f-d44a-5b392c5aeb82"
   },
   "outputs": [
    {
     "data": {
      "text/plain": [
       "<BarContainer object of 4 artists>"
      ]
     },
     "execution_count": 297,
     "metadata": {},
     "output_type": "execute_result"
    },
    {
     "data": {
      "image/png": "[encoded data removed]",
      "text/plain": [
       "<Figure size 432x288 with 1 Axes>"
      ]
     },
     "metadata": {
      "needs_background": "light"
     },
     "output_type": "display_data"
    }
   ],
   "source": [
    "plt.bar(np.arange(4), \n",
    "        [test_crime, test_entertainment, \n",
    "         test_politics, test_science],\n",
    "       width=0.5,\n",
    "       align='center')"
   ]
  },
  {
   "cell_type": "markdown",
   "metadata": {
    "id": "1zAtRCMbIbud"
   },
   "source": [
    "Rzeczywiście zbiór testowy był niezbalansowany."
   ]
  },
  {
   "cell_type": "markdown",
   "metadata": {
    "id": "Uh-S3KyKEK7H"
   },
   "source": [
    "## Porównanie metod na wykresie"
   ]
  },
  {
   "cell_type": "code",
   "execution_count": 299,
   "metadata": {
    "colab": {
     "base_uri": "https://localhost:8080/",
     "height": 297
    },
    "id": "7r7F11x8ENG7",
    "outputId": "102b3f57-78e0-4593-8b81-8a6df8fe12dd"
   },
   "outputs": [
    {
     "data": {
      "image/png": "[encoded data removed]",
      "text/plain": [
       "<Figure size 432x288 with 1 Axes>"
      ]
     },
     "metadata": {
      "needs_background": "light"
     },
     "output_type": "display_data"
    }
   ],
   "source": [
    "lr_acc = [lr[0][1], lr[1][1], lr[2][1]]\n",
    "nb_acc = [nb[0][1], nb[1][1], nb[2][1]]\n",
    "dt_acc = [dt[0][1], dt[1][1], dt[2][1]]\n",
    "\n",
    "width = 0.2\n",
    "labels = ['BOW', 'Skip-gram', 'DBOW']\n",
    "x_vals = np.arange(len(labels))\n",
    "fig, ax = plt.subplots()\n",
    "rects1 = ax.bar(x_vals - width, lr_acc, width, label='Logistic Regression')\n",
    "rects2 = ax.bar(x_vals, nb_acc, width, label='Multinomial Bayes')\n",
    "rects3 = ax.bar(x_vals + width, dt_acc, width, label='Decision Tree')\n",
    "\n",
    "ax.set_ylabel('Accuracy')\n",
    "ax.set_title('Different classifiers scores with different vectorizers')\n",
    "ax.set_xticks(x_vals)\n",
    "ax.set_xticklabels(labels)\n",
    "ax.legend()\n",
    "\n",
    "fig.tight_layout()\n",
    "plt.show()"
   ]
  },
  {
   "cell_type": "markdown",
   "metadata": {
    "id": "92Iatr_4Ahml"
   },
   "source": [
    "Ze względu na niezbalansowany zbiór danych wszystkie klasyfikatory uzyskały niezadowalające wyniki, co widać szczególnie na macierzach błędów. Klasyfikacja do klas, których było najwięcej w zbiorze ma wyosoką dokładność, co niestety dałoby podobny rezultat, gdyby zwyczajnie zgadywać jedną z tych dwóch klas.\n",
    "\n",
    "Najlepszy wyniki wystąpił przy zestawie Logistic Regression oraz Skip-gram - ok. 68%. BOW uzyskiwał najlepsze wyniki w każdym innym klasyfikatorze. Mimo że ta metoda uzyskiwała wysokie wyniki, miała bardzo niską dokładność na klasach 0 i 1. Skip-gram zachowywał się podobnie do BOW jako, że obie opierają się o word2vec.\n",
    "\n",
    "Najgorszy wynik uzyskał DBOW (doc2vec). Był najmniej odporny na brak zbalansowania zbioru. Oprócz przypadku *Decision Tree* zachowywał się podobnie - zgadywał klasę 3 lub 4. Mimo, że w *Decision Tree* uzyskał najmniejszą dokładność tylko w tym przypadku znalazły się prawidłowo zaklasyfikowane próbki z innych klas. Ta metoda wymagała najmniej przygotowań, przyjmowała cały tekst listy dokumentów.\n",
    "\n",
    "Powodem takiego wyniku może być też fakt, że przynależność do danej klasy mogło definiować występowanie konkretnych słów np. w klasie *Politics* to było słowo *politics*. Metody word2vec kodowały każde słowo wektorem wielkości 100, które później były sumowane zgodnie z wagami tf-idf przetwarzane na wektor dokumentu także wielkości 100. Doc2vec kodował wektory metodą DBOW również za pomocą wektora długości 100. W tym wypadku lepszą metodą okazał się word2vec (obie metody BOW i Skip-gram miały podobne wyniki)."
   ]
  }
 ],
 "metadata": {
  "accelerator": "GPU",
  "colab": {
   "collapsed_sections": [],
   "name": "ZAD 1 ZALICZENIOWE.ipynb",
   "provenance": [],
   "toc_visible": true
  },
  "kernelspec": {
   "display_name": "Python 3",
   "language": "python",
   "name": "python3"
  },
  "language_info": {
   "codemirror_mode": {
    "name": "ipython",
    "version": 3
   },
   "file_extension": ".py",
   "mimetype": "text/x-python",
   "name": "python",
   "nbconvert_exporter": "python",
   "pygments_lexer": "ipython3",
   "version": "3.7.3"
  }
 },
 "nbformat": 4,
 "nbformat_minor": 1
}
