{
 "cells": [
  {
   "cell_type": "markdown",
   "metadata": {},
   "source": [
    "# Multiword expressions identification and extraction"
   ]
  },
  {
   "cell_type": "code",
   "execution_count": 42,
   "metadata": {},
   "outputs": [],
   "source": [
    "import spacy\n",
    "from spacy.tokenizer import Tokenizer\n",
    "from spacy.lang.pl import Polish\n",
    "import os\n",
    "import math\n",
    "import plotly.graph_objects as go\n",
    "from IPython.display import HTML, display\n",
    "import tabulate"
   ]
  },
  {
   "cell_type": "code",
   "execution_count": 2,
   "metadata": {},
   "outputs": [],
   "source": [
    "nlp = Polish()"
   ]
  },
  {
   "cell_type": "code",
   "execution_count": 3,
   "metadata": {},
   "outputs": [],
   "source": [
    "tokenizer = Tokenizer(nlp.vocab) # - w tej wersji interpunkcja nie jest oddzielana, ale poprawia szybkość działania znacząco"
   ]
  },
  {
   "cell_type": "code",
   "execution_count": 4,
   "metadata": {},
   "outputs": [],
   "source": [
    "files_names = []\n",
    "for file_name in os.listdir(\"../../ustawy\"):\n",
    "    if file_name.endswith(\".txt\"):\n",
    "        files_names.append(os.path.join(\"../../ustawy\", file_name))"
   ]
  },
  {
   "cell_type": "code",
   "execution_count": 5,
   "metadata": {},
   "outputs": [],
   "source": [
    "bigram_dict = {}\n",
    "tokens_freq = {}"
   ]
  },
  {
   "cell_type": "code",
   "execution_count": 6,
   "metadata": {},
   "outputs": [],
   "source": [
    "for file_name in files_names:\n",
    "    with open(file_name, encoding='utf-8') as file:\n",
    "        bill = file.read()\n",
    "        bill = bill.lower()\n",
    "        tokens = tokenizer(bill)\n",
    "        \n",
    "        prev_token = tokens[0].text\n",
    "        tokens_freq[prev_token] = tokens_freq.get(prev_token, 0) + 1\n",
    "        for i in range(1,len(tokens)):\n",
    "            token = tokens[i].text\n",
    "            bigram = (prev_token, token)\n",
    "            bigram_dict[bigram] = bigram_dict.get(bigram, 0) + 1\n",
    "            prev_token = token\n",
    "            tokens_freq[token] = tokens_freq.get(token, 0) + 1"
   ]
  },
  {
   "cell_type": "code",
   "execution_count": 7,
   "metadata": {},
   "outputs": [
    {
     "data": {
      "text/plain": [
       "1097691"
      ]
     },
     "execution_count": 7,
     "metadata": {},
     "output_type": "execute_result"
    }
   ],
   "source": [
    "len(bigram_dict)"
   ]
  },
  {
   "cell_type": "code",
   "execution_count": 8,
   "metadata": {},
   "outputs": [],
   "source": [
    "key_to_delete = []\n",
    "for key in bigram_dict.keys():\n",
    "    if not key[0].isalpha() or not key[1].isalpha():\n",
    "        key_to_delete.append(key)\n",
    "        \n",
    "for key in key_to_delete:\n",
    "    bigram_dict.pop(key, None)"
   ]
  },
  {
   "cell_type": "code",
   "execution_count": 9,
   "metadata": {},
   "outputs": [
    {
     "data": {
      "text/plain": [
       "440612"
      ]
     },
     "execution_count": 9,
     "metadata": {},
     "output_type": "execute_result"
    }
   ],
   "source": [
    "len(bigram_dict)"
   ]
  },
  {
   "cell_type": "code",
   "execution_count": 10,
   "metadata": {},
   "outputs": [],
   "source": [
    "bigram_dict = {k: v for k, v in sorted(bigram_dict.items(), key=lambda item: item[1], reverse=True)}\n",
    "tokens_freq = {k: v for k, v in sorted(tokens_freq.items(), key=lambda item: item[1], reverse=True)}"
   ]
  },
  {
   "cell_type": "markdown",
   "metadata": {},
   "source": [
    "## Pointwise mutual information"
   ]
  },
  {
   "cell_type": "code",
   "execution_count": 11,
   "metadata": {},
   "outputs": [],
   "source": [
    "bigram_PMI = {}\n",
    "tokens_amount = sum(tokens_freq.values())\n",
    "bigrams_amount = sum(bigram_dict.values())\n",
    "\n",
    "for bigram in bigram_dict.keys():\n",
    "    word1, word2 = bigram\n",
    "    prob_word1 = tokens_freq[word1] / tokens_amount\n",
    "    prob_word2 = tokens_freq[word2] / tokens_amount\n",
    "    prob_word1_word2 = bigram_dict[bigram] / bigrams_amount\n",
    "    bigram_PMI[bigram] = math.log2(prob_word1_word2/(prob_word1*prob_word2)) "
   ]
  },
  {
   "cell_type": "code",
   "execution_count": 12,
   "metadata": {},
   "outputs": [],
   "source": [
    "bigram_PMI = {k: v for k, v in sorted(bigram_PMI.items(), key=lambda item: item[1], reverse=True)}"
   ]
  },
  {
   "cell_type": "code",
   "execution_count": 13,
   "metadata": {},
   "outputs": [
    {
     "name": "stdout",
     "output_type": "stream",
     "text": [
      "doktorów habilitowanych 23.345369959864637\n",
      "pionową ścianę 23.345369959864637\n",
      "punktem wyprowadzonym 23.345369959864637\n",
      "skrzynek lęgowych 23.345369959864637\n",
      "usprawnianie zaburzonych 23.345369959864637\n",
      "oświatowa nieobejmująca 23.345369959864637\n",
      "stępkę położono 23.345369959864637\n",
      "frachtem dystansowym 23.345369959864637\n",
      "wybuchła wojna 23.345369959864637\n",
      "dało pożytecznego 23.345369959864637\n"
     ]
    }
   ],
   "source": [
    "for bigram, pmi in list(bigram_PMI.items())[:10]:\n",
    "    print(bigram[0] + ' ' + bigram[1] + ' ' + str(pmi))"
   ]
  },
  {
   "cell_type": "code",
   "execution_count": 14,
   "metadata": {},
   "outputs": [],
   "source": [
    "bigram_dict_leq5 = {k: v for k, v in bigram_dict.items() if v >= 5}"
   ]
  },
  {
   "cell_type": "code",
   "execution_count": 15,
   "metadata": {},
   "outputs": [],
   "source": [
    "bigram_PMI_leq5 = {}\n",
    "bigrams_leq5_amount = sum(bigram_dict_leq5.values())\n",
    "\n",
    "for bigram in bigram_dict_leq5.keys():\n",
    "    word1, word2 = bigram\n",
    "    prob_word1 = tokens_freq[word1] / tokens_amount\n",
    "    prob_word2 = tokens_freq[word2] / tokens_amount\n",
    "    prob_word1_word2 = bigram_dict_leq5[bigram] / bigrams_leq5_amount\n",
    "    bigram_PMI_leq5[bigram] = math.log2(prob_word1_word2/(prob_word1*prob_word2)) "
   ]
  },
  {
   "cell_type": "code",
   "execution_count": 16,
   "metadata": {},
   "outputs": [],
   "source": [
    "bigram_PMI_leq5 = {k: v for k, v in sorted(bigram_PMI_leq5.items(), key=lambda item: item[1], reverse=True)}"
   ]
  },
  {
   "cell_type": "code",
   "execution_count": 17,
   "metadata": {},
   "outputs": [
    {
     "name": "stdout",
     "output_type": "stream",
     "text": [
      "ręcznego miotacza 21.480410711800463\n",
      "świeckie przygotowujące 21.480410711800463\n",
      "grzegorz schetyna 21.480410711800463\n",
      "młyny kulowe 21.480410711800463\n",
      "zaszkodzić wynikom 21.480410711800463\n",
      "adama mickiewicza 21.21737630596667\n",
      "przeponowe rurowe 21.21737630596667\n",
      "mleczka makowego 21.21737630596667\n",
      "schedę spadkową 20.994983884630223\n",
      "lambrekiny okienne 20.994983884630223\n"
     ]
    }
   ],
   "source": [
    "for bigram, pmi in list(bigram_PMI_leq5.items())[:10]:\n",
    "    print(bigram[0] + ' ' + bigram[1] + ' ' + str(pmi))"
   ]
  },
  {
   "cell_type": "markdown",
   "metadata": {},
   "source": [
    "## Log likelihood ratio "
   ]
  },
  {
   "cell_type": "code",
   "execution_count": 18,
   "metadata": {},
   "outputs": [],
   "source": [
    "bigram_occurs = sum(bigram_dict.values())\n",
    "bigram_LLR = {}"
   ]
  },
  {
   "cell_type": "code",
   "execution_count": 19,
   "metadata": {},
   "outputs": [],
   "source": [
    "def H(args, N):\n",
    "    res = 0\n",
    "    for k in args:\n",
    "        k /= N\n",
    "        k_eq_0 = 1 if k == 0 else 0\n",
    "        res += k * math.log(k + k_eq_0)\n",
    "    return res"
   ]
  },
  {
   "cell_type": "code",
   "execution_count": 20,
   "metadata": {},
   "outputs": [],
   "source": [
    "for bigram, AandB in bigram_dict.items():\n",
    "    word1, word2 = bigram\n",
    "    BnoA = tokens_freq[word2] - AandB\n",
    "    AnoB = tokens_freq[word1] - AandB\n",
    "    noAnoB = bigram_occurs - (AandB + BnoA + AnoB)\n",
    "    LLR = 2 * bigram_occurs * (H([AandB, BnoA, AnoB, noAnoB], bigram_occurs) - \\\n",
    "                               H([AandB + BnoA, AnoB + noAnoB], bigram_occurs) - \\\n",
    "                               H([AandB + AnoB, BnoA + noAnoB], bigram_occurs))\n",
    "    bigram_LLR[bigram] = LLR     "
   ]
  },
  {
   "cell_type": "code",
   "execution_count": 21,
   "metadata": {},
   "outputs": [],
   "source": [
    "bigram_LLR = {k: v for k, v in sorted(bigram_LLR.items(), key=lambda item: item[1], reverse=True)}"
   ]
  },
  {
   "cell_type": "code",
   "execution_count": 22,
   "metadata": {},
   "outputs": [
    {
     "name": "stdout",
     "output_type": "stream",
     "text": [
      "mowa w 124645.83146718914\n",
      "których mowa 97656.02403137869\n",
      "o których 68833.82784639853\n",
      "którym mowa 64283.83923316678\n",
      "dodaje się 59756.50172767568\n",
      "do spraw 50379.07917977016\n",
      "o którym 46855.915324589136\n",
      "w w 42404.08935560332\n",
      "stosuje się 40152.69589803207\n",
      "minister właściwy 39356.628900809366\n"
     ]
    }
   ],
   "source": [
    "for bigram, llr in list(bigram_LLR.items())[:10]:\n",
    "    print(bigram[0] + ' ' + bigram[1] + ' ' + str(llr))"
   ]
  },
  {
   "cell_type": "markdown",
   "metadata": {},
   "source": [
    "## Trigram analysis "
   ]
  },
  {
   "cell_type": "code",
   "execution_count": 23,
   "metadata": {},
   "outputs": [],
   "source": [
    "trigram_dict = {}"
   ]
  },
  {
   "cell_type": "code",
   "execution_count": 24,
   "metadata": {},
   "outputs": [],
   "source": [
    "for file_name in files_names:\n",
    "    with open(file_name, encoding='utf-8') as file:\n",
    "        bill = file.read()\n",
    "        bill = bill.lower()\n",
    "        tokens = tokenizer(bill)\n",
    "        \n",
    "        prev_token = tokens[0].text\n",
    "        prev_token2 = tokens[1].text\n",
    "        for i in range(2,len(tokens)):\n",
    "            token = tokens[i].text\n",
    "            trigram = (prev_token, prev_token2, token)\n",
    "            trigram_dict[trigram] = trigram_dict.get(trigram, 0) + 1\n",
    "            prev_token = prev_token2\n",
    "            prev_token2 = token"
   ]
  },
  {
   "cell_type": "code",
   "execution_count": 25,
   "metadata": {},
   "outputs": [
    {
     "data": {
      "text/plain": [
       "2354226"
      ]
     },
     "execution_count": 25,
     "metadata": {},
     "output_type": "execute_result"
    }
   ],
   "source": [
    "len(trigram_dict)"
   ]
  },
  {
   "cell_type": "code",
   "execution_count": 26,
   "metadata": {},
   "outputs": [],
   "source": [
    "key_to_delete_trigrams = []\n",
    "for key in trigram_dict.keys():\n",
    "    if not key[0].isalpha() or not key[1].isalpha() or not key[2].isalpha():\n",
    "        key_to_delete_trigrams.append(key)\n",
    "\n",
    "for key in key_to_delete_trigrams:\n",
    "    trigram_dict.pop(key, None)"
   ]
  },
  {
   "cell_type": "code",
   "execution_count": 27,
   "metadata": {},
   "outputs": [
    {
     "data": {
      "text/plain": [
       "724349"
      ]
     },
     "execution_count": 27,
     "metadata": {},
     "output_type": "execute_result"
    }
   ],
   "source": [
    "len(trigram_dict)"
   ]
  },
  {
   "cell_type": "code",
   "execution_count": 28,
   "metadata": {},
   "outputs": [],
   "source": [
    "trigram_dict = {k: v for k, v in sorted(trigram_dict.items(), key=lambda item: item[1], reverse=True)}"
   ]
  },
  {
   "cell_type": "markdown",
   "metadata": {},
   "source": [
    "### Trigram PMI"
   ]
  },
  {
   "cell_type": "code",
   "execution_count": 29,
   "metadata": {},
   "outputs": [],
   "source": [
    "trigram_PMI = {}\n",
    "tokens_amount = sum(tokens_freq.values())\n",
    "trigrams_amount = sum(trigram_dict.values())\n",
    "    \n",
    "for trigram in trigram_dict.keys():\n",
    "    word1, word2, word3 = trigram\n",
    "    prob_word1 = tokens_freq[word1] / tokens_amount\n",
    "    prob_word2 = tokens_freq[word2] / tokens_amount\n",
    "    prob_word3 = tokens_freq[word3] / tokens_amount\n",
    "\n",
    "    prob_word1_word2_word3 = trigram_dict[trigram] / trigrams_amount\n",
    "    trigram_PMI[trigram] = math.log(prob_word1_word2_word3 / (prob_word1 * prob_word2 * prob_word3))"
   ]
  },
  {
   "cell_type": "code",
   "execution_count": 30,
   "metadata": {},
   "outputs": [],
   "source": [
    "trigram_PMI = {k: v for k, v in sorted(trigram_PMI.items(), key=lambda item: item[1], reverse=True)}"
   ]
  },
  {
   "cell_type": "code",
   "execution_count": 31,
   "metadata": {},
   "outputs": [
    {
     "name": "stdout",
     "output_type": "stream",
     "text": [
      "fabryki portland cementu 31.872699325377354\n",
      "wniebowzięcia najświętszej maryi 31.872699325377354\n",
      "najświętszej maryi panny 31.872699325377354\n",
      "suthma eegcou eok 31.872699325377354\n",
      "przekazowi pieniężnemu towarzyszyły 31.872699325377354\n",
      "wirusowych gorączek krwotocznych 31.872699325377354\n",
      "nagminnemu porażeniu dziecięcemu 31.872699325377354\n",
      "chleb świętojański strąkowy 31.872699325377354\n",
      "implantacji stymulatora nerwu 31.872699325377354\n",
      "prosimy uważnie przeczytać 31.872699325377354\n"
     ]
    }
   ],
   "source": [
    "for trigram, pmi in list(trigram_PMI.items())[:10]:\n",
    "    print(trigram[0] + ' ' + trigram[1] + ' ' + trigram[2] + ' ' + str(pmi))"
   ]
  },
  {
   "cell_type": "code",
   "execution_count": 32,
   "metadata": {},
   "outputs": [],
   "source": [
    "trigram_dict_leq5 = {k: v for k, v in trigram_dict.items() if v >= 5}"
   ]
  },
  {
   "cell_type": "code",
   "execution_count": 33,
   "metadata": {},
   "outputs": [],
   "source": [
    "trigram_PMI_leq5 = {}\n",
    "trigrams_amount_leq5 = sum(trigram_dict_leq5.values())\n",
    "    \n",
    "for trigram in trigram_dict_leq5.keys():\n",
    "    word1, word2, word3 = trigram\n",
    "    prob_word1 = tokens_freq[word1] / tokens_amount\n",
    "    prob_word2 = tokens_freq[word2] / tokens_amount\n",
    "    prob_word3 = tokens_freq[word3] / tokens_amount\n",
    "\n",
    "    prob_word1_word2_word3 = trigram_dict_leq5[trigram] / trigrams_amount_leq5\n",
    "    trigram_PMI_leq5[trigram] = math.log(prob_word1_word2_word3 / (prob_word1 * prob_word2 * prob_word3))"
   ]
  },
  {
   "cell_type": "code",
   "execution_count": 34,
   "metadata": {},
   "outputs": [],
   "source": [
    "trigram_PMI_leq5 = {k: v for k, v in sorted(trigram_PMI_leq5.items(), key=lambda item: item[1], reverse=True)}"
   ]
  },
  {
   "cell_type": "code",
   "execution_count": 35,
   "metadata": {},
   "outputs": [
    {
     "name": "stdout",
     "output_type": "stream",
     "text": [
      "piłce nożnej uefa 27.55491435712318\n",
      "profilem zaufanym epuap 27.53655710160481\n",
      "religijne uroczystości pogrzebowe 27.495971821489732\n",
      "finałowego turnieju mistrzostw 27.477622682821533\n",
      "potwierdzonym profilem zaufanym 27.219022066003348\n",
      "turnieju mistrzostw europy 27.215258418354043\n",
      "grożącą jemu samemu 26.612955878500447\n",
      "bankowemu funduszowi gwarancyjnemu 26.54591422714476\n",
      "komunalne osady ściekowe 26.515142568478005\n",
      "konfesyjne nauczanie religii 26.492669712625947\n"
     ]
    }
   ],
   "source": [
    "for trigram, pmi in list(trigram_PMI_leq5.items())[:10]:\n",
    "    print(trigram[0] + ' ' + trigram[1] + ' ' + trigram[2] + ' ' + str(pmi))"
   ]
  },
  {
   "cell_type": "markdown",
   "metadata": {},
   "source": [
    "### Trigram LLR"
   ]
  },
  {
   "cell_type": "code",
   "execution_count": 36,
   "metadata": {},
   "outputs": [],
   "source": [
    "trigram_LLR = {}"
   ]
  },
  {
   "cell_type": "markdown",
   "metadata": {},
   "source": [
    "Traktujemy trigramy jak bigramy tak, że (word1,word2,word3) -> ((word1, word2),word3), czyli (bigram, unigram) zamiast (unigram,unigram,unigram)."
   ]
  },
  {
   "cell_type": "code",
   "execution_count": 37,
   "metadata": {},
   "outputs": [],
   "source": [
    "trigram_occurs = sum(trigram_dict.values())\n",
    "\n",
    "for trigram, AandBandC in trigram_dict.items():\n",
    "    word1, word2, word3 = trigram\n",
    "    \n",
    "    CnoAandB = tokens_freq[word3] - AandBandC\n",
    "    AandBnoC = bigram_dict[(word1, word2)] - AandBandC\n",
    "    noAandBnoC = trigram_occurs - (AandBandC + CnoAandB + AandBnoC)\n",
    "    LLR = 2 * trigram_occurs * (H([AandBandC, CnoAandB, AandBnoC, noAandBnoC], trigram_occurs) - \\\n",
    "                                H([AandBandC + CnoAandB, AandBnoC + noAandBnoC], trigram_occurs) - \\\n",
    "                                H([AandBandC + AandBnoC, CnoAandB + noAandBnoC], trigram_occurs))\n",
    "    trigram_LLR[trigram] = LLR  "
   ]
  },
  {
   "cell_type": "code",
   "execution_count": 38,
   "metadata": {},
   "outputs": [],
   "source": [
    "trigram_LLR = {k: v for k, v in sorted(trigram_LLR.items(), key=lambda item: item[1], reverse=True)}"
   ]
  },
  {
   "cell_type": "code",
   "execution_count": 39,
   "metadata": {},
   "outputs": [
    {
     "name": "stdout",
     "output_type": "stream",
     "text": [
      "o których mowa 92100.04972834075\n",
      "o którym mowa 62646.7332030165\n",
      "których mowa w 47739.06848574327\n",
      "właściwy do spraw 44653.074728556625\n",
      "o której mowa 35850.49113124134\n",
      "którym mowa w 32449.770015804836\n",
      "ustawie z dnia 31176.668053809528\n",
      "zastępuje się wyrazami 25215.325587729756\n",
      "minister właściwy do 24519.717879464166\n",
      "wejścia w życie 23589.36245948675\n"
     ]
    }
   ],
   "source": [
    "for trigram, llr in list(trigram_LLR.items())[:10]:\n",
    "    print(trigram[0] + ' ' + trigram[1] + ' ' + trigram[2] + ' ' + str(llr))"
   ]
  },
  {
   "cell_type": "markdown",
   "metadata": {},
   "source": [
    "## Result comparison table "
   ]
  },
  {
   "cell_type": "code",
   "execution_count": 56,
   "metadata": {
    "scrolled": false
   },
   "outputs": [
    {
     "data": {
      "text/html": [
       "<h1>Bigrams table</h1>"
      ],
      "text/plain": [
       "<IPython.core.display.HTML object>"
      ]
     },
     "metadata": {},
     "output_type": "display_data"
    },
    {
     "data": {
      "text/html": [
       "<table>\n",
       "<thead>\n",
       "<tr><th>PMI                     </th><th style=\"text-align: right;\">  PMI value</th><th>PMI&gt;=5                 </th><th style=\"text-align: right;\">  PMI&gt;=5 value</th><th>LLR              </th><th style=\"text-align: right;\">  LLR value</th></tr>\n",
       "</thead>\n",
       "<tbody>\n",
       "<tr><td>doktorów habilitowanych </td><td style=\"text-align: right;\">    23.3454</td><td>ręcznego miotacza      </td><td style=\"text-align: right;\">       21.4804</td><td>mowa w           </td><td style=\"text-align: right;\">   124646  </td></tr>\n",
       "<tr><td>pionową ścianę          </td><td style=\"text-align: right;\">    23.3454</td><td>świeckie przygotowujące</td><td style=\"text-align: right;\">       21.4804</td><td>których mowa     </td><td style=\"text-align: right;\">    97656  </td></tr>\n",
       "<tr><td>punktem wyprowadzonym   </td><td style=\"text-align: right;\">    23.3454</td><td>grzegorz schetyna      </td><td style=\"text-align: right;\">       21.4804</td><td>o których        </td><td style=\"text-align: right;\">    68833.8</td></tr>\n",
       "<tr><td>skrzynek lęgowych       </td><td style=\"text-align: right;\">    23.3454</td><td>młyny kulowe           </td><td style=\"text-align: right;\">       21.4804</td><td>którym mowa      </td><td style=\"text-align: right;\">    64283.8</td></tr>\n",
       "<tr><td>usprawnianie zaburzonych</td><td style=\"text-align: right;\">    23.3454</td><td>zaszkodzić wynikom     </td><td style=\"text-align: right;\">       21.4804</td><td>dodaje się       </td><td style=\"text-align: right;\">    59756.5</td></tr>\n",
       "<tr><td>oświatowa nieobejmująca </td><td style=\"text-align: right;\">    23.3454</td><td>adama mickiewicza      </td><td style=\"text-align: right;\">       21.2174</td><td>do spraw         </td><td style=\"text-align: right;\">    50379.1</td></tr>\n",
       "<tr><td>stępkę położono         </td><td style=\"text-align: right;\">    23.3454</td><td>przeponowe rurowe      </td><td style=\"text-align: right;\">       21.2174</td><td>o którym         </td><td style=\"text-align: right;\">    46855.9</td></tr>\n",
       "<tr><td>frachtem dystansowym    </td><td style=\"text-align: right;\">    23.3454</td><td>mleczka makowego       </td><td style=\"text-align: right;\">       21.2174</td><td>w w              </td><td style=\"text-align: right;\">    42404.1</td></tr>\n",
       "<tr><td>wybuchła wojna          </td><td style=\"text-align: right;\">    23.3454</td><td>schedę spadkową        </td><td style=\"text-align: right;\">       20.995 </td><td>stosuje się      </td><td style=\"text-align: right;\">    40152.7</td></tr>\n",
       "<tr><td>dało pożytecznego       </td><td style=\"text-align: right;\">    23.3454</td><td>lambrekiny okienne     </td><td style=\"text-align: right;\">       20.995 </td><td>minister właściwy</td><td style=\"text-align: right;\">    39356.6</td></tr>\n",
       "</tbody>\n",
       "</table>"
      ],
      "text/plain": [
       "<IPython.core.display.HTML object>"
      ]
     },
     "metadata": {},
     "output_type": "display_data"
    }
   ],
   "source": [
    "bigram_table = [val for val in zip(list([k1 + ' ' + k2 for (k1,k2) in bigram_PMI.keys()])[:10], \n",
    "                                   list(bigram_PMI.values())[:10], \n",
    "                                   list([k1 + ' ' + k2 for (k1,k2) in bigram_PMI_leq5.keys()])[:10], \n",
    "                                   list(bigram_PMI_leq5.values())[:10],\n",
    "                                   list([k1 + ' ' + k2 for (k1,k2) in bigram_LLR.keys()])[:10], \n",
    "                                   list(bigram_LLR.values())[:10])]\n",
    "\n",
    "display(HTML('<h1>Bigrams table</h1>'))\n",
    "display(HTML(tabulate.tabulate(bigram_table, tablefmt='html', headers=['PMI', 'PMI value', 'PMI>=5', 'PMI>=5 value',\n",
    "                                                                 'LLR', 'LLR value'])))"
   ]
  },
  {
   "cell_type": "markdown",
   "metadata": {},
   "source": [
    "Można zauważyć, że żadne kolokacje nie powtarzają się w obrębie PMI. Jest to spowodowane silną kolokacją wyrazów występujących rzadko, ponieważ zapewne występują tylko raz i tym samym tylko razem. Natomiast po wykrojeniu tych bigramów, które są zbyt rzadko w zbiorze otrzymujemy wyrazy będące w rzeczywistości w silnej kolokacji, ponieważ występują w dużych ilościach i kilkukrotnie razem, ale jak widać nie zawsze, bo miara jest mniejsza niż w poprzedniej kolumnie. W przypadku LLR miara ta jest jeszcze bardziej restrykcyjna, ponieważ znajduje wyrazy, które rzeczywiście najczęściej występują razem spośród wszystkich kombinacji danych słów w bigramie. "
   ]
  },
  {
   "cell_type": "code",
   "execution_count": 58,
   "metadata": {},
   "outputs": [
    {
     "data": {
      "text/html": [
       "<h1>Trigrams table</h1>"
      ],
      "text/plain": [
       "<IPython.core.display.HTML object>"
      ]
     },
     "metadata": {},
     "output_type": "display_data"
    },
    {
     "data": {
      "text/html": [
       "<table>\n",
       "<thead>\n",
       "<tr><th>PMI                                </th><th style=\"text-align: right;\">  PMI value</th><th>PMI&gt;=5                            </th><th style=\"text-align: right;\">  PMI&gt;=5 value</th><th>LLR                   </th><th style=\"text-align: right;\">  LLR value</th></tr>\n",
       "</thead>\n",
       "<tbody>\n",
       "<tr><td>fabryki portland cementu           </td><td style=\"text-align: right;\">    31.8727</td><td>piłce nożnej uefa                 </td><td style=\"text-align: right;\">       27.5549</td><td>o których mowa        </td><td style=\"text-align: right;\">    92100  </td></tr>\n",
       "<tr><td>wniebowzięcia najświętszej maryi   </td><td style=\"text-align: right;\">    31.8727</td><td>profilem zaufanym epuap           </td><td style=\"text-align: right;\">       27.5366</td><td>o którym mowa         </td><td style=\"text-align: right;\">    62646.7</td></tr>\n",
       "<tr><td>najświętszej maryi panny           </td><td style=\"text-align: right;\">    31.8727</td><td>religijne uroczystości pogrzebowe </td><td style=\"text-align: right;\">       27.496 </td><td>których mowa w        </td><td style=\"text-align: right;\">    47739.1</td></tr>\n",
       "<tr><td>suthma eegcou eok                  </td><td style=\"text-align: right;\">    31.8727</td><td>finałowego turnieju mistrzostw    </td><td style=\"text-align: right;\">       27.4776</td><td>właściwy do spraw     </td><td style=\"text-align: right;\">    44653.1</td></tr>\n",
       "<tr><td>przekazowi pieniężnemu towarzyszyły</td><td style=\"text-align: right;\">    31.8727</td><td>potwierdzonym profilem zaufanym   </td><td style=\"text-align: right;\">       27.219 </td><td>o której mowa         </td><td style=\"text-align: right;\">    35850.5</td></tr>\n",
       "<tr><td>wirusowych gorączek krwotocznych   </td><td style=\"text-align: right;\">    31.8727</td><td>turnieju mistrzostw europy        </td><td style=\"text-align: right;\">       27.2153</td><td>którym mowa w         </td><td style=\"text-align: right;\">    32449.8</td></tr>\n",
       "<tr><td>nagminnemu porażeniu dziecięcemu   </td><td style=\"text-align: right;\">    31.8727</td><td>grożącą jemu samemu               </td><td style=\"text-align: right;\">       26.613 </td><td>ustawie z dnia        </td><td style=\"text-align: right;\">    31176.7</td></tr>\n",
       "<tr><td>chleb świętojański strąkowy        </td><td style=\"text-align: right;\">    31.8727</td><td>bankowemu funduszowi gwarancyjnemu</td><td style=\"text-align: right;\">       26.5459</td><td>zastępuje się wyrazami</td><td style=\"text-align: right;\">    25215.3</td></tr>\n",
       "<tr><td>implantacji stymulatora nerwu      </td><td style=\"text-align: right;\">    31.8727</td><td>komunalne osady ściekowe          </td><td style=\"text-align: right;\">       26.5151</td><td>minister właściwy do  </td><td style=\"text-align: right;\">    24519.7</td></tr>\n",
       "<tr><td>prosimy uważnie przeczytać         </td><td style=\"text-align: right;\">    31.8727</td><td>konfesyjne nauczanie religii      </td><td style=\"text-align: right;\">       26.4927</td><td>wejścia w życie       </td><td style=\"text-align: right;\">    23589.4</td></tr>\n",
       "</tbody>\n",
       "</table>"
      ],
      "text/plain": [
       "<IPython.core.display.HTML object>"
      ]
     },
     "metadata": {},
     "output_type": "display_data"
    }
   ],
   "source": [
    "trigram_table = [val for val in zip(list([k1 + ' ' + k2 + ' ' + k3 for (k1,k2,k3) in trigram_PMI.keys()])[:10], \n",
    "                                   list(trigram_PMI.values())[:10], \n",
    "                                   list([k1 + ' ' + k2 + ' ' + k3 for (k1,k2,k3) in trigram_PMI_leq5.keys()])[:10], \n",
    "                                   list(trigram_PMI_leq5.values())[:10],\n",
    "                                   list([k1 + ' ' + k2 + ' ' + k3 for (k1,k2,k3) in trigram_LLR.keys()])[:10], \n",
    "                                   list(trigram_LLR.values())[:10])]\n",
    "\n",
    "display(HTML('<h1>Trigrams table</h1>'))\n",
    "display(HTML(tabulate.tabulate(trigram_table, tablefmt='html', headers=['PMI', 'PMI value', 'PMI>=5', 'PMI>=5 value',\n",
    "                                                                 'LLR', 'LLR value'])))"
   ]
  },
  {
   "cell_type": "markdown",
   "metadata": {},
   "source": [
    "W przypadku trigramów w PMI otrzymano znacznie więcej ciekawych kolokacji, które są np. nazwą instytucji jak np. bank funduszu gwarancyjnego. Tak jak w poprzednim przypadku bigramy w PMI>=5 są dużo bardziej sensowne niż PMI oraz LLR. Dla LLR silne kolokacje stworzyły wyrażenia łącznikowe, ale nie jesteśmy już w stanie na ich podstawie stwierdzić, co było np. tematem ustawy, a przy PMI już jak najbardziej."
   ]
  },
  {
   "cell_type": "markdown",
   "metadata": {},
   "source": [
    "Trigramy dają rzeczywistą informację o sile kolokacji w stosunku do bigramów. Częściej są to wyrażenia, które są tym, co chcielibyśmy uzyskać np. Turniej Mistrzostw Europy itp., czyli wyrażenia niosące zupełnie inne znaczenie niż każde ze słów je tworzących."
   ]
  },
  {
   "cell_type": "markdown",
   "metadata": {},
   "source": [
    "1) Why do we have to filter the bigrams, rather than the token sequence?"
   ]
  },
  {
   "cell_type": "markdown",
   "metadata": {},
   "source": [
    "Ponieważ filtrowanie tokenów przez znalezieniem bigramów spowodowałoby utworzenie nieistniejących kolokacji. Na przykład zdanie: 'W ustawie z dn. 14 grudnia...' po usunięciu znaków niealfanumerycznych przed stworzeniem bigramów wyprodukowałoby bigram (dn, grudnia), który tak naprawdę nie istnieje."
   ]
  },
  {
   "cell_type": "markdown",
   "metadata": {},
   "source": [
    "2) Which measure (PMI, PMI with filtering, LLR) works better for the bigrams and which for the trigrams?"
   ]
  },
  {
   "cell_type": "markdown",
   "metadata": {},
   "source": [
    "Dla bigramów odpowiednią metodą wydaje się być PMI>=5, ale LLR także zwracało sensowne wyniki takie jak np. minister właściwy, dodaje się itp. Są to kolokacje na podstawie których można uzyskać jakieś dodatkowe informacje o tekście. Natomiast dla trigramów najlepszą metodą jest zdecydowanie PMI>=5 oraz PMI, ponieważ znajduje całe wyrażenia własne np. Wniebowzięcie Najświętszej Maryi, potwierdzony profil zaufany. Są to dane wprowadzające dużą wiedzą dodatkową na temat tekstu. Jednak wszystko zależy od tego co chcieliśmy uzyskać. Metoda LLR jest bardziej niezależna od tego, ile słów wchodzi w skład n-gramu, zawsze znajduje podobne kolokacje np. będące rozszerzeniem bigramu do trigramu."
   ]
  },
  {
   "cell_type": "markdown",
   "metadata": {},
   "source": [
    "3)What types of expressions are discovered by the methods."
   ]
  },
  {
   "cell_type": "markdown",
   "metadata": {},
   "source": [
    "PMI/PMI>=5 - imiona i nazwiska, nazwy świąt, wydarzeń sportowych, nazwy własne\n",
    "\n",
    "LLR - silne kolokacje słów będących łącznikami zdań np. w którym, o których itp."
   ]
  },
  {
   "cell_type": "markdown",
   "metadata": {},
   "source": [
    "4) Can you devise a different type of filtering that would yield better results?"
   ]
  },
  {
   "cell_type": "markdown",
   "metadata": {},
   "source": [
    "Można dokonać lepszej filtracji słów np. wyrzucić słowa krótsze niż 2 litery, wyrzucić tzw. stop words, pozbyć się słów najczęściej występujących równocześnie w wielu n-gramach, co wyeliminuje słowa typu których, które itp."
   ]
  }
 ],
 "metadata": {
  "kernelspec": {
   "display_name": "Python 3",
   "language": "python",
   "name": "python3"
  },
  "language_info": {
   "codemirror_mode": {
    "name": "ipython",
    "version": 3
   },
   "file_extension": ".py",
   "mimetype": "text/x-python",
   "name": "python",
   "nbconvert_exporter": "python",
   "pygments_lexer": "ipython3",
   "version": "3.7.3"
  }
 },
 "nbformat": 4,
 "nbformat_minor": 4
}
