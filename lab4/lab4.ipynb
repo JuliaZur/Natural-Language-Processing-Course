{
 "cells": [
  {
   "cell_type": "markdown",
   "metadata": {},
   "source": [
    "# Multiword expressions identification and extraction"
   ]
  },
  {
   "cell_type": "code",
   "execution_count": 1,
   "metadata": {},
   "outputs": [],
   "source": [
    "import spacy\n",
    "from spacy.tokenizer import Tokenizer\n",
    "from spacy.lang.pl import Polish\n",
    "import os\n",
    "import math\n",
    "import plotly.graph_objects as go\n",
    "from IPython.display import HTML, display"
   ]
  },
  {
   "cell_type": "code",
   "execution_count": 2,
   "metadata": {},
   "outputs": [],
   "source": [
    "nlp = Polish()"
   ]
  },
  {
   "cell_type": "code",
   "execution_count": 3,
   "metadata": {},
   "outputs": [],
   "source": [
    "tokenizer = Tokenizer(nlp.vocab) # - w tej wersji interpunkcja nie jest oddzielana, ale poprawia szybkość działania znacząco"
   ]
  },
  {
   "cell_type": "code",
   "execution_count": 4,
   "metadata": {},
   "outputs": [],
   "source": [
    "files_names = []\n",
    "for file_name in os.listdir(\"../../ustawy\"):\n",
    "    if file_name.endswith(\".txt\"):\n",
    "        files_names.append(os.path.join(\"../../ustawy\", file_name))"
   ]
  },
  {
   "cell_type": "code",
   "execution_count": 5,
   "metadata": {},
   "outputs": [],
   "source": [
    "bigram_dict = {}\n",
    "tokens_freq = {}"
   ]
  },
  {
   "cell_type": "code",
   "execution_count": 6,
   "metadata": {},
   "outputs": [],
   "source": [
    "for file_name in files_names:\n",
    "    with open(file_name, encoding='utf-8') as file:\n",
    "        bill = file.read()\n",
    "        bill = bill.lower()\n",
    "        tokens = tokenizer(bill)\n",
    "        \n",
    "        prev_token = tokens[0].text\n",
    "        tokens_freq[prev_token] = tokens_freq.get(prev_token, 0) + 1\n",
    "        for i in range(1,len(tokens)):\n",
    "            token = tokens[i].text\n",
    "            bigram = (prev_token, token)\n",
    "            bigram_dict[bigram] = bigram_dict.get(bigram, 0) + 1\n",
    "            prev_token = token\n",
    "            tokens_freq[token] = tokens_freq.get(token, 0) + 1"
   ]
  },
  {
   "cell_type": "code",
   "execution_count": 7,
   "metadata": {},
   "outputs": [
    {
     "data": {
      "text/plain": [
       "1097691"
      ]
     },
     "execution_count": 7,
     "metadata": {},
     "output_type": "execute_result"
    }
   ],
   "source": [
    "len(bigram_dict)"
   ]
  },
  {
   "cell_type": "code",
   "execution_count": 8,
   "metadata": {},
   "outputs": [],
   "source": [
    "key_to_delete = []\n",
    "for key in bigram_dict.keys():\n",
    "    if not key[0].isalpha() or not key[1].isalpha():\n",
    "        key_to_delete.append(key)\n",
    "        \n",
    "for key in key_to_delete:\n",
    "    bigram_dict.pop(key, None)"
   ]
  },
  {
   "cell_type": "code",
   "execution_count": 9,
   "metadata": {},
   "outputs": [
    {
     "data": {
      "text/plain": [
       "440612"
      ]
     },
     "execution_count": 9,
     "metadata": {},
     "output_type": "execute_result"
    }
   ],
   "source": [
    "len(bigram_dict)"
   ]
  },
  {
   "cell_type": "code",
   "execution_count": 10,
   "metadata": {},
   "outputs": [],
   "source": [
    "bigram_dict = {k: v for k, v in sorted(bigram_dict.items(), key=lambda item: item[1], reverse=True)}\n",
    "tokens_freq = {k: v for k, v in sorted(tokens_freq.items(), key=lambda item: item[1], reverse=True)}"
   ]
  },
  {
   "cell_type": "markdown",
   "metadata": {},
   "source": [
    "## Pointwise mutual information"
   ]
  },
  {
   "cell_type": "code",
   "execution_count": 11,
   "metadata": {},
   "outputs": [],
   "source": [
    "bigram_PMI = {}\n",
    "tokens_amount = sum(tokens_freq.values())\n",
    "bigrams_amount = sum(bigram_dict.values())\n",
    "\n",
    "for bigram in bigram_dict.keys():\n",
    "    word1, word2 = bigram\n",
    "    prob_word1 = tokens_freq[word1] / tokens_amount\n",
    "    prob_word2 = tokens_freq[word2] / tokens_amount\n",
    "    prob_word1_word2 = bigram_dict[bigram] / bigrams_amount\n",
    "    bigram_PMI[bigram] = math.log2(prob_word1_word2/(prob_word1*prob_word2)) "
   ]
  },
  {
   "cell_type": "code",
   "execution_count": 12,
   "metadata": {},
   "outputs": [],
   "source": [
    "bigram_PMI = {k: v for k, v in sorted(bigram_PMI.items(), key=lambda item: item[1], reverse=True)}"
   ]
  },
  {
   "cell_type": "code",
   "execution_count": 13,
   "metadata": {},
   "outputs": [
    {
     "name": "stdout",
     "output_type": "stream",
     "text": [
      "doktorów habilitowanych 23.345369959864637\n",
      "pionową ścianę 23.345369959864637\n",
      "punktem wyprowadzonym 23.345369959864637\n",
      "skrzynek lęgowych 23.345369959864637\n",
      "usprawnianie zaburzonych 23.345369959864637\n",
      "oświatowa nieobejmująca 23.345369959864637\n",
      "stępkę położono 23.345369959864637\n",
      "frachtem dystansowym 23.345369959864637\n",
      "wybuchła wojna 23.345369959864637\n",
      "dało pożytecznego 23.345369959864637\n"
     ]
    }
   ],
   "source": [
    "for bigram, pmi in list(bigram_PMI.items())[:10]:\n",
    "    print(bigram[0] + ' ' + bigram[1] + ' ' + str(pmi))"
   ]
  },
  {
   "cell_type": "code",
   "execution_count": 14,
   "metadata": {},
   "outputs": [],
   "source": [
    "bigram_dict_leq5 = {k: v for k, v in bigram_dict.items() if v >= 5}"
   ]
  },
  {
   "cell_type": "code",
   "execution_count": 15,
   "metadata": {},
   "outputs": [],
   "source": [
    "bigram_PMI_leq5 = {}\n",
    "bigrams_leq5_amount = sum(bigram_dict_leq5.values())\n",
    "\n",
    "for bigram in bigram_dict_leq5.keys():\n",
    "    word1, word2 = bigram\n",
    "    prob_word1 = tokens_freq[word1] / tokens_amount\n",
    "    prob_word2 = tokens_freq[word2] / tokens_amount\n",
    "    prob_word1_word2 = bigram_dict_leq5[bigram] / bigrams_leq5_amount\n",
    "    bigram_PMI_leq5[bigram] = math.log2(prob_word1_word2/(prob_word1*prob_word2)) "
   ]
  },
  {
   "cell_type": "code",
   "execution_count": 16,
   "metadata": {},
   "outputs": [],
   "source": [
    "bigram_PMI_leq5 = {k: v for k, v in sorted(bigram_PMI_leq5.items(), key=lambda item: item[1], reverse=True)}"
   ]
  },
  {
   "cell_type": "code",
   "execution_count": 17,
   "metadata": {},
   "outputs": [
    {
     "name": "stdout",
     "output_type": "stream",
     "text": [
      "ręcznego miotacza 21.480410711800463\n",
      "świeckie przygotowujące 21.480410711800463\n",
      "grzegorz schetyna 21.480410711800463\n",
      "młyny kulowe 21.480410711800463\n",
      "zaszkodzić wynikom 21.480410711800463\n",
      "adama mickiewicza 21.21737630596667\n",
      "przeponowe rurowe 21.21737630596667\n",
      "mleczka makowego 21.21737630596667\n",
      "schedę spadkową 20.994983884630223\n",
      "lambrekiny okienne 20.994983884630223\n"
     ]
    }
   ],
   "source": [
    "for bigram, pmi in list(bigram_PMI_leq5.items())[:10]:\n",
    "    print(bigram[0] + ' ' + bigram[1] + ' ' + str(pmi))"
   ]
  },
  {
   "cell_type": "markdown",
   "metadata": {},
   "source": [
    "## Log likelihood ratio "
   ]
  },
  {
   "cell_type": "code",
   "execution_count": 18,
   "metadata": {},
   "outputs": [],
   "source": [
    "bigram_occurs = sum(bigram_dict.values())\n",
    "bigram_LLR = {}"
   ]
  },
  {
   "cell_type": "code",
   "execution_count": 19,
   "metadata": {},
   "outputs": [],
   "source": [
    "def H(args, N):\n",
    "    res = 0\n",
    "    for k in args:\n",
    "        k /= N\n",
    "        k_eq_0 = 1 if k == 0 else 0\n",
    "        res += k * math.log(k + k_eq_0)\n",
    "    return res"
   ]
  },
  {
   "cell_type": "code",
   "execution_count": 20,
   "metadata": {},
   "outputs": [],
   "source": [
    "for bigram, AandB in bigram_dict.items():\n",
    "    word1, word2 = bigram\n",
    "    BnoA = tokens_freq[word2] - AandB\n",
    "    AnoB = tokens_freq[word1] - AandB\n",
    "    noAnoB = bigram_occurs - (AandB + BnoA + AnoB)\n",
    "    LLR = 2 * bigram_occurs * (H([AandB, BnoA, AnoB, noAnoB], bigram_occurs) - \\\n",
    "                               H([AandB + BnoA, AnoB + noAnoB], bigram_occurs) - \\\n",
    "                               H([AandB + AnoB, BnoA + noAnoB], bigram_occurs))\n",
    "    bigram_LLR[bigram] = LLR     "
   ]
  },
  {
   "cell_type": "code",
   "execution_count": 21,
   "metadata": {},
   "outputs": [],
   "source": [
    "bigram_LLR = {k: v for k, v in sorted(bigram_LLR.items(), key=lambda item: item[1], reverse=True)}"
   ]
  },
  {
   "cell_type": "code",
   "execution_count": 22,
   "metadata": {},
   "outputs": [
    {
     "name": "stdout",
     "output_type": "stream",
     "text": [
      "mowa w 124645.83146718914\n",
      "których mowa 97656.02403137869\n",
      "o których 68833.82784639853\n",
      "którym mowa 64283.83923316678\n",
      "dodaje się 59756.50172767568\n",
      "do spraw 50379.07917977016\n",
      "o którym 46855.915324589136\n",
      "w w 42404.08935560332\n",
      "stosuje się 40152.69589803207\n",
      "minister właściwy 39356.628900809366\n"
     ]
    }
   ],
   "source": [
    "for bigram, llr in list(bigram_LLR.items())[:10]:\n",
    "    print(bigram[0] + ' ' + bigram[1] + ' ' + str(llr))"
   ]
  },
  {
   "cell_type": "markdown",
   "metadata": {},
   "source": [
    "## Trigram analysis "
   ]
  },
  {
   "cell_type": "code",
   "execution_count": 23,
   "metadata": {},
   "outputs": [],
   "source": [
    "trigram_dict = {}"
   ]
  },
  {
   "cell_type": "code",
   "execution_count": 24,
   "metadata": {},
   "outputs": [],
   "source": [
    "for file_name in files_names:\n",
    "    with open(file_name, encoding='utf-8') as file:\n",
    "        bill = file.read()\n",
    "        bill = bill.lower()\n",
    "        tokens = tokenizer(bill)\n",
    "        \n",
    "        prev_token = tokens[0].text\n",
    "        prev_token2 = tokens[1].text\n",
    "        for i in range(2,len(tokens)):\n",
    "            token = tokens[i].text\n",
    "            trigram = (prev_token, prev_token2, token)\n",
    "            trigram_dict[trigram] = trigram_dict.get(trigram, 0) + 1\n",
    "            prev_token = prev_token2\n",
    "            prev_token2 = token"
   ]
  },
  {
   "cell_type": "code",
   "execution_count": 25,
   "metadata": {},
   "outputs": [
    {
     "data": {
      "text/plain": [
       "2354226"
      ]
     },
     "execution_count": 25,
     "metadata": {},
     "output_type": "execute_result"
    }
   ],
   "source": [
    "len(trigram_dict)"
   ]
  },
  {
   "cell_type": "code",
   "execution_count": 26,
   "metadata": {},
   "outputs": [],
   "source": [
    "key_to_delete_trigrams = []\n",
    "for key in trigram_dict.keys():\n",
    "    if not key[0].isalpha() or not key[1].isalpha() or not key[2].isalpha():\n",
    "        key_to_delete_trigrams.append(key)\n",
    "\n",
    "for key in key_to_delete_trigrams:\n",
    "    trigram_dict.pop(key, None)"
   ]
  },
  {
   "cell_type": "code",
   "execution_count": 27,
   "metadata": {},
   "outputs": [
    {
     "data": {
      "text/plain": [
       "724349"
      ]
     },
     "execution_count": 27,
     "metadata": {},
     "output_type": "execute_result"
    }
   ],
   "source": [
    "len(trigram_dict)"
   ]
  },
  {
   "cell_type": "code",
   "execution_count": 28,
   "metadata": {},
   "outputs": [],
   "source": [
    "trigram_dict = {k: v for k, v in sorted(trigram_dict.items(), key=lambda item: item[1], reverse=True)}"
   ]
  },
  {
   "cell_type": "markdown",
   "metadata": {},
   "source": [
    "### Trigram PMI"
   ]
  },
  {
   "cell_type": "code",
   "execution_count": 29,
   "metadata": {},
   "outputs": [],
   "source": [
    "trigram_PMI = {}\n",
    "tokens_amount = sum(tokens_freq.values())\n",
    "trigrams_amount = sum(trigram_dict.values())\n",
    "    \n",
    "for trigram in trigram_dict.keys():\n",
    "    word1, word2, word3 = trigram\n",
    "    prob_word1 = tokens_freq[word1] / tokens_amount\n",
    "    prob_word2 = tokens_freq[word2] / tokens_amount\n",
    "    prob_word3 = tokens_freq[word3] / tokens_amount\n",
    "\n",
    "    prob_word1_word2_word3 = trigram_dict[trigram] / trigrams_amount\n",
    "    trigram_PMI[trigram] = math.log(prob_word1_word2_word3 / (prob_word1 * prob_word2 * prob_word3))"
   ]
  },
  {
   "cell_type": "code",
   "execution_count": 41,
   "metadata": {},
   "outputs": [],
   "source": [
    "trigram_PMI = {k: v for k, v in sorted(trigram_PMI.items(), key=lambda item: item[1], reverse=True)}"
   ]
  },
  {
   "cell_type": "code",
   "execution_count": 42,
   "metadata": {},
   "outputs": [
    {
     "name": "stdout",
     "output_type": "stream",
     "text": [
      "fabryki portland cementu 31.872699325377354\n",
      "wniebowzięcia najświętszej maryi 31.872699325377354\n",
      "najświętszej maryi panny 31.872699325377354\n",
      "suthma eegcou eok 31.872699325377354\n",
      "przekazowi pieniężnemu towarzyszyły 31.872699325377354\n",
      "wirusowych gorączek krwotocznych 31.872699325377354\n",
      "nagminnemu porażeniu dziecięcemu 31.872699325377354\n",
      "chleb świętojański strąkowy 31.872699325377354\n",
      "implantacji stymulatora nerwu 31.872699325377354\n",
      "prosimy uważnie przeczytać 31.872699325377354\n"
     ]
    }
   ],
   "source": [
    "for trigram, pmi in list(trigram_PMI.items())[:10]:\n",
    "    print(trigram[0] + ' ' + trigram[1] + ' ' + trigram[2] + ' ' + str(pmi))"
   ]
  },
  {
   "cell_type": "code",
   "execution_count": 31,
   "metadata": {},
   "outputs": [],
   "source": [
    "trigram_dict_leq5 = {k: v for k, v in trigram_dict.items() if v >= 5}"
   ]
  },
  {
   "cell_type": "code",
   "execution_count": 32,
   "metadata": {},
   "outputs": [],
   "source": [
    "trigram_PMI_leq5 = {}\n",
    "trigrams_amount_leq5 = sum(trigram_dict_leq5.values())\n",
    "    \n",
    "for trigram in trigram_dict_leq5.keys():\n",
    "    word1, word2, word3 = trigram\n",
    "    prob_word1 = tokens_freq[word1] / tokens_amount\n",
    "    prob_word2 = tokens_freq[word2] / tokens_amount\n",
    "    prob_word3 = tokens_freq[word3] / tokens_amount\n",
    "\n",
    "    prob_word1_word2_word3 = trigram_dict_leq5[trigram] / trigrams_amount_leq5\n",
    "    trigram_PMI_leq5[trigram] = math.log(prob_word1_word2_word3 / (prob_word1 * prob_word2 * prob_word3))"
   ]
  },
  {
   "cell_type": "code",
   "execution_count": 43,
   "metadata": {},
   "outputs": [],
   "source": [
    "trigram_PMI_leq5 = {k: v for k, v in sorted(trigram_PMI_leq5.items(), key=lambda item: item[1], reverse=True)}"
   ]
  },
  {
   "cell_type": "code",
   "execution_count": 44,
   "metadata": {},
   "outputs": [
    {
     "name": "stdout",
     "output_type": "stream",
     "text": [
      "piłce nożnej uefa 27.55491435712318\n",
      "profilem zaufanym epuap 27.53655710160481\n",
      "religijne uroczystości pogrzebowe 27.495971821489732\n",
      "finałowego turnieju mistrzostw 27.477622682821533\n",
      "potwierdzonym profilem zaufanym 27.219022066003348\n",
      "turnieju mistrzostw europy 27.215258418354043\n",
      "grożącą jemu samemu 26.612955878500447\n",
      "bankowemu funduszowi gwarancyjnemu 26.54591422714476\n",
      "komunalne osady ściekowe 26.515142568478005\n",
      "konfesyjne nauczanie religii 26.492669712625947\n"
     ]
    }
   ],
   "source": [
    "for trigram, pmi in list(trigram_PMI_leq5.items())[:10]:\n",
    "    print(trigram[0] + ' ' + trigram[1] + ' ' + trigram[2] + ' ' + str(pmi))"
   ]
  },
  {
   "cell_type": "markdown",
   "metadata": {},
   "source": [
    "### Trigram LLR"
   ]
  },
  {
   "cell_type": "code",
   "execution_count": 34,
   "metadata": {},
   "outputs": [],
   "source": [
    "trigram_LLR = {}"
   ]
  },
  {
   "cell_type": "markdown",
   "metadata": {},
   "source": [
    "Traktujemy trigramy jak bigramy tak, że (word1,word2,word3) -> ((word1, word2),word3), czyli (bigram, unigram) zamiast (unigram,unigram,unigram)."
   ]
  },
  {
   "cell_type": "code",
   "execution_count": 35,
   "metadata": {},
   "outputs": [],
   "source": [
    "trigram_occurs = sum(trigram_dict.values())\n",
    "\n",
    "for trigram, AandBandC in trigram_dict.items():\n",
    "    word1, word2, word3 = trigram\n",
    "    \n",
    "    CnoAandB = tokens_freq[word3] - AandBandC\n",
    "    AandBnoC = bigram_dict[(word1, word2)] - AandBandC\n",
    "    noAandBnoC = trigram_occurs - (AandBandC + CnoAandB + AandBnoC)\n",
    "    LLR = 2 * trigram_occurs * (H([AandBandC, CnoAandB, AandBnoC, noAandBnoC], trigram_occurs) - \\\n",
    "                                H([AandBandC + CnoAandB, AandBnoC + noAandBnoC], trigram_occurs) - \\\n",
    "                                H([AandBandC + AandBnoC, CnoAandB + noAandBnoC], trigram_occurs))\n",
    "    trigram_LLR[trigram] = LLR  "
   ]
  },
  {
   "cell_type": "code",
   "execution_count": 45,
   "metadata": {},
   "outputs": [],
   "source": [
    "trigram_LLR = {k: v for k, v in sorted(trigram_LLR.items(), key=lambda item: item[1], reverse=True)}"
   ]
  },
  {
   "cell_type": "code",
   "execution_count": 46,
   "metadata": {},
   "outputs": [
    {
     "name": "stdout",
     "output_type": "stream",
     "text": [
      "o których mowa 92100.04972834075\n",
      "o którym mowa 62646.7332030165\n",
      "których mowa w 47739.06848574327\n",
      "właściwy do spraw 44653.074728556625\n",
      "o której mowa 35850.49113124134\n",
      "którym mowa w 32449.770015804836\n",
      "ustawie z dnia 31176.668053809528\n",
      "zastępuje się wyrazami 25215.325587729756\n",
      "minister właściwy do 24519.717879464166\n",
      "wejścia w życie 23589.36245948675\n"
     ]
    }
   ],
   "source": [
    "for trigram, llr in list(trigram_LLR.items())[:10]:\n",
    "    print(trigram[0] + ' ' + trigram[1] + ' ' + trigram[2] + ' ' + str(llr))"
   ]
  },
  {
   "cell_type": "markdown",
   "metadata": {},
   "source": [
    "## Result comparison table "
   ]
  },
  {
   "cell_type": "code",
   "execution_count": 47,
   "metadata": {
    "scrolled": false
   },
   "outputs": [
    {
     "data": {
      "text/html": [
       "<h1>Bigrams table</h1>"
      ],
      "text/plain": [
       "<IPython.core.display.HTML object>"
      ]
     },
     "metadata": {},
     "output_type": "display_data"
    },
    {
     "data": {
      "application/vnd.plotly.v1+json": {
       "config": {
        "plotlyServerURL": "https://plot.ly"
       },
       "data": [
        {
         "cells": {
          "height": 40,
          "values": [
           [
            [
             "doktorów",
             "habilitowanych"
            ],
            [
             "pionową",
             "ścianę"
            ],
            [
             "punktem",
             "wyprowadzonym"
            ],
            [
             "skrzynek",
             "lęgowych"
            ],
            [
             "usprawnianie",
             "zaburzonych"
            ],
            [
             "oświatowa",
             "nieobejmująca"
            ],
            [
             "stępkę",
             "położono"
            ],
            [
             "frachtem",
             "dystansowym"
            ],
            [
             "wybuchła",
             "wojna"
            ],
            [
             "dało",
             "pożytecznego"
            ]
           ],
           [
            23.345369959864637,
            23.345369959864637,
            23.345369959864637,
            23.345369959864637,
            23.345369959864637,
            23.345369959864637,
            23.345369959864637,
            23.345369959864637,
            23.345369959864637,
            23.345369959864637
           ],
           [
            [
             "ręcznego",
             "miotacza"
            ],
            [
             "świeckie",
             "przygotowujące"
            ],
            [
             "grzegorz",
             "schetyna"
            ],
            [
             "młyny",
             "kulowe"
            ],
            [
             "zaszkodzić",
             "wynikom"
            ],
            [
             "adama",
             "mickiewicza"
            ],
            [
             "przeponowe",
             "rurowe"
            ],
            [
             "mleczka",
             "makowego"
            ],
            [
             "schedę",
             "spadkową"
            ],
            [
             "lambrekiny",
             "okienne"
            ]
           ],
           [
            21.480410711800463,
            21.480410711800463,
            21.480410711800463,
            21.480410711800463,
            21.480410711800463,
            21.21737630596667,
            21.21737630596667,
            21.21737630596667,
            20.994983884630223,
            20.994983884630223
           ],
           [
            [
             "mowa",
             "w"
            ],
            [
             "których",
             "mowa"
            ],
            [
             "o",
             "których"
            ],
            [
             "którym",
             "mowa"
            ],
            [
             "dodaje",
             "się"
            ],
            [
             "do",
             "spraw"
            ],
            [
             "o",
             "którym"
            ],
            [
             "w",
             "w"
            ],
            [
             "stosuje",
             "się"
            ],
            [
             "minister",
             "właściwy"
            ]
           ],
           [
            124645.83146718914,
            97656.02403137869,
            68833.82784639853,
            64283.83923316678,
            59756.50172767568,
            50379.07917977016,
            46855.915324589136,
            42404.08935560332,
            40152.69589803207,
            39356.628900809366
           ]
          ]
         },
         "columnwidth": [
          120,
          110,
          120,
          110,
          75,
          110
         ],
         "header": {
          "height": 10,
          "values": [
           "PMI",
           "PMI value",
           "PMI>=5",
           "PMI>=5 value",
           "LLR",
           "LLR value"
          ]
         },
         "type": "table"
        }
       ],
       "layout": {
        "height": 700,
        "template": {
         "data": {
          "bar": [
           {
            "error_x": {
             "color": "#2a3f5f"
            },
            "error_y": {
             "color": "#2a3f5f"
            },
            "marker": {
             "line": {
              "color": "#E5ECF6",
              "width": 0.5
             }
            },
            "type": "bar"
           }
          ],
          "barpolar": [
           {
            "marker": {
             "line": {
              "color": "#E5ECF6",
              "width": 0.5
             }
            },
            "type": "barpolar"
           }
          ],
          "carpet": [
           {
            "aaxis": {
             "endlinecolor": "#2a3f5f",
             "gridcolor": "white",
             "linecolor": "white",
             "minorgridcolor": "white",
             "startlinecolor": "#2a3f5f"
            },
            "baxis": {
             "endlinecolor": "#2a3f5f",
             "gridcolor": "white",
             "linecolor": "white",
             "minorgridcolor": "white",
             "startlinecolor": "#2a3f5f"
            },
            "type": "carpet"
           }
          ],
          "choropleth": [
           {
            "colorbar": {
             "outlinewidth": 0,
             "ticks": ""
            },
            "type": "choropleth"
           }
          ],
          "contour": [
           {
            "colorbar": {
             "outlinewidth": 0,
             "ticks": ""
            },
            "colorscale": [
             [
              0,
              "#0d0887"
             ],
             [
              0.1111111111111111,
              "#46039f"
             ],
             [
              0.2222222222222222,
              "#7201a8"
             ],
             [
              0.3333333333333333,
              "#9c179e"
             ],
             [
              0.4444444444444444,
              "#bd3786"
             ],
             [
              0.5555555555555556,
              "#d8576b"
             ],
             [
              0.6666666666666666,
              "#ed7953"
             ],
             [
              0.7777777777777778,
              "#fb9f3a"
             ],
             [
              0.8888888888888888,
              "#fdca26"
             ],
             [
              1,
              "#f0f921"
             ]
            ],
            "type": "contour"
           }
          ],
          "contourcarpet": [
           {
            "colorbar": {
             "outlinewidth": 0,
             "ticks": ""
            },
            "type": "contourcarpet"
           }
          ],
          "heatmap": [
           {
            "colorbar": {
             "outlinewidth": 0,
             "ticks": ""
            },
            "colorscale": [
             [
              0,
              "#0d0887"
             ],
             [
              0.1111111111111111,
              "#46039f"
             ],
             [
              0.2222222222222222,
              "#7201a8"
             ],
             [
              0.3333333333333333,
              "#9c179e"
             ],
             [
              0.4444444444444444,
              "#bd3786"
             ],
             [
              0.5555555555555556,
              "#d8576b"
             ],
             [
              0.6666666666666666,
              "#ed7953"
             ],
             [
              0.7777777777777778,
              "#fb9f3a"
             ],
             [
              0.8888888888888888,
              "#fdca26"
             ],
             [
              1,
              "#f0f921"
             ]
            ],
            "type": "heatmap"
           }
          ],
          "heatmapgl": [
           {
            "colorbar": {
             "outlinewidth": 0,
             "ticks": ""
            },
            "colorscale": [
             [
              0,
              "#0d0887"
             ],
             [
              0.1111111111111111,
              "#46039f"
             ],
             [
              0.2222222222222222,
              "#7201a8"
             ],
             [
              0.3333333333333333,
              "#9c179e"
             ],
             [
              0.4444444444444444,
              "#bd3786"
             ],
             [
              0.5555555555555556,
              "#d8576b"
             ],
             [
              0.6666666666666666,
              "#ed7953"
             ],
             [
              0.7777777777777778,
              "#fb9f3a"
             ],
             [
              0.8888888888888888,
              "#fdca26"
             ],
             [
              1,
              "#f0f921"
             ]
            ],
            "type": "heatmapgl"
           }
          ],
          "histogram": [
           {
            "marker": {
             "colorbar": {
              "outlinewidth": 0,
              "ticks": ""
             }
            },
            "type": "histogram"
           }
          ],
          "histogram2d": [
           {
            "colorbar": {
             "outlinewidth": 0,
             "ticks": ""
            },
            "colorscale": [
             [
              0,
              "#0d0887"
             ],
             [
              0.1111111111111111,
              "#46039f"
             ],
             [
              0.2222222222222222,
              "#7201a8"
             ],
             [
              0.3333333333333333,
              "#9c179e"
             ],
             [
              0.4444444444444444,
              "#bd3786"
             ],
             [
              0.5555555555555556,
              "#d8576b"
             ],
             [
              0.6666666666666666,
              "#ed7953"
             ],
             [
              0.7777777777777778,
              "#fb9f3a"
             ],
             [
              0.8888888888888888,
              "#fdca26"
             ],
             [
              1,
              "#f0f921"
             ]
            ],
            "type": "histogram2d"
           }
          ],
          "histogram2dcontour": [
           {
            "colorbar": {
             "outlinewidth": 0,
             "ticks": ""
            },
            "colorscale": [
             [
              0,
              "#0d0887"
             ],
             [
              0.1111111111111111,
              "#46039f"
             ],
             [
              0.2222222222222222,
              "#7201a8"
             ],
             [
              0.3333333333333333,
              "#9c179e"
             ],
             [
              0.4444444444444444,
              "#bd3786"
             ],
             [
              0.5555555555555556,
              "#d8576b"
             ],
             [
              0.6666666666666666,
              "#ed7953"
             ],
             [
              0.7777777777777778,
              "#fb9f3a"
             ],
             [
              0.8888888888888888,
              "#fdca26"
             ],
             [
              1,
              "#f0f921"
             ]
            ],
            "type": "histogram2dcontour"
           }
          ],
          "mesh3d": [
           {
            "colorbar": {
             "outlinewidth": 0,
             "ticks": ""
            },
            "type": "mesh3d"
           }
          ],
          "parcoords": [
           {
            "line": {
             "colorbar": {
              "outlinewidth": 0,
              "ticks": ""
             }
            },
            "type": "parcoords"
           }
          ],
          "scatter": [
           {
            "marker": {
             "colorbar": {
              "outlinewidth": 0,
              "ticks": ""
             }
            },
            "type": "scatter"
           }
          ],
          "scatter3d": [
           {
            "line": {
             "colorbar": {
              "outlinewidth": 0,
              "ticks": ""
             }
            },
            "marker": {
             "colorbar": {
              "outlinewidth": 0,
              "ticks": ""
             }
            },
            "type": "scatter3d"
           }
          ],
          "scattercarpet": [
           {
            "marker": {
             "colorbar": {
              "outlinewidth": 0,
              "ticks": ""
             }
            },
            "type": "scattercarpet"
           }
          ],
          "scattergeo": [
           {
            "marker": {
             "colorbar": {
              "outlinewidth": 0,
              "ticks": ""
             }
            },
            "type": "scattergeo"
           }
          ],
          "scattergl": [
           {
            "marker": {
             "colorbar": {
              "outlinewidth": 0,
              "ticks": ""
             }
            },
            "type": "scattergl"
           }
          ],
          "scattermapbox": [
           {
            "marker": {
             "colorbar": {
              "outlinewidth": 0,
              "ticks": ""
             }
            },
            "type": "scattermapbox"
           }
          ],
          "scatterpolar": [
           {
            "marker": {
             "colorbar": {
              "outlinewidth": 0,
              "ticks": ""
             }
            },
            "type": "scatterpolar"
           }
          ],
          "scatterpolargl": [
           {
            "marker": {
             "colorbar": {
              "outlinewidth": 0,
              "ticks": ""
             }
            },
            "type": "scatterpolargl"
           }
          ],
          "scatterternary": [
           {
            "marker": {
             "colorbar": {
              "outlinewidth": 0,
              "ticks": ""
             }
            },
            "type": "scatterternary"
           }
          ],
          "surface": [
           {
            "colorbar": {
             "outlinewidth": 0,
             "ticks": ""
            },
            "colorscale": [
             [
              0,
              "#0d0887"
             ],
             [
              0.1111111111111111,
              "#46039f"
             ],
             [
              0.2222222222222222,
              "#7201a8"
             ],
             [
              0.3333333333333333,
              "#9c179e"
             ],
             [
              0.4444444444444444,
              "#bd3786"
             ],
             [
              0.5555555555555556,
              "#d8576b"
             ],
             [
              0.6666666666666666,
              "#ed7953"
             ],
             [
              0.7777777777777778,
              "#fb9f3a"
             ],
             [
              0.8888888888888888,
              "#fdca26"
             ],
             [
              1,
              "#f0f921"
             ]
            ],
            "type": "surface"
           }
          ],
          "table": [
           {
            "cells": {
             "fill": {
              "color": "#EBF0F8"
             },
             "line": {
              "color": "white"
             }
            },
            "header": {
             "fill": {
              "color": "#C8D4E3"
             },
             "line": {
              "color": "white"
             }
            },
            "type": "table"
           }
          ]
         },
         "layout": {
          "annotationdefaults": {
           "arrowcolor": "#2a3f5f",
           "arrowhead": 0,
           "arrowwidth": 1
          },
          "colorscale": {
           "diverging": [
            [
             0,
             "#8e0152"
            ],
            [
             0.1,
             "#c51b7d"
            ],
            [
             0.2,
             "#de77ae"
            ],
            [
             0.3,
             "#f1b6da"
            ],
            [
             0.4,
             "#fde0ef"
            ],
            [
             0.5,
             "#f7f7f7"
            ],
            [
             0.6,
             "#e6f5d0"
            ],
            [
             0.7,
             "#b8e186"
            ],
            [
             0.8,
             "#7fbc41"
            ],
            [
             0.9,
             "#4d9221"
            ],
            [
             1,
             "#276419"
            ]
           ],
           "sequential": [
            [
             0,
             "#0d0887"
            ],
            [
             0.1111111111111111,
             "#46039f"
            ],
            [
             0.2222222222222222,
             "#7201a8"
            ],
            [
             0.3333333333333333,
             "#9c179e"
            ],
            [
             0.4444444444444444,
             "#bd3786"
            ],
            [
             0.5555555555555556,
             "#d8576b"
            ],
            [
             0.6666666666666666,
             "#ed7953"
            ],
            [
             0.7777777777777778,
             "#fb9f3a"
            ],
            [
             0.8888888888888888,
             "#fdca26"
            ],
            [
             1,
             "#f0f921"
            ]
           ],
           "sequentialminus": [
            [
             0,
             "#0d0887"
            ],
            [
             0.1111111111111111,
             "#46039f"
            ],
            [
             0.2222222222222222,
             "#7201a8"
            ],
            [
             0.3333333333333333,
             "#9c179e"
            ],
            [
             0.4444444444444444,
             "#bd3786"
            ],
            [
             0.5555555555555556,
             "#d8576b"
            ],
            [
             0.6666666666666666,
             "#ed7953"
            ],
            [
             0.7777777777777778,
             "#fb9f3a"
            ],
            [
             0.8888888888888888,
             "#fdca26"
            ],
            [
             1,
             "#f0f921"
            ]
           ]
          },
          "colorway": [
           "#636efa",
           "#EF553B",
           "#00cc96",
           "#ab63fa",
           "#FFA15A",
           "#19d3f3",
           "#FF6692",
           "#B6E880",
           "#FF97FF",
           "#FECB52"
          ],
          "font": {
           "color": "#2a3f5f"
          },
          "geo": {
           "bgcolor": "white",
           "lakecolor": "white",
           "landcolor": "#E5ECF6",
           "showlakes": true,
           "showland": true,
           "subunitcolor": "white"
          },
          "hoverlabel": {
           "align": "left"
          },
          "hovermode": "closest",
          "mapbox": {
           "style": "light"
          },
          "paper_bgcolor": "white",
          "plot_bgcolor": "#E5ECF6",
          "polar": {
           "angularaxis": {
            "gridcolor": "white",
            "linecolor": "white",
            "ticks": ""
           },
           "bgcolor": "#E5ECF6",
           "radialaxis": {
            "gridcolor": "white",
            "linecolor": "white",
            "ticks": ""
           }
          },
          "scene": {
           "xaxis": {
            "backgroundcolor": "#E5ECF6",
            "gridcolor": "white",
            "gridwidth": 2,
            "linecolor": "white",
            "showbackground": true,
            "ticks": "",
            "zerolinecolor": "white"
           },
           "yaxis": {
            "backgroundcolor": "#E5ECF6",
            "gridcolor": "white",
            "gridwidth": 2,
            "linecolor": "white",
            "showbackground": true,
            "ticks": "",
            "zerolinecolor": "white"
           },
           "zaxis": {
            "backgroundcolor": "#E5ECF6",
            "gridcolor": "white",
            "gridwidth": 2,
            "linecolor": "white",
            "showbackground": true,
            "ticks": "",
            "zerolinecolor": "white"
           }
          },
          "shapedefaults": {
           "line": {
            "color": "#2a3f5f"
           }
          },
          "ternary": {
           "aaxis": {
            "gridcolor": "white",
            "linecolor": "white",
            "ticks": ""
           },
           "baxis": {
            "gridcolor": "white",
            "linecolor": "white",
            "ticks": ""
           },
           "bgcolor": "#E5ECF6",
           "caxis": {
            "gridcolor": "white",
            "linecolor": "white",
            "ticks": ""
           }
          },
          "title": {
           "x": 0.05
          },
          "xaxis": {
           "automargin": true,
           "gridcolor": "white",
           "linecolor": "white",
           "ticks": "",
           "zerolinecolor": "white",
           "zerolinewidth": 2
          },
          "yaxis": {
           "automargin": true,
           "gridcolor": "white",
           "linecolor": "white",
           "ticks": "",
           "zerolinecolor": "white",
           "zerolinewidth": 2
          }
         }
        },
        "width": 1100
       }
      },
      "text/html": [
       "<div>\n",
       "        \n",
       "        \n",
       "            <div id=\"81dd6413-704c-49ce-84eb-c0240e5a036d\" class=\"plotly-graph-div\" style=\"height:700px; width:1100px;\"></div>\n",
       "            <script type=\"text/javascript\">\n",
       "                require([\"plotly\"], function(Plotly) {\n",
       "                    window.PLOTLYENV=window.PLOTLYENV || {};\n",
       "                    \n",
       "                if (document.getElementById(\"81dd6413-704c-49ce-84eb-c0240e5a036d\")) {\n",
       "                    Plotly.newPlot(\n",
       "                        '81dd6413-704c-49ce-84eb-c0240e5a036d',\n",
       "                        [{\"cells\": {\"height\": 40, \"values\": [[[\"doktor\\u00f3w\", \"habilitowanych\"], [\"pionow\\u0105\", \"\\u015bcian\\u0119\"], [\"punktem\", \"wyprowadzonym\"], [\"skrzynek\", \"l\\u0119gowych\"], [\"usprawnianie\", \"zaburzonych\"], [\"o\\u015bwiatowa\", \"nieobejmuj\\u0105ca\"], [\"st\\u0119pk\\u0119\", \"po\\u0142o\\u017cono\"], [\"frachtem\", \"dystansowym\"], [\"wybuch\\u0142a\", \"wojna\"], [\"da\\u0142o\", \"po\\u017cytecznego\"]], [23.345369959864637, 23.345369959864637, 23.345369959864637, 23.345369959864637, 23.345369959864637, 23.345369959864637, 23.345369959864637, 23.345369959864637, 23.345369959864637, 23.345369959864637], [[\"r\\u0119cznego\", \"miotacza\"], [\"\\u015bwieckie\", \"przygotowuj\\u0105ce\"], [\"grzegorz\", \"schetyna\"], [\"m\\u0142yny\", \"kulowe\"], [\"zaszkodzi\\u0107\", \"wynikom\"], [\"adama\", \"mickiewicza\"], [\"przeponowe\", \"rurowe\"], [\"mleczka\", \"makowego\"], [\"sched\\u0119\", \"spadkow\\u0105\"], [\"lambrekiny\", \"okienne\"]], [21.480410711800463, 21.480410711800463, 21.480410711800463, 21.480410711800463, 21.480410711800463, 21.21737630596667, 21.21737630596667, 21.21737630596667, 20.994983884630223, 20.994983884630223], [[\"mowa\", \"w\"], [\"kt\\u00f3rych\", \"mowa\"], [\"o\", \"kt\\u00f3rych\"], [\"kt\\u00f3rym\", \"mowa\"], [\"dodaje\", \"si\\u0119\"], [\"do\", \"spraw\"], [\"o\", \"kt\\u00f3rym\"], [\"w\", \"w\"], [\"stosuje\", \"si\\u0119\"], [\"minister\", \"w\\u0142a\\u015bciwy\"]], [124645.83146718914, 97656.02403137869, 68833.82784639853, 64283.83923316678, 59756.50172767568, 50379.07917977016, 46855.915324589136, 42404.08935560332, 40152.69589803207, 39356.628900809366]]}, \"columnwidth\": [120, 110, 120, 110, 75, 110], \"header\": {\"height\": 10, \"values\": [\"PMI\", \"PMI value\", \"PMI>=5\", \"PMI>=5 value\", \"LLR\", \"LLR value\"]}, \"type\": \"table\"}],\n",
       "                        {\"height\": 700, \"template\": {\"data\": {\"bar\": [{\"error_x\": {\"color\": \"#2a3f5f\"}, \"error_y\": {\"color\": \"#2a3f5f\"}, \"marker\": {\"line\": {\"color\": \"#E5ECF6\", \"width\": 0.5}}, \"type\": \"bar\"}], \"barpolar\": [{\"marker\": {\"line\": {\"color\": \"#E5ECF6\", \"width\": 0.5}}, \"type\": \"barpolar\"}], \"carpet\": [{\"aaxis\": {\"endlinecolor\": \"#2a3f5f\", \"gridcolor\": \"white\", \"linecolor\": \"white\", \"minorgridcolor\": \"white\", \"startlinecolor\": \"#2a3f5f\"}, \"baxis\": {\"endlinecolor\": \"#2a3f5f\", \"gridcolor\": \"white\", \"linecolor\": \"white\", \"minorgridcolor\": \"white\", \"startlinecolor\": \"#2a3f5f\"}, \"type\": \"carpet\"}], \"choropleth\": [{\"colorbar\": {\"outlinewidth\": 0, \"ticks\": \"\"}, \"type\": \"choropleth\"}], \"contour\": [{\"colorbar\": {\"outlinewidth\": 0, \"ticks\": \"\"}, \"colorscale\": [[0.0, \"#0d0887\"], [0.1111111111111111, \"#46039f\"], [0.2222222222222222, \"#7201a8\"], [0.3333333333333333, \"#9c179e\"], [0.4444444444444444, \"#bd3786\"], [0.5555555555555556, \"#d8576b\"], [0.6666666666666666, \"#ed7953\"], [0.7777777777777778, \"#fb9f3a\"], [0.8888888888888888, \"#fdca26\"], [1.0, \"#f0f921\"]], \"type\": \"contour\"}], \"contourcarpet\": [{\"colorbar\": {\"outlinewidth\": 0, \"ticks\": \"\"}, \"type\": \"contourcarpet\"}], \"heatmap\": [{\"colorbar\": {\"outlinewidth\": 0, \"ticks\": \"\"}, \"colorscale\": [[0.0, \"#0d0887\"], [0.1111111111111111, \"#46039f\"], [0.2222222222222222, \"#7201a8\"], [0.3333333333333333, \"#9c179e\"], [0.4444444444444444, \"#bd3786\"], [0.5555555555555556, \"#d8576b\"], [0.6666666666666666, \"#ed7953\"], [0.7777777777777778, \"#fb9f3a\"], [0.8888888888888888, \"#fdca26\"], [1.0, \"#f0f921\"]], \"type\": \"heatmap\"}], \"heatmapgl\": [{\"colorbar\": {\"outlinewidth\": 0, \"ticks\": \"\"}, \"colorscale\": [[0.0, \"#0d0887\"], [0.1111111111111111, \"#46039f\"], [0.2222222222222222, \"#7201a8\"], [0.3333333333333333, \"#9c179e\"], [0.4444444444444444, \"#bd3786\"], [0.5555555555555556, \"#d8576b\"], [0.6666666666666666, \"#ed7953\"], [0.7777777777777778, \"#fb9f3a\"], [0.8888888888888888, \"#fdca26\"], [1.0, \"#f0f921\"]], \"type\": \"heatmapgl\"}], \"histogram\": [{\"marker\": {\"colorbar\": {\"outlinewidth\": 0, \"ticks\": \"\"}}, \"type\": \"histogram\"}], \"histogram2d\": [{\"colorbar\": {\"outlinewidth\": 0, \"ticks\": \"\"}, \"colorscale\": [[0.0, \"#0d0887\"], [0.1111111111111111, \"#46039f\"], [0.2222222222222222, \"#7201a8\"], [0.3333333333333333, \"#9c179e\"], [0.4444444444444444, \"#bd3786\"], [0.5555555555555556, \"#d8576b\"], [0.6666666666666666, \"#ed7953\"], [0.7777777777777778, \"#fb9f3a\"], [0.8888888888888888, \"#fdca26\"], [1.0, \"#f0f921\"]], \"type\": \"histogram2d\"}], \"histogram2dcontour\": [{\"colorbar\": {\"outlinewidth\": 0, \"ticks\": \"\"}, \"colorscale\": [[0.0, \"#0d0887\"], [0.1111111111111111, \"#46039f\"], [0.2222222222222222, \"#7201a8\"], [0.3333333333333333, \"#9c179e\"], [0.4444444444444444, \"#bd3786\"], [0.5555555555555556, \"#d8576b\"], [0.6666666666666666, \"#ed7953\"], [0.7777777777777778, \"#fb9f3a\"], [0.8888888888888888, \"#fdca26\"], [1.0, \"#f0f921\"]], \"type\": \"histogram2dcontour\"}], \"mesh3d\": [{\"colorbar\": {\"outlinewidth\": 0, \"ticks\": \"\"}, \"type\": \"mesh3d\"}], \"parcoords\": [{\"line\": {\"colorbar\": {\"outlinewidth\": 0, \"ticks\": \"\"}}, \"type\": \"parcoords\"}], \"scatter\": [{\"marker\": {\"colorbar\": {\"outlinewidth\": 0, \"ticks\": \"\"}}, \"type\": \"scatter\"}], \"scatter3d\": [{\"line\": {\"colorbar\": {\"outlinewidth\": 0, \"ticks\": \"\"}}, \"marker\": {\"colorbar\": {\"outlinewidth\": 0, \"ticks\": \"\"}}, \"type\": \"scatter3d\"}], \"scattercarpet\": [{\"marker\": {\"colorbar\": {\"outlinewidth\": 0, \"ticks\": \"\"}}, \"type\": \"scattercarpet\"}], \"scattergeo\": [{\"marker\": {\"colorbar\": {\"outlinewidth\": 0, \"ticks\": \"\"}}, \"type\": \"scattergeo\"}], \"scattergl\": [{\"marker\": {\"colorbar\": {\"outlinewidth\": 0, \"ticks\": \"\"}}, \"type\": \"scattergl\"}], \"scattermapbox\": [{\"marker\": {\"colorbar\": {\"outlinewidth\": 0, \"ticks\": \"\"}}, \"type\": \"scattermapbox\"}], \"scatterpolar\": [{\"marker\": {\"colorbar\": {\"outlinewidth\": 0, \"ticks\": \"\"}}, \"type\": \"scatterpolar\"}], \"scatterpolargl\": [{\"marker\": {\"colorbar\": {\"outlinewidth\": 0, \"ticks\": \"\"}}, \"type\": \"scatterpolargl\"}], \"scatterternary\": [{\"marker\": {\"colorbar\": {\"outlinewidth\": 0, \"ticks\": \"\"}}, \"type\": \"scatterternary\"}], \"surface\": [{\"colorbar\": {\"outlinewidth\": 0, \"ticks\": \"\"}, \"colorscale\": [[0.0, \"#0d0887\"], [0.1111111111111111, \"#46039f\"], [0.2222222222222222, \"#7201a8\"], [0.3333333333333333, \"#9c179e\"], [0.4444444444444444, \"#bd3786\"], [0.5555555555555556, \"#d8576b\"], [0.6666666666666666, \"#ed7953\"], [0.7777777777777778, \"#fb9f3a\"], [0.8888888888888888, \"#fdca26\"], [1.0, \"#f0f921\"]], \"type\": \"surface\"}], \"table\": [{\"cells\": {\"fill\": {\"color\": \"#EBF0F8\"}, \"line\": {\"color\": \"white\"}}, \"header\": {\"fill\": {\"color\": \"#C8D4E3\"}, \"line\": {\"color\": \"white\"}}, \"type\": \"table\"}]}, \"layout\": {\"annotationdefaults\": {\"arrowcolor\": \"#2a3f5f\", \"arrowhead\": 0, \"arrowwidth\": 1}, \"colorscale\": {\"diverging\": [[0, \"#8e0152\"], [0.1, \"#c51b7d\"], [0.2, \"#de77ae\"], [0.3, \"#f1b6da\"], [0.4, \"#fde0ef\"], [0.5, \"#f7f7f7\"], [0.6, \"#e6f5d0\"], [0.7, \"#b8e186\"], [0.8, \"#7fbc41\"], [0.9, \"#4d9221\"], [1, \"#276419\"]], \"sequential\": [[0.0, \"#0d0887\"], [0.1111111111111111, \"#46039f\"], [0.2222222222222222, \"#7201a8\"], [0.3333333333333333, \"#9c179e\"], [0.4444444444444444, \"#bd3786\"], [0.5555555555555556, \"#d8576b\"], [0.6666666666666666, \"#ed7953\"], [0.7777777777777778, \"#fb9f3a\"], [0.8888888888888888, \"#fdca26\"], [1.0, \"#f0f921\"]], \"sequentialminus\": [[0.0, \"#0d0887\"], [0.1111111111111111, \"#46039f\"], [0.2222222222222222, \"#7201a8\"], [0.3333333333333333, \"#9c179e\"], [0.4444444444444444, \"#bd3786\"], [0.5555555555555556, \"#d8576b\"], [0.6666666666666666, \"#ed7953\"], [0.7777777777777778, \"#fb9f3a\"], [0.8888888888888888, \"#fdca26\"], [1.0, \"#f0f921\"]]}, \"colorway\": [\"#636efa\", \"#EF553B\", \"#00cc96\", \"#ab63fa\", \"#FFA15A\", \"#19d3f3\", \"#FF6692\", \"#B6E880\", \"#FF97FF\", \"#FECB52\"], \"font\": {\"color\": \"#2a3f5f\"}, \"geo\": {\"bgcolor\": \"white\", \"lakecolor\": \"white\", \"landcolor\": \"#E5ECF6\", \"showlakes\": true, \"showland\": true, \"subunitcolor\": \"white\"}, \"hoverlabel\": {\"align\": \"left\"}, \"hovermode\": \"closest\", \"mapbox\": {\"style\": \"light\"}, \"paper_bgcolor\": \"white\", \"plot_bgcolor\": \"#E5ECF6\", \"polar\": {\"angularaxis\": {\"gridcolor\": \"white\", \"linecolor\": \"white\", \"ticks\": \"\"}, \"bgcolor\": \"#E5ECF6\", \"radialaxis\": {\"gridcolor\": \"white\", \"linecolor\": \"white\", \"ticks\": \"\"}}, \"scene\": {\"xaxis\": {\"backgroundcolor\": \"#E5ECF6\", \"gridcolor\": \"white\", \"gridwidth\": 2, \"linecolor\": \"white\", \"showbackground\": true, \"ticks\": \"\", \"zerolinecolor\": \"white\"}, \"yaxis\": {\"backgroundcolor\": \"#E5ECF6\", \"gridcolor\": \"white\", \"gridwidth\": 2, \"linecolor\": \"white\", \"showbackground\": true, \"ticks\": \"\", \"zerolinecolor\": \"white\"}, \"zaxis\": {\"backgroundcolor\": \"#E5ECF6\", \"gridcolor\": \"white\", \"gridwidth\": 2, \"linecolor\": \"white\", \"showbackground\": true, \"ticks\": \"\", \"zerolinecolor\": \"white\"}}, \"shapedefaults\": {\"line\": {\"color\": \"#2a3f5f\"}}, \"ternary\": {\"aaxis\": {\"gridcolor\": \"white\", \"linecolor\": \"white\", \"ticks\": \"\"}, \"baxis\": {\"gridcolor\": \"white\", \"linecolor\": \"white\", \"ticks\": \"\"}, \"bgcolor\": \"#E5ECF6\", \"caxis\": {\"gridcolor\": \"white\", \"linecolor\": \"white\", \"ticks\": \"\"}}, \"title\": {\"x\": 0.05}, \"xaxis\": {\"automargin\": true, \"gridcolor\": \"white\", \"linecolor\": \"white\", \"ticks\": \"\", \"zerolinecolor\": \"white\", \"zerolinewidth\": 2}, \"yaxis\": {\"automargin\": true, \"gridcolor\": \"white\", \"linecolor\": \"white\", \"ticks\": \"\", \"zerolinecolor\": \"white\", \"zerolinewidth\": 2}}}, \"width\": 1100},\n",
       "                        {\"responsive\": true}\n",
       "                    ).then(function(){\n",
       "                            \n",
       "var gd = document.getElementById('81dd6413-704c-49ce-84eb-c0240e5a036d');\n",
       "var x = new MutationObserver(function (mutations, observer) {{\n",
       "        var display = window.getComputedStyle(gd).display;\n",
       "        if (!display || display === 'none') {{\n",
       "            console.log([gd, 'removed!']);\n",
       "            Plotly.purge(gd);\n",
       "            observer.disconnect();\n",
       "        }}\n",
       "}});\n",
       "\n",
       "// Listen for the removal of the full notebook cells\n",
       "var notebookContainer = gd.closest('#notebook-container');\n",
       "if (notebookContainer) {{\n",
       "    x.observe(notebookContainer, {childList: true});\n",
       "}}\n",
       "\n",
       "// Listen for the clearing of the current output cell\n",
       "var outputEl = gd.closest('.output');\n",
       "if (outputEl) {{\n",
       "    x.observe(outputEl, {childList: true});\n",
       "}}\n",
       "\n",
       "                        })\n",
       "                };\n",
       "                });\n",
       "            </script>\n",
       "        </div>"
      ]
     },
     "metadata": {},
     "output_type": "display_data"
    }
   ],
   "source": [
    "display(HTML('<h1>Bigrams table</h1>'))\n",
    "\n",
    "fig = go.Figure(data=[go.Table(columnwidth = [120,110,120,110,75,110],\n",
    "    header=dict(values=['PMI', 'PMI value', 'PMI>=5', 'PMI>=5 value', 'LLR', 'LLR value'], \n",
    "    height=10), cells=dict(values=[list(bigram_PMI.keys())[:10], list(bigram_PMI.values())[:10], \n",
    "                                   list(bigram_PMI_leq5.keys())[:10], list(bigram_PMI_leq5.values())[:10],\n",
    "                                   list(bigram_LLR.keys())[:10], list(bigram_LLR.values())[:10]], height=40))])\n",
    "fig.update_layout(width=1100, height=700)\n",
    "fig.show()"
   ]
  },
  {
   "cell_type": "markdown",
   "metadata": {},
   "source": [
    "Można zauważyć, że żadne kolokacje nie powtarzają się w obrębie PMI. Jest to spowodowane silną kolokacją wyrazów występujących rzadko, ponieważ zapewne występują tylko raz i tym samym tylko razem. Natomiast po wykrojeniu tych bigramów, które są zbyt rzadko w zbiorze otrzymujemy wyrazy będące w rzeczywistości w silnej kolokacji, ponieważ występują w dużych ilościach i kilkukrotnie razem, ale jak widać nie zawsze, bo miara jest mniejsza niż w poprzedniej kolumnie. W przypadku LLR miara ta jest jeszcze bardziej restrykcyjna, ponieważ znajduje wyrazy, które rzeczywiście najczęściej występują razem spośród wszystkich kombinacji danych słów w bigramie. "
   ]
  },
  {
   "cell_type": "code",
   "execution_count": 66,
   "metadata": {},
   "outputs": [
    {
     "data": {
      "text/html": [
       "<h1>Trigrams table</h1>"
      ],
      "text/plain": [
       "<IPython.core.display.HTML object>"
      ]
     },
     "metadata": {},
     "output_type": "display_data"
    },
    {
     "data": {
      "application/vnd.plotly.v1+json": {
       "config": {
        "plotlyServerURL": "https://plot.ly"
       },
       "data": [
        {
         "cells": {
          "height": 40,
          "values": [
           [
            [
             "fabryki",
             "portland",
             "cementu"
            ],
            [
             "wniebowzięcia",
             "najświętszej",
             "maryi"
            ],
            [
             "najświętszej",
             "maryi",
             "panny"
            ],
            [
             "suthma",
             "eegcou",
             "eok"
            ],
            [
             "przekazowi",
             "pieniężnemu",
             "towarzyszyły"
            ],
            [
             "wirusowych",
             "gorączek",
             "krwotocznych"
            ],
            [
             "nagminnemu",
             "porażeniu",
             "dziecięcemu"
            ],
            [
             "chleb",
             "świętojański",
             "strąkowy"
            ],
            [
             "implantacji",
             "stymulatora",
             "nerwu"
            ],
            [
             "prosimy",
             "uważnie",
             "przeczytać"
            ]
           ],
           [
            31.872699325377354,
            31.872699325377354,
            31.872699325377354,
            31.872699325377354,
            31.872699325377354,
            31.872699325377354,
            31.872699325377354,
            31.872699325377354,
            31.872699325377354,
            31.872699325377354
           ],
           [
            [
             "piłce",
             "nożnej",
             "uefa"
            ],
            [
             "profilem",
             "zaufanym",
             "epuap"
            ],
            [
             "religijne",
             "uroczystości",
             "pogrzebowe"
            ],
            [
             "finałowego",
             "turnieju",
             "mistrzostw"
            ],
            [
             "potwierdzonym",
             "profilem",
             "zaufanym"
            ],
            [
             "turnieju",
             "mistrzostw",
             "europy"
            ],
            [
             "grożącą",
             "jemu",
             "samemu"
            ],
            [
             "bankowemu",
             "funduszowi",
             "gwarancyjnemu"
            ],
            [
             "komunalne",
             "osady",
             "ściekowe"
            ],
            [
             "konfesyjne",
             "nauczanie",
             "religii"
            ]
           ],
           [
            27.55491435712318,
            27.53655710160481,
            27.495971821489732,
            27.477622682821533,
            27.219022066003348,
            27.215258418354043,
            26.612955878500447,
            26.54591422714476,
            26.515142568478005,
            26.492669712625947
           ],
           [
            [
             "o",
             "których",
             "mowa"
            ],
            [
             "o",
             "którym",
             "mowa"
            ],
            [
             "których",
             "mowa",
             "w"
            ],
            [
             "właściwy",
             "do",
             "spraw"
            ],
            [
             "o",
             "której",
             "mowa"
            ],
            [
             "którym",
             "mowa",
             "w"
            ],
            [
             "ustawie",
             "z",
             "dnia"
            ],
            [
             "zastępuje",
             "się",
             "wyrazami"
            ],
            [
             "minister",
             "właściwy",
             "do"
            ],
            [
             "wejścia",
             "w",
             "życie"
            ]
           ],
           [
            92100.04972834075,
            62646.7332030165,
            47739.06848574327,
            44653.074728556625,
            35850.49113124134,
            32449.770015804836,
            31176.668053809528,
            25215.325587729756,
            24519.717879464166,
            23589.36245948675
           ]
          ]
         },
         "columnwidth": [
          120,
          70,
          120,
          70,
          70,
          70
         ],
         "header": {
          "height": 10,
          "values": [
           "PMI",
           "PMI value",
           "PMI>=5",
           "PMI>=5 value",
           "LLR",
           "LLR value"
          ]
         },
         "type": "table"
        }
       ],
       "layout": {
        "height": 650,
        "template": {
         "data": {
          "bar": [
           {
            "error_x": {
             "color": "#2a3f5f"
            },
            "error_y": {
             "color": "#2a3f5f"
            },
            "marker": {
             "line": {
              "color": "#E5ECF6",
              "width": 0.5
             }
            },
            "type": "bar"
           }
          ],
          "barpolar": [
           {
            "marker": {
             "line": {
              "color": "#E5ECF6",
              "width": 0.5
             }
            },
            "type": "barpolar"
           }
          ],
          "carpet": [
           {
            "aaxis": {
             "endlinecolor": "#2a3f5f",
             "gridcolor": "white",
             "linecolor": "white",
             "minorgridcolor": "white",
             "startlinecolor": "#2a3f5f"
            },
            "baxis": {
             "endlinecolor": "#2a3f5f",
             "gridcolor": "white",
             "linecolor": "white",
             "minorgridcolor": "white",
             "startlinecolor": "#2a3f5f"
            },
            "type": "carpet"
           }
          ],
          "choropleth": [
           {
            "colorbar": {
             "outlinewidth": 0,
             "ticks": ""
            },
            "type": "choropleth"
           }
          ],
          "contour": [
           {
            "colorbar": {
             "outlinewidth": 0,
             "ticks": ""
            },
            "colorscale": [
             [
              0,
              "#0d0887"
             ],
             [
              0.1111111111111111,
              "#46039f"
             ],
             [
              0.2222222222222222,
              "#7201a8"
             ],
             [
              0.3333333333333333,
              "#9c179e"
             ],
             [
              0.4444444444444444,
              "#bd3786"
             ],
             [
              0.5555555555555556,
              "#d8576b"
             ],
             [
              0.6666666666666666,
              "#ed7953"
             ],
             [
              0.7777777777777778,
              "#fb9f3a"
             ],
             [
              0.8888888888888888,
              "#fdca26"
             ],
             [
              1,
              "#f0f921"
             ]
            ],
            "type": "contour"
           }
          ],
          "contourcarpet": [
           {
            "colorbar": {
             "outlinewidth": 0,
             "ticks": ""
            },
            "type": "contourcarpet"
           }
          ],
          "heatmap": [
           {
            "colorbar": {
             "outlinewidth": 0,
             "ticks": ""
            },
            "colorscale": [
             [
              0,
              "#0d0887"
             ],
             [
              0.1111111111111111,
              "#46039f"
             ],
             [
              0.2222222222222222,
              "#7201a8"
             ],
             [
              0.3333333333333333,
              "#9c179e"
             ],
             [
              0.4444444444444444,
              "#bd3786"
             ],
             [
              0.5555555555555556,
              "#d8576b"
             ],
             [
              0.6666666666666666,
              "#ed7953"
             ],
             [
              0.7777777777777778,
              "#fb9f3a"
             ],
             [
              0.8888888888888888,
              "#fdca26"
             ],
             [
              1,
              "#f0f921"
             ]
            ],
            "type": "heatmap"
           }
          ],
          "heatmapgl": [
           {
            "colorbar": {
             "outlinewidth": 0,
             "ticks": ""
            },
            "colorscale": [
             [
              0,
              "#0d0887"
             ],
             [
              0.1111111111111111,
              "#46039f"
             ],
             [
              0.2222222222222222,
              "#7201a8"
             ],
             [
              0.3333333333333333,
              "#9c179e"
             ],
             [
              0.4444444444444444,
              "#bd3786"
             ],
             [
              0.5555555555555556,
              "#d8576b"
             ],
             [
              0.6666666666666666,
              "#ed7953"
             ],
             [
              0.7777777777777778,
              "#fb9f3a"
             ],
             [
              0.8888888888888888,
              "#fdca26"
             ],
             [
              1,
              "#f0f921"
             ]
            ],
            "type": "heatmapgl"
           }
          ],
          "histogram": [
           {
            "marker": {
             "colorbar": {
              "outlinewidth": 0,
              "ticks": ""
             }
            },
            "type": "histogram"
           }
          ],
          "histogram2d": [
           {
            "colorbar": {
             "outlinewidth": 0,
             "ticks": ""
            },
            "colorscale": [
             [
              0,
              "#0d0887"
             ],
             [
              0.1111111111111111,
              "#46039f"
             ],
             [
              0.2222222222222222,
              "#7201a8"
             ],
             [
              0.3333333333333333,
              "#9c179e"
             ],
             [
              0.4444444444444444,
              "#bd3786"
             ],
             [
              0.5555555555555556,
              "#d8576b"
             ],
             [
              0.6666666666666666,
              "#ed7953"
             ],
             [
              0.7777777777777778,
              "#fb9f3a"
             ],
             [
              0.8888888888888888,
              "#fdca26"
             ],
             [
              1,
              "#f0f921"
             ]
            ],
            "type": "histogram2d"
           }
          ],
          "histogram2dcontour": [
           {
            "colorbar": {
             "outlinewidth": 0,
             "ticks": ""
            },
            "colorscale": [
             [
              0,
              "#0d0887"
             ],
             [
              0.1111111111111111,
              "#46039f"
             ],
             [
              0.2222222222222222,
              "#7201a8"
             ],
             [
              0.3333333333333333,
              "#9c179e"
             ],
             [
              0.4444444444444444,
              "#bd3786"
             ],
             [
              0.5555555555555556,
              "#d8576b"
             ],
             [
              0.6666666666666666,
              "#ed7953"
             ],
             [
              0.7777777777777778,
              "#fb9f3a"
             ],
             [
              0.8888888888888888,
              "#fdca26"
             ],
             [
              1,
              "#f0f921"
             ]
            ],
            "type": "histogram2dcontour"
           }
          ],
          "mesh3d": [
           {
            "colorbar": {
             "outlinewidth": 0,
             "ticks": ""
            },
            "type": "mesh3d"
           }
          ],
          "parcoords": [
           {
            "line": {
             "colorbar": {
              "outlinewidth": 0,
              "ticks": ""
             }
            },
            "type": "parcoords"
           }
          ],
          "scatter": [
           {
            "marker": {
             "colorbar": {
              "outlinewidth": 0,
              "ticks": ""
             }
            },
            "type": "scatter"
           }
          ],
          "scatter3d": [
           {
            "line": {
             "colorbar": {
              "outlinewidth": 0,
              "ticks": ""
             }
            },
            "marker": {
             "colorbar": {
              "outlinewidth": 0,
              "ticks": ""
             }
            },
            "type": "scatter3d"
           }
          ],
          "scattercarpet": [
           {
            "marker": {
             "colorbar": {
              "outlinewidth": 0,
              "ticks": ""
             }
            },
            "type": "scattercarpet"
           }
          ],
          "scattergeo": [
           {
            "marker": {
             "colorbar": {
              "outlinewidth": 0,
              "ticks": ""
             }
            },
            "type": "scattergeo"
           }
          ],
          "scattergl": [
           {
            "marker": {
             "colorbar": {
              "outlinewidth": 0,
              "ticks": ""
             }
            },
            "type": "scattergl"
           }
          ],
          "scattermapbox": [
           {
            "marker": {
             "colorbar": {
              "outlinewidth": 0,
              "ticks": ""
             }
            },
            "type": "scattermapbox"
           }
          ],
          "scatterpolar": [
           {
            "marker": {
             "colorbar": {
              "outlinewidth": 0,
              "ticks": ""
             }
            },
            "type": "scatterpolar"
           }
          ],
          "scatterpolargl": [
           {
            "marker": {
             "colorbar": {
              "outlinewidth": 0,
              "ticks": ""
             }
            },
            "type": "scatterpolargl"
           }
          ],
          "scatterternary": [
           {
            "marker": {
             "colorbar": {
              "outlinewidth": 0,
              "ticks": ""
             }
            },
            "type": "scatterternary"
           }
          ],
          "surface": [
           {
            "colorbar": {
             "outlinewidth": 0,
             "ticks": ""
            },
            "colorscale": [
             [
              0,
              "#0d0887"
             ],
             [
              0.1111111111111111,
              "#46039f"
             ],
             [
              0.2222222222222222,
              "#7201a8"
             ],
             [
              0.3333333333333333,
              "#9c179e"
             ],
             [
              0.4444444444444444,
              "#bd3786"
             ],
             [
              0.5555555555555556,
              "#d8576b"
             ],
             [
              0.6666666666666666,
              "#ed7953"
             ],
             [
              0.7777777777777778,
              "#fb9f3a"
             ],
             [
              0.8888888888888888,
              "#fdca26"
             ],
             [
              1,
              "#f0f921"
             ]
            ],
            "type": "surface"
           }
          ],
          "table": [
           {
            "cells": {
             "fill": {
              "color": "#EBF0F8"
             },
             "line": {
              "color": "white"
             }
            },
            "header": {
             "fill": {
              "color": "#C8D4E3"
             },
             "line": {
              "color": "white"
             }
            },
            "type": "table"
           }
          ]
         },
         "layout": {
          "annotationdefaults": {
           "arrowcolor": "#2a3f5f",
           "arrowhead": 0,
           "arrowwidth": 1
          },
          "colorscale": {
           "diverging": [
            [
             0,
             "#8e0152"
            ],
            [
             0.1,
             "#c51b7d"
            ],
            [
             0.2,
             "#de77ae"
            ],
            [
             0.3,
             "#f1b6da"
            ],
            [
             0.4,
             "#fde0ef"
            ],
            [
             0.5,
             "#f7f7f7"
            ],
            [
             0.6,
             "#e6f5d0"
            ],
            [
             0.7,
             "#b8e186"
            ],
            [
             0.8,
             "#7fbc41"
            ],
            [
             0.9,
             "#4d9221"
            ],
            [
             1,
             "#276419"
            ]
           ],
           "sequential": [
            [
             0,
             "#0d0887"
            ],
            [
             0.1111111111111111,
             "#46039f"
            ],
            [
             0.2222222222222222,
             "#7201a8"
            ],
            [
             0.3333333333333333,
             "#9c179e"
            ],
            [
             0.4444444444444444,
             "#bd3786"
            ],
            [
             0.5555555555555556,
             "#d8576b"
            ],
            [
             0.6666666666666666,
             "#ed7953"
            ],
            [
             0.7777777777777778,
             "#fb9f3a"
            ],
            [
             0.8888888888888888,
             "#fdca26"
            ],
            [
             1,
             "#f0f921"
            ]
           ],
           "sequentialminus": [
            [
             0,
             "#0d0887"
            ],
            [
             0.1111111111111111,
             "#46039f"
            ],
            [
             0.2222222222222222,
             "#7201a8"
            ],
            [
             0.3333333333333333,
             "#9c179e"
            ],
            [
             0.4444444444444444,
             "#bd3786"
            ],
            [
             0.5555555555555556,
             "#d8576b"
            ],
            [
             0.6666666666666666,
             "#ed7953"
            ],
            [
             0.7777777777777778,
             "#fb9f3a"
            ],
            [
             0.8888888888888888,
             "#fdca26"
            ],
            [
             1,
             "#f0f921"
            ]
           ]
          },
          "colorway": [
           "#636efa",
           "#EF553B",
           "#00cc96",
           "#ab63fa",
           "#FFA15A",
           "#19d3f3",
           "#FF6692",
           "#B6E880",
           "#FF97FF",
           "#FECB52"
          ],
          "font": {
           "color": "#2a3f5f"
          },
          "geo": {
           "bgcolor": "white",
           "lakecolor": "white",
           "landcolor": "#E5ECF6",
           "showlakes": true,
           "showland": true,
           "subunitcolor": "white"
          },
          "hoverlabel": {
           "align": "left"
          },
          "hovermode": "closest",
          "mapbox": {
           "style": "light"
          },
          "paper_bgcolor": "white",
          "plot_bgcolor": "#E5ECF6",
          "polar": {
           "angularaxis": {
            "gridcolor": "white",
            "linecolor": "white",
            "ticks": ""
           },
           "bgcolor": "#E5ECF6",
           "radialaxis": {
            "gridcolor": "white",
            "linecolor": "white",
            "ticks": ""
           }
          },
          "scene": {
           "xaxis": {
            "backgroundcolor": "#E5ECF6",
            "gridcolor": "white",
            "gridwidth": 2,
            "linecolor": "white",
            "showbackground": true,
            "ticks": "",
            "zerolinecolor": "white"
           },
           "yaxis": {
            "backgroundcolor": "#E5ECF6",
            "gridcolor": "white",
            "gridwidth": 2,
            "linecolor": "white",
            "showbackground": true,
            "ticks": "",
            "zerolinecolor": "white"
           },
           "zaxis": {
            "backgroundcolor": "#E5ECF6",
            "gridcolor": "white",
            "gridwidth": 2,
            "linecolor": "white",
            "showbackground": true,
            "ticks": "",
            "zerolinecolor": "white"
           }
          },
          "shapedefaults": {
           "line": {
            "color": "#2a3f5f"
           }
          },
          "ternary": {
           "aaxis": {
            "gridcolor": "white",
            "linecolor": "white",
            "ticks": ""
           },
           "baxis": {
            "gridcolor": "white",
            "linecolor": "white",
            "ticks": ""
           },
           "bgcolor": "#E5ECF6",
           "caxis": {
            "gridcolor": "white",
            "linecolor": "white",
            "ticks": ""
           }
          },
          "title": {
           "x": 0.05
          },
          "xaxis": {
           "automargin": true,
           "gridcolor": "white",
           "linecolor": "white",
           "ticks": "",
           "zerolinecolor": "white",
           "zerolinewidth": 2
          },
          "yaxis": {
           "automargin": true,
           "gridcolor": "white",
           "linecolor": "white",
           "ticks": "",
           "zerolinecolor": "white",
           "zerolinewidth": 2
          }
         }
        },
        "width": 1200
       }
      },
      "text/html": [
       "<div>\n",
       "        \n",
       "        \n",
       "            <div id=\"74e21f5d-f02d-4a6e-a34c-e03f1ee7f777\" class=\"plotly-graph-div\" style=\"height:650px; width:1200px;\"></div>\n",
       "            <script type=\"text/javascript\">\n",
       "                require([\"plotly\"], function(Plotly) {\n",
       "                    window.PLOTLYENV=window.PLOTLYENV || {};\n",
       "                    \n",
       "                if (document.getElementById(\"74e21f5d-f02d-4a6e-a34c-e03f1ee7f777\")) {\n",
       "                    Plotly.newPlot(\n",
       "                        '74e21f5d-f02d-4a6e-a34c-e03f1ee7f777',\n",
       "                        [{\"cells\": {\"height\": 40, \"values\": [[[\"fabryki\", \"portland\", \"cementu\"], [\"wniebowzi\\u0119cia\", \"naj\\u015bwi\\u0119tszej\", \"maryi\"], [\"naj\\u015bwi\\u0119tszej\", \"maryi\", \"panny\"], [\"suthma\", \"eegcou\", \"eok\"], [\"przekazowi\", \"pieni\\u0119\\u017cnemu\", \"towarzyszy\\u0142y\"], [\"wirusowych\", \"gor\\u0105czek\", \"krwotocznych\"], [\"nagminnemu\", \"pora\\u017ceniu\", \"dzieci\\u0119cemu\"], [\"chleb\", \"\\u015bwi\\u0119toja\\u0144ski\", \"str\\u0105kowy\"], [\"implantacji\", \"stymulatora\", \"nerwu\"], [\"prosimy\", \"uwa\\u017cnie\", \"przeczyta\\u0107\"]], [31.872699325377354, 31.872699325377354, 31.872699325377354, 31.872699325377354, 31.872699325377354, 31.872699325377354, 31.872699325377354, 31.872699325377354, 31.872699325377354, 31.872699325377354], [[\"pi\\u0142ce\", \"no\\u017cnej\", \"uefa\"], [\"profilem\", \"zaufanym\", \"epuap\"], [\"religijne\", \"uroczysto\\u015bci\", \"pogrzebowe\"], [\"fina\\u0142owego\", \"turnieju\", \"mistrzostw\"], [\"potwierdzonym\", \"profilem\", \"zaufanym\"], [\"turnieju\", \"mistrzostw\", \"europy\"], [\"gro\\u017c\\u0105c\\u0105\", \"jemu\", \"samemu\"], [\"bankowemu\", \"funduszowi\", \"gwarancyjnemu\"], [\"komunalne\", \"osady\", \"\\u015bciekowe\"], [\"konfesyjne\", \"nauczanie\", \"religii\"]], [27.55491435712318, 27.53655710160481, 27.495971821489732, 27.477622682821533, 27.219022066003348, 27.215258418354043, 26.612955878500447, 26.54591422714476, 26.515142568478005, 26.492669712625947], [[\"o\", \"kt\\u00f3rych\", \"mowa\"], [\"o\", \"kt\\u00f3rym\", \"mowa\"], [\"kt\\u00f3rych\", \"mowa\", \"w\"], [\"w\\u0142a\\u015bciwy\", \"do\", \"spraw\"], [\"o\", \"kt\\u00f3rej\", \"mowa\"], [\"kt\\u00f3rym\", \"mowa\", \"w\"], [\"ustawie\", \"z\", \"dnia\"], [\"zast\\u0119puje\", \"si\\u0119\", \"wyrazami\"], [\"minister\", \"w\\u0142a\\u015bciwy\", \"do\"], [\"wej\\u015bcia\", \"w\", \"\\u017cycie\"]], [92100.04972834075, 62646.7332030165, 47739.06848574327, 44653.074728556625, 35850.49113124134, 32449.770015804836, 31176.668053809528, 25215.325587729756, 24519.717879464166, 23589.36245948675]]}, \"columnwidth\": [120, 70, 120, 70, 70, 70], \"header\": {\"height\": 10, \"values\": [\"PMI\", \"PMI value\", \"PMI>=5\", \"PMI>=5 value\", \"LLR\", \"LLR value\"]}, \"type\": \"table\"}],\n",
       "                        {\"height\": 650, \"template\": {\"data\": {\"bar\": [{\"error_x\": {\"color\": \"#2a3f5f\"}, \"error_y\": {\"color\": \"#2a3f5f\"}, \"marker\": {\"line\": {\"color\": \"#E5ECF6\", \"width\": 0.5}}, \"type\": \"bar\"}], \"barpolar\": [{\"marker\": {\"line\": {\"color\": \"#E5ECF6\", \"width\": 0.5}}, \"type\": \"barpolar\"}], \"carpet\": [{\"aaxis\": {\"endlinecolor\": \"#2a3f5f\", \"gridcolor\": \"white\", \"linecolor\": \"white\", \"minorgridcolor\": \"white\", \"startlinecolor\": \"#2a3f5f\"}, \"baxis\": {\"endlinecolor\": \"#2a3f5f\", \"gridcolor\": \"white\", \"linecolor\": \"white\", \"minorgridcolor\": \"white\", \"startlinecolor\": \"#2a3f5f\"}, \"type\": \"carpet\"}], \"choropleth\": [{\"colorbar\": {\"outlinewidth\": 0, \"ticks\": \"\"}, \"type\": \"choropleth\"}], \"contour\": [{\"colorbar\": {\"outlinewidth\": 0, \"ticks\": \"\"}, \"colorscale\": [[0.0, \"#0d0887\"], [0.1111111111111111, \"#46039f\"], [0.2222222222222222, \"#7201a8\"], [0.3333333333333333, \"#9c179e\"], [0.4444444444444444, \"#bd3786\"], [0.5555555555555556, \"#d8576b\"], [0.6666666666666666, \"#ed7953\"], [0.7777777777777778, \"#fb9f3a\"], [0.8888888888888888, \"#fdca26\"], [1.0, \"#f0f921\"]], \"type\": \"contour\"}], \"contourcarpet\": [{\"colorbar\": {\"outlinewidth\": 0, \"ticks\": \"\"}, \"type\": \"contourcarpet\"}], \"heatmap\": [{\"colorbar\": {\"outlinewidth\": 0, \"ticks\": \"\"}, \"colorscale\": [[0.0, \"#0d0887\"], [0.1111111111111111, \"#46039f\"], [0.2222222222222222, \"#7201a8\"], [0.3333333333333333, \"#9c179e\"], [0.4444444444444444, \"#bd3786\"], [0.5555555555555556, \"#d8576b\"], [0.6666666666666666, \"#ed7953\"], [0.7777777777777778, \"#fb9f3a\"], [0.8888888888888888, \"#fdca26\"], [1.0, \"#f0f921\"]], \"type\": \"heatmap\"}], \"heatmapgl\": [{\"colorbar\": {\"outlinewidth\": 0, \"ticks\": \"\"}, \"colorscale\": [[0.0, \"#0d0887\"], [0.1111111111111111, \"#46039f\"], [0.2222222222222222, \"#7201a8\"], [0.3333333333333333, \"#9c179e\"], [0.4444444444444444, \"#bd3786\"], [0.5555555555555556, \"#d8576b\"], [0.6666666666666666, \"#ed7953\"], [0.7777777777777778, \"#fb9f3a\"], [0.8888888888888888, \"#fdca26\"], [1.0, \"#f0f921\"]], \"type\": \"heatmapgl\"}], \"histogram\": [{\"marker\": {\"colorbar\": {\"outlinewidth\": 0, \"ticks\": \"\"}}, \"type\": \"histogram\"}], \"histogram2d\": [{\"colorbar\": {\"outlinewidth\": 0, \"ticks\": \"\"}, \"colorscale\": [[0.0, \"#0d0887\"], [0.1111111111111111, \"#46039f\"], [0.2222222222222222, \"#7201a8\"], [0.3333333333333333, \"#9c179e\"], [0.4444444444444444, \"#bd3786\"], [0.5555555555555556, \"#d8576b\"], [0.6666666666666666, \"#ed7953\"], [0.7777777777777778, \"#fb9f3a\"], [0.8888888888888888, \"#fdca26\"], [1.0, \"#f0f921\"]], \"type\": \"histogram2d\"}], \"histogram2dcontour\": [{\"colorbar\": {\"outlinewidth\": 0, \"ticks\": \"\"}, \"colorscale\": [[0.0, \"#0d0887\"], [0.1111111111111111, \"#46039f\"], [0.2222222222222222, \"#7201a8\"], [0.3333333333333333, \"#9c179e\"], [0.4444444444444444, \"#bd3786\"], [0.5555555555555556, \"#d8576b\"], [0.6666666666666666, \"#ed7953\"], [0.7777777777777778, \"#fb9f3a\"], [0.8888888888888888, \"#fdca26\"], [1.0, \"#f0f921\"]], \"type\": \"histogram2dcontour\"}], \"mesh3d\": [{\"colorbar\": {\"outlinewidth\": 0, \"ticks\": \"\"}, \"type\": \"mesh3d\"}], \"parcoords\": [{\"line\": {\"colorbar\": {\"outlinewidth\": 0, \"ticks\": \"\"}}, \"type\": \"parcoords\"}], \"scatter\": [{\"marker\": {\"colorbar\": {\"outlinewidth\": 0, \"ticks\": \"\"}}, \"type\": \"scatter\"}], \"scatter3d\": [{\"line\": {\"colorbar\": {\"outlinewidth\": 0, \"ticks\": \"\"}}, \"marker\": {\"colorbar\": {\"outlinewidth\": 0, \"ticks\": \"\"}}, \"type\": \"scatter3d\"}], \"scattercarpet\": [{\"marker\": {\"colorbar\": {\"outlinewidth\": 0, \"ticks\": \"\"}}, \"type\": \"scattercarpet\"}], \"scattergeo\": [{\"marker\": {\"colorbar\": {\"outlinewidth\": 0, \"ticks\": \"\"}}, \"type\": \"scattergeo\"}], \"scattergl\": [{\"marker\": {\"colorbar\": {\"outlinewidth\": 0, \"ticks\": \"\"}}, \"type\": \"scattergl\"}], \"scattermapbox\": [{\"marker\": {\"colorbar\": {\"outlinewidth\": 0, \"ticks\": \"\"}}, \"type\": \"scattermapbox\"}], \"scatterpolar\": [{\"marker\": {\"colorbar\": {\"outlinewidth\": 0, \"ticks\": \"\"}}, \"type\": \"scatterpolar\"}], \"scatterpolargl\": [{\"marker\": {\"colorbar\": {\"outlinewidth\": 0, \"ticks\": \"\"}}, \"type\": \"scatterpolargl\"}], \"scatterternary\": [{\"marker\": {\"colorbar\": {\"outlinewidth\": 0, \"ticks\": \"\"}}, \"type\": \"scatterternary\"}], \"surface\": [{\"colorbar\": {\"outlinewidth\": 0, \"ticks\": \"\"}, \"colorscale\": [[0.0, \"#0d0887\"], [0.1111111111111111, \"#46039f\"], [0.2222222222222222, \"#7201a8\"], [0.3333333333333333, \"#9c179e\"], [0.4444444444444444, \"#bd3786\"], [0.5555555555555556, \"#d8576b\"], [0.6666666666666666, \"#ed7953\"], [0.7777777777777778, \"#fb9f3a\"], [0.8888888888888888, \"#fdca26\"], [1.0, \"#f0f921\"]], \"type\": \"surface\"}], \"table\": [{\"cells\": {\"fill\": {\"color\": \"#EBF0F8\"}, \"line\": {\"color\": \"white\"}}, \"header\": {\"fill\": {\"color\": \"#C8D4E3\"}, \"line\": {\"color\": \"white\"}}, \"type\": \"table\"}]}, \"layout\": {\"annotationdefaults\": {\"arrowcolor\": \"#2a3f5f\", \"arrowhead\": 0, \"arrowwidth\": 1}, \"colorscale\": {\"diverging\": [[0, \"#8e0152\"], [0.1, \"#c51b7d\"], [0.2, \"#de77ae\"], [0.3, \"#f1b6da\"], [0.4, \"#fde0ef\"], [0.5, \"#f7f7f7\"], [0.6, \"#e6f5d0\"], [0.7, \"#b8e186\"], [0.8, \"#7fbc41\"], [0.9, \"#4d9221\"], [1, \"#276419\"]], \"sequential\": [[0.0, \"#0d0887\"], [0.1111111111111111, \"#46039f\"], [0.2222222222222222, \"#7201a8\"], [0.3333333333333333, \"#9c179e\"], [0.4444444444444444, \"#bd3786\"], [0.5555555555555556, \"#d8576b\"], [0.6666666666666666, \"#ed7953\"], [0.7777777777777778, \"#fb9f3a\"], [0.8888888888888888, \"#fdca26\"], [1.0, \"#f0f921\"]], \"sequentialminus\": [[0.0, \"#0d0887\"], [0.1111111111111111, \"#46039f\"], [0.2222222222222222, \"#7201a8\"], [0.3333333333333333, \"#9c179e\"], [0.4444444444444444, \"#bd3786\"], [0.5555555555555556, \"#d8576b\"], [0.6666666666666666, \"#ed7953\"], [0.7777777777777778, \"#fb9f3a\"], [0.8888888888888888, \"#fdca26\"], [1.0, \"#f0f921\"]]}, \"colorway\": [\"#636efa\", \"#EF553B\", \"#00cc96\", \"#ab63fa\", \"#FFA15A\", \"#19d3f3\", \"#FF6692\", \"#B6E880\", \"#FF97FF\", \"#FECB52\"], \"font\": {\"color\": \"#2a3f5f\"}, \"geo\": {\"bgcolor\": \"white\", \"lakecolor\": \"white\", \"landcolor\": \"#E5ECF6\", \"showlakes\": true, \"showland\": true, \"subunitcolor\": \"white\"}, \"hoverlabel\": {\"align\": \"left\"}, \"hovermode\": \"closest\", \"mapbox\": {\"style\": \"light\"}, \"paper_bgcolor\": \"white\", \"plot_bgcolor\": \"#E5ECF6\", \"polar\": {\"angularaxis\": {\"gridcolor\": \"white\", \"linecolor\": \"white\", \"ticks\": \"\"}, \"bgcolor\": \"#E5ECF6\", \"radialaxis\": {\"gridcolor\": \"white\", \"linecolor\": \"white\", \"ticks\": \"\"}}, \"scene\": {\"xaxis\": {\"backgroundcolor\": \"#E5ECF6\", \"gridcolor\": \"white\", \"gridwidth\": 2, \"linecolor\": \"white\", \"showbackground\": true, \"ticks\": \"\", \"zerolinecolor\": \"white\"}, \"yaxis\": {\"backgroundcolor\": \"#E5ECF6\", \"gridcolor\": \"white\", \"gridwidth\": 2, \"linecolor\": \"white\", \"showbackground\": true, \"ticks\": \"\", \"zerolinecolor\": \"white\"}, \"zaxis\": {\"backgroundcolor\": \"#E5ECF6\", \"gridcolor\": \"white\", \"gridwidth\": 2, \"linecolor\": \"white\", \"showbackground\": true, \"ticks\": \"\", \"zerolinecolor\": \"white\"}}, \"shapedefaults\": {\"line\": {\"color\": \"#2a3f5f\"}}, \"ternary\": {\"aaxis\": {\"gridcolor\": \"white\", \"linecolor\": \"white\", \"ticks\": \"\"}, \"baxis\": {\"gridcolor\": \"white\", \"linecolor\": \"white\", \"ticks\": \"\"}, \"bgcolor\": \"#E5ECF6\", \"caxis\": {\"gridcolor\": \"white\", \"linecolor\": \"white\", \"ticks\": \"\"}}, \"title\": {\"x\": 0.05}, \"xaxis\": {\"automargin\": true, \"gridcolor\": \"white\", \"linecolor\": \"white\", \"ticks\": \"\", \"zerolinecolor\": \"white\", \"zerolinewidth\": 2}, \"yaxis\": {\"automargin\": true, \"gridcolor\": \"white\", \"linecolor\": \"white\", \"ticks\": \"\", \"zerolinecolor\": \"white\", \"zerolinewidth\": 2}}}, \"width\": 1200},\n",
       "                        {\"responsive\": true}\n",
       "                    ).then(function(){\n",
       "                            \n",
       "var gd = document.getElementById('74e21f5d-f02d-4a6e-a34c-e03f1ee7f777');\n",
       "var x = new MutationObserver(function (mutations, observer) {{\n",
       "        var display = window.getComputedStyle(gd).display;\n",
       "        if (!display || display === 'none') {{\n",
       "            console.log([gd, 'removed!']);\n",
       "            Plotly.purge(gd);\n",
       "            observer.disconnect();\n",
       "        }}\n",
       "}});\n",
       "\n",
       "// Listen for the removal of the full notebook cells\n",
       "var notebookContainer = gd.closest('#notebook-container');\n",
       "if (notebookContainer) {{\n",
       "    x.observe(notebookContainer, {childList: true});\n",
       "}}\n",
       "\n",
       "// Listen for the clearing of the current output cell\n",
       "var outputEl = gd.closest('.output');\n",
       "if (outputEl) {{\n",
       "    x.observe(outputEl, {childList: true});\n",
       "}}\n",
       "\n",
       "                        })\n",
       "                };\n",
       "                });\n",
       "            </script>\n",
       "        </div>"
      ]
     },
     "metadata": {},
     "output_type": "display_data"
    }
   ],
   "source": [
    "display(HTML('<h1>Trigrams table</h1>'))\n",
    "\n",
    "fig = go.Figure(data=[go.Table(columnwidth = [120,70,120,70,70,70],\n",
    "    header=dict(values=['PMI', 'PMI value', 'PMI>=5', 'PMI>=5 value', 'LLR', 'LLR value'], \n",
    "    height=10), cells=dict(values=[list(trigram_PMI.keys())[:10], list(trigram_PMI.values())[:10],\n",
    "                                   list(trigram_PMI_leq5.keys())[:10], list(trigram_PMI_leq5.values())[:10],\n",
    "                                   list(trigram_LLR.keys())[:10], list(trigram_LLR.values())[:10]], height=40))])\n",
    "fig.update_layout(width=1200, height=650)\n",
    "fig.show()"
   ]
  },
  {
   "cell_type": "markdown",
   "metadata": {},
   "source": [
    "W przypadku trigramów w PMI otrzymano znacznie więcej ciekawych kolokacji, które są np. nazwą instytucji jak np. bank funduszu gwarancyjnego. Tak jak w poprzednim przypadku bigramy w PMI>=5 są dużo bardziej sensowne niż PMI oraz LLR. Dla LLR silne kolokacje stworzyły wyrażenia łącznikowe, ale nie jesteśmy już w stanie na ich podstawie stwierdzić, co było np. tematem ustawy, a przy PMI już jak najbardziej."
   ]
  },
  {
   "cell_type": "markdown",
   "metadata": {},
   "source": [
    "Trigramy dają rzeczywistą informację o sile kolokacji w stosunku do bigramów. Częściej są to wyrażenia, które są tym, co chcielibyśmy uzyskać np. Turniej Mistrzostw Europy itp., czyli wyrażenia niosące zupełnie inne znaczenie niż każde ze słów je tworzących."
   ]
  },
  {
   "cell_type": "markdown",
   "metadata": {},
   "source": [
    "1) Why do we have to filter the bigrams, rather than the token sequence?"
   ]
  },
  {
   "cell_type": "markdown",
   "metadata": {},
   "source": [
    "Ponieważ filtrowanie tokenów przez znalezieniem bigramów spowodowałoby utworzenie nieistniejących kolokacji. Na przykład zdanie: 'W ustawie z dn. 14 grudnia...' po usunięciu znaków niealfanumerycznych przed stworzeniem bigramów wyprodukowałoby bigram (dn, grudnia), który tak naprawdę nie istnieje."
   ]
  },
  {
   "cell_type": "markdown",
   "metadata": {},
   "source": [
    "2) Which measure (PMI, PMI with filtering, LLR) works better for the bigrams and which for the trigrams?"
   ]
  },
  {
   "cell_type": "markdown",
   "metadata": {},
   "source": [
    "Dla bigramów odpowiednią metodą wydaje się być PMI>=5, ale LLR także zwracało sensowne wyniki takie jak np. minister właściwy, dodaje się itp. Są to kolokacje na podstawie których można uzyskać jakieś dodatkowe informacje o tekście. Natomiast dla trigramów najlepszą metodą jest zdecydowanie PMI>=5 oraz PMI, ponieważ znajduje całe wyrażenia własne np. Wniebowzięcie Najświętszej Maryi, potwierdzony profil zaufany. Są to dane wprowadzające dużą wiedzą dodatkową na temat tekstu. Jednak wszystko zależy od tego co chcieliśmy uzyskać. Metoda LLR jest bardziej niezależna od tego, ile słów wchodzi w skład n-gramu, zawsze znajduje podobne kolokacje np. będące rozszerzeniem bigramu do trigramu."
   ]
  },
  {
   "cell_type": "markdown",
   "metadata": {},
   "source": [
    "3)What types of expressions are discovered by the methods."
   ]
  },
  {
   "cell_type": "markdown",
   "metadata": {},
   "source": [
    "PMI/PMI>=5 - imiona i nazwiska, nazwy świąt, wydarzeń sportowych, nazwy własne\n",
    "\n",
    "LLR - silne kolokacje słów będących łącznikami zdań np. w którym, o których itp."
   ]
  },
  {
   "cell_type": "markdown",
   "metadata": {},
   "source": [
    "4) Can you devise a different type of filtering that would yield better results?"
   ]
  },
  {
   "cell_type": "markdown",
   "metadata": {},
   "source": [
    "Można dokonać lepszej filtracji słów np. wyrzucić słowa krótsze niż 2 litery, wyrzucić tzw. stop words, pozbyć się słów najczęściej występujących równocześnie w wielu n-gramach, co wyeliminuje słowa typu których, które itp."
   ]
  }
 ],
 "metadata": {
  "kernelspec": {
   "display_name": "Python 3",
   "language": "python",
   "name": "python3"
  },
  "language_info": {
   "codemirror_mode": {
    "name": "ipython",
    "version": 3
   },
   "file_extension": ".py",
   "mimetype": "text/x-python",
   "name": "python",
   "nbconvert_exporter": "python",
   "pygments_lexer": "ipython3",
   "version": "3.7.3"
  }
 },
 "nbformat": 4,
 "nbformat_minor": 4
}
