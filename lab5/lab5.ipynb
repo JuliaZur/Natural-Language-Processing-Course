{
 "cells": [
  {
   "cell_type": "markdown",
   "metadata": {},
   "source": [
    "# Morphosyntactic tagging"
   ]
  },
  {
   "cell_type": "code",
   "execution_count": 1,
   "metadata": {},
   "outputs": [],
   "source": [
    "import requests\n",
    "import os\n",
    "import math"
   ]
  },
  {
   "cell_type": "code",
   "execution_count": 2,
   "metadata": {},
   "outputs": [],
   "source": [
    "files_names = []\n",
    "for file_name in os.listdir(\"../../ustawy\"):\n",
    "    if file_name.endswith(\".txt\"):\n",
    "        files_names.append(os.path.join(\"../../ustawy\", file_name))"
   ]
  },
  {
   "cell_type": "code",
   "execution_count": 3,
   "metadata": {},
   "outputs": [],
   "source": [
    "bigrams = {}\n",
    "tags = {}"
   ]
  },
  {
   "cell_type": "code",
   "execution_count": 4,
   "metadata": {},
   "outputs": [],
   "source": [
    "for file_name in files_names:\n",
    "    with open(file_name, encoding='utf-8') as file:\n",
    "        bill = file.read()\n",
    "        bill = bill.lower()\n",
    "        \n",
    "        results = requests.post('http://localhost:9200', data=bill.encode('UTF-8')).text\n",
    "        \n",
    "        lines = results.splitlines()\n",
    "        \n",
    "        prev_tag = None\n",
    "        for line in lines:\n",
    "            words = line.split()\n",
    "            if len(words) == 3:\n",
    "                word = words[0]\n",
    "                tag = words[1].split(':')[0]\n",
    "                tags[(word, tag)] = tags.get((word, tag),0) + 1\n",
    "                \n",
    "                if prev_tag is not None:\n",
    "                    bigrams[(prev_tag,(word, tag))] = bigrams.get((prev_tag,(word, tag)),0) + 1\n",
    "                    \n",
    "                prev_tag = (word, tag)\n"
   ]
  },
  {
   "cell_type": "code",
   "execution_count": 6,
   "metadata": {},
   "outputs": [
    {
     "data": {
      "text/plain": [
       "483827"
      ]
     },
     "execution_count": 6,
     "metadata": {},
     "output_type": "execute_result"
    }
   ],
   "source": [
    "len(bigrams)"
   ]
  },
  {
   "cell_type": "code",
   "execution_count": 8,
   "metadata": {},
   "outputs": [],
   "source": [
    "key_to_delete = []\n",
    "for key in bigrams.keys():\n",
    "    if not key[0][0].isalpha() or not key[1][0].isalpha():\n",
    "        key_to_delete.append(key)\n",
    "        \n",
    "for key in key_to_delete:\n",
    "    bigrams.pop(key, None)"
   ]
  },
  {
   "cell_type": "code",
   "execution_count": 9,
   "metadata": {},
   "outputs": [
    {
     "data": {
      "text/plain": [
       "365008"
      ]
     },
     "execution_count": 9,
     "metadata": {},
     "output_type": "execute_result"
    }
   ],
   "source": [
    "len(bigrams)"
   ]
  },
  {
   "cell_type": "markdown",
   "metadata": {},
   "source": [
    "## LLR"
   ]
  },
  {
   "cell_type": "code",
   "execution_count": 10,
   "metadata": {},
   "outputs": [],
   "source": [
    "def H(args, N):\n",
    "    res = 0\n",
    "    for k in args:\n",
    "        k /= N\n",
    "        k_eq_0 = 1 if k == 0 else 0\n",
    "        res += k * math.log(k + k_eq_0)\n",
    "    return res"
   ]
  },
  {
   "cell_type": "code",
   "execution_count": 11,
   "metadata": {},
   "outputs": [],
   "source": [
    "bigrams_LLR = {}\n",
    "bigrams_occurs = sum(bigrams.values())"
   ]
  },
  {
   "cell_type": "code",
   "execution_count": 12,
   "metadata": {},
   "outputs": [],
   "source": [
    "for bigram, AandB in bigrams.items():\n",
    "    (word1, tag1), (word2, tag2) = bigram\n",
    "    BnoA = tags[(word2, tag2)] - AandB\n",
    "    AnoB = tags[(word1, tag1)] - AandB\n",
    "    noAnoB = bigrams_occurs - (AandB + BnoA + AnoB)\n",
    "    LLR = 2 * bigrams_occurs * (H([AandB, BnoA, AnoB, noAnoB], bigrams_occurs) - \\\n",
    "                               H([AandB + BnoA, AnoB + noAnoB], bigrams_occurs) - \\\n",
    "                               H([AandB + AnoB, BnoA + noAnoB], bigrams_occurs))\n",
    "    bigrams_LLR[bigram] = LLR     "
   ]
  },
  {
   "cell_type": "code",
   "execution_count": 13,
   "metadata": {},
   "outputs": [],
   "source": [
    "bigrams_LLR = {k: v for k, v in sorted(bigrams_LLR.items(), key=lambda item: item[1], reverse=True)}"
   ]
  },
  {
   "cell_type": "code",
   "execution_count": 14,
   "metadata": {},
   "outputs": [
    {
     "name": "stdout",
     "output_type": "stream",
     "text": [
      "(('który', 'adj'), ('mowa', 'subst')) 248323.47813489943\n",
      "(('o', 'prep'), ('który', 'adj')) 163662.8380830866\n",
      "(('mowa', 'subst'), ('w', 'prep')) 149478.78490378824\n",
      "(('otrzymywać', 'fin'), ('brzmienie', 'subst')) 111105.82963924854\n",
      "(('minister', 'subst'), ('właściwy', 'adj')) 67763.46033475136\n",
      "(('w', 'prep'), ('artykuł', 'brev')) 67751.07338376575\n",
      "(('dodawać', 'fin'), ('się', 'qub')) 66927.24815087883\n",
      "(('w', 'prep'), ('ustęp', 'brev')) 56401.460472486884\n",
      "(('stosować', 'fin'), ('się', 'qub')) 52971.0157973974\n",
      "(('droga', 'subst'), ('rozporządzenie', 'subst')) 51680.8027317483\n"
     ]
    }
   ],
   "source": [
    "for bigram, llr in list(bigrams_LLR.items())[:10]:\n",
    "    print(str(bigram) + ' ' + str(llr))"
   ]
  },
  {
   "cell_type": "code",
   "execution_count": 15,
   "metadata": {},
   "outputs": [],
   "source": [
    "bigrams_part = {}\n",
    "for bigram, freq in bigrams.items():\n",
    "    (word1, tag1), (word2, tag2) = bigram\n",
    "    bigrams_part[(tag1, tag2)] = bigrams_part.get((tag1, tag2), 0) + freq"
   ]
  },
  {
   "cell_type": "code",
   "execution_count": 16,
   "metadata": {},
   "outputs": [],
   "source": [
    "bigrams_part = {k: v for k, v in sorted(bigrams_part.items(), key=lambda item: item[1], reverse=True)}"
   ]
  },
  {
   "cell_type": "code",
   "execution_count": 17,
   "metadata": {},
   "outputs": [
    {
     "name": "stdout",
     "output_type": "stream",
     "text": [
      "('prep', 'subst') 327378\n",
      "('subst', 'subst') 290104\n",
      "('subst', 'adj') 274761\n",
      "('adj', 'subst') 188238\n",
      "('subst', 'prep') 173254\n",
      "('subst', 'conj') 85145\n",
      "('conj', 'subst') 84393\n",
      "('prep', 'adj') 79459\n",
      "('ger', 'subst') 77510\n",
      "('prep', 'brev') 67230\n"
     ]
    }
   ],
   "source": [
    "for bigram, llr in list(bigrams_part.items())[:10]:\n",
    "    print(str(bigram) + ' ' + str(llr))"
   ]
  },
  {
   "cell_type": "code",
   "execution_count": 18,
   "metadata": {},
   "outputs": [],
   "source": [
    "bigrams_part_top5 = {}"
   ]
  },
  {
   "cell_type": "code",
   "execution_count": 19,
   "metadata": {},
   "outputs": [],
   "source": [
    "for category in list(bigrams_part.keys())[:10]:\n",
    "    cat_tag1, cat_tag2 = category\n",
    "    bigrams_part_top5[category] = [(word1, word2) for ((word1,tag1), (word2,tag2)) in list(bigrams.keys()) \n",
    "                                   if tag1 == cat_tag1 and tag2 == cat_tag2][:5]"
   ]
  },
  {
   "cell_type": "code",
   "execution_count": 20,
   "metadata": {},
   "outputs": [
    {
     "data": {
      "text/plain": [
       "[(('prep', 'subst'),\n",
       "  [('z', 'dzień'),\n",
       "   ('o', 'zmiana'),\n",
       "   ('w', 'ustawa'),\n",
       "   ('przez', 'osoba'),\n",
       "   ('poza', 'zakres')]),\n",
       " (('subst', 'subst'),\n",
       "  [('zmiana', 'ustawa'),\n",
       "   ('dzień', 'ogłoszenie'),\n",
       "   ('wzór', 'odznaka'),\n",
       "   ('pomoc', 'osoba'),\n",
       "   ('minister', 'sprawa')]),\n",
       " (('subst', 'adj'),\n",
       "  [('straż', 'pożarny'),\n",
       "   ('szkoła', 'państwowy'),\n",
       "   ('osoba', 'prawny'),\n",
       "   ('zakres', 'ustawowy'),\n",
       "   ('środek', 'finansowy')]),\n",
       " (('adj', 'subst'),\n",
       "  [('państwowy', 'straż'),\n",
       "   ('ustawowy', 'zadanie'),\n",
       "   ('właściwy', 'zleceniodawca'),\n",
       "   ('ten', 'tytuł'),\n",
       "   ('specjalny', 'jednostka')]),\n",
       " (('subst', 'prep'),\n",
       "  [('ustawa', 'z'),\n",
       "   ('ustawa', 'o'),\n",
       "   ('zleceniodawca', 'na'),\n",
       "   ('życie', 'po'),\n",
       "   ('dzień', 'od')]),\n",
       " (('subst', 'conj'),\n",
       "  [('zasada', 'i'),\n",
       "   ('życie', 'albo'),\n",
       "   ('zdrowie', 'lub'),\n",
       "   ('funkcjonariusz', 'oraz'),\n",
       "   ('warunek', 'i')]),\n",
       " (('conj', 'subst'),\n",
       "  [('a', 'środek'),\n",
       "   ('i', 'tryb'),\n",
       "   ('lub', 'szkoda'),\n",
       "   ('i', 'sposób'),\n",
       "   ('i', 'przetwór')]),\n",
       " (('prep', 'adj'),\n",
       "  [('o', 'państwowy'),\n",
       "   ('przez', 'właściwy'),\n",
       "   ('z', 'ten'),\n",
       "   ('o', 'który'),\n",
       "   ('do', 'bezpośredni')]),\n",
       " (('ger', 'subst'),\n",
       "  [('wykonywać', 'zadanie'),\n",
       "   ('nadawać', 'funkcjonariusz'),\n",
       "   ('rozporządzić', 'minister'),\n",
       "   ('użyć', 'środek'),\n",
       "   ('wyłączyć', 'ilość')]),\n",
       " (('prep', 'brev'),\n",
       "  [('w', 'artykuł'),\n",
       "   ('w', 'punkt'),\n",
       "   ('w', 'ustęp'),\n",
       "   ('u', 'south'),\n",
       "   ('po', 'ustęp')])]"
      ]
     },
     "execution_count": 20,
     "metadata": {},
     "output_type": "execute_result"
    }
   ],
   "source": [
    "list(bigrams_part_top5.items())"
   ]
  },
  {
   "cell_type": "markdown",
   "metadata": {},
   "source": [
    "# Opowiedzi"
   ]
  },
  {
   "cell_type": "markdown",
   "metadata": {},
   "source": [
    "#### 1) What types of bigrams have been found?"
   ]
  },
  {
   "cell_type": "markdown",
   "metadata": {},
   "source": [
    "W zakresie najczęściej powtarzających się par kategorii znalazły się zaimki z rzeczownikami i na odwrót (np. w dniu, ustawa o), podwójne rzeczowniki (np. zmiana ustawy), rzeczowniki z przymiotnikami i na odwrót (np. straż pożarna, państwowa straż), rzeczowniki ze spójnikami i na odwrót (np. zasada i, a środek), zaimki z przymiotnikami (np. o państwowy), rzeczownik odczasownikowy z rzeczownikiem (np. wykonywać zadanie) oraz zaimki ze skrótowcami (np. w art). Zdecydowanie rzeczowniki przeważają w najczęściej pojawiających się kolokacjach, a po nich najczęstsze są także zaimki."
   ]
  },
  {
   "cell_type": "markdown",
   "metadata": {},
   "source": [
    "#### 2) Which of the category-pairs indicate valuable multiword expressions? Do they have anything in common?"
   ]
  },
  {
   "cell_type": "markdown",
   "metadata": {},
   "source": [
    "Najwięcej wnoszą kategorie rzeczownik+rzeczownik, rzeczownik+przymiotnik oraz przymiotnik+rzeczownik. Ta pierwsza grupa zawiera informacje takie jak 'minister spraw', czyli zawiera m.in. nazwy własne, z czego można wywnioskować kogo lub czego dotyczy ustawa. W drugiej grupie zawarły się kolokacje takie jak 'straż pożarna', czyli otrzymujemy znów informacje kogo/czego może dotyczyć ustawa. W ostatniej grupie znalazły się podobne kolokacje jak w poprzedniej kategorii, ale są to takie nazwy, w których stawiamy przymiotnik przed rzeczownikiem, czyli np. 'państwowa straż'. Ta ostatnia kategoria jest najmniej sensowna z wymienionych, bo będzie zawierać wszystkie opisy rzeczowników, które mogą nic nie wnosić. Cechą wspólną tych grup jest to, że wszystkie zawierają rzeczownik i potrafią opisywać nazwy własne."
   ]
  },
  {
   "cell_type": "markdown",
   "metadata": {},
   "source": [
    "#### 3) Which signal: LLR score or syntactic category is more useful for determining genuine multiword expressions?"
   ]
  },
  {
   "cell_type": "markdown",
   "metadata": {},
   "source": [
    "W tym wypadku połączenie tych metod (zkategoryzowanie i na podstawie LLR wyciągnięcie 5 pierwszych bigramów) okazało się dostarczyć najwięcej informacji o tym, czego i kogo dotyczy ustawa. Dzięki kategoriom możemy ograniczyć analizę tylko do tych typów, które rzeczywiście coś wnoszą i pominąć np. spójniki, których zwykle jest bardzo dużo przez co analiza trwa dłużej i nic nie dodają w kwestii tematu. LLR pozwala natomiast wyłuskać najczęściej pojawiające się kolokacje, co pozwala określić główny temat tekstu. "
   ]
  },
  {
   "cell_type": "markdown",
   "metadata": {},
   "source": [
    "#### 4) Can you describe a different use-case where the morphosyntactic category is useful for resolving a real-world problem?"
   ]
  },
  {
   "cell_type": "markdown",
   "metadata": {},
   "source": [
    "Kategoryzacja tekstu pod względem tematyki (np. polityka, nauka), można określić, jak bardzo tekst dotyczy danej dziedziny, co można użyć np. w wyszukiwarkach internetowych. Innym zastosowaniem może być automatyczne tagowanie tekstu albo podpowiadanie kolejnego słowa w edytorach tekstu."
   ]
  }
 ],
 "metadata": {
  "kernelspec": {
   "display_name": "Python 3",
   "language": "python",
   "name": "python3"
  },
  "language_info": {
   "codemirror_mode": {
    "name": "ipython",
    "version": 3
   },
   "file_extension": ".py",
   "mimetype": "text/x-python",
   "name": "python",
   "nbconvert_exporter": "python",
   "pygments_lexer": "ipython3",
   "version": "3.7.3"
  }
 },
 "nbformat": 4,
 "nbformat_minor": 4
}
